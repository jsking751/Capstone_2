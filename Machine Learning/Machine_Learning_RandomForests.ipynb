{
 "cells": [
  {
   "cell_type": "markdown",
   "metadata": {},
   "source": [
    "## Machine Learning - Random Forests\n",
    "***\n",
    "Using what I learned in the previous machine learning models, I am now going to try a Random Forest Regressor and Random Forest Classifier.  `Targets by raw counts` worked best for regression and `targets by percent of total plan selections` worked best for classifiers.  As such, I will be using the appropriate datasets for each Random Forest Model"
   ]
  },
  {
   "cell_type": "code",
   "execution_count": 3,
   "metadata": {
    "collapsed": true
   },
   "outputs": [],
   "source": [
    "# Import necessary tools\n",
    "import pandas as pd\n",
    "import numpy as np\n",
    "import seaborn as sns\n",
    "import matplotlib.pyplot as plt\n",
    "from sklearn.ensemble import RandomForestRegressor, RandomForestClassifier\n",
    "from sklearn.metrics import accuracy_score, mean_squared_error\n",
    "from sklearn.model_selection import GridSearchCV, train_test_split\n",
    "from sklearn.ensemble import AdaBoostClassifier\n",
    "\n",
    "# Make plots pretty\n",
    "sns.set()"
   ]
  },
  {
   "cell_type": "markdown",
   "metadata": {},
   "source": [
    "# Random Forest Regressor"
   ]
  },
  {
   "cell_type": "code",
   "execution_count": 4,
   "metadata": {},
   "outputs": [
    {
     "data": {
      "text/html": [
       "<div>\n",
       "<style>\n",
       "    .dataframe thead tr:only-child th {\n",
       "        text-align: right;\n",
       "    }\n",
       "\n",
       "    .dataframe thead th {\n",
       "        text-align: left;\n",
       "    }\n",
       "\n",
       "    .dataframe tbody tr th {\n",
       "        vertical-align: top;\n",
       "    }\n",
       "</style>\n",
       "<table border=\"1\" class=\"dataframe\">\n",
       "  <thead>\n",
       "    <tr style=\"text-align: right;\">\n",
       "      <th></th>\n",
       "      <th>cfc</th>\n",
       "      <th>state</th>\n",
       "      <th>county</th>\n",
       "      <th>0-17</th>\n",
       "      <th>18-25</th>\n",
       "      <th>26-34</th>\n",
       "      <th>35-44</th>\n",
       "      <th>45-54</th>\n",
       "      <th>55-64</th>\n",
       "      <th>65+</th>\n",
       "      <th>...</th>\n",
       "      <th>platinum</th>\n",
       "      <th>gold</th>\n",
       "      <th>silver</th>\n",
       "      <th>bronze</th>\n",
       "      <th>catastrophic</th>\n",
       "      <th>new</th>\n",
       "      <th>active_renew</th>\n",
       "      <th>auto_renew</th>\n",
       "      <th>tps</th>\n",
       "      <th>Year</th>\n",
       "    </tr>\n",
       "  </thead>\n",
       "  <tbody>\n",
       "    <tr>\n",
       "      <th>0</th>\n",
       "      <td>12109</td>\n",
       "      <td>FL</td>\n",
       "      <td>St. Johns County</td>\n",
       "      <td>1259.0</td>\n",
       "      <td>1093.0</td>\n",
       "      <td>1566.0</td>\n",
       "      <td>1684.0</td>\n",
       "      <td>2354.0</td>\n",
       "      <td>2963.0</td>\n",
       "      <td>41.0</td>\n",
       "      <td>...</td>\n",
       "      <td>1128.0</td>\n",
       "      <td>594.0</td>\n",
       "      <td>7209.0</td>\n",
       "      <td>1967.0</td>\n",
       "      <td>62.0</td>\n",
       "      <td>5875.0</td>\n",
       "      <td>3783.0</td>\n",
       "      <td>1302.0</td>\n",
       "      <td>10960.0</td>\n",
       "      <td>2015</td>\n",
       "    </tr>\n",
       "    <tr>\n",
       "      <th>1</th>\n",
       "      <td>10001</td>\n",
       "      <td>DE</td>\n",
       "      <td>Kent County</td>\n",
       "      <td>413.0</td>\n",
       "      <td>284.0</td>\n",
       "      <td>529.0</td>\n",
       "      <td>530.0</td>\n",
       "      <td>771.0</td>\n",
       "      <td>872.0</td>\n",
       "      <td>18.0</td>\n",
       "      <td>...</td>\n",
       "      <td>107.0</td>\n",
       "      <td>528.0</td>\n",
       "      <td>2136.0</td>\n",
       "      <td>629.0</td>\n",
       "      <td>17.0</td>\n",
       "      <td>1853.0</td>\n",
       "      <td>655.0</td>\n",
       "      <td>909.0</td>\n",
       "      <td>3417.0</td>\n",
       "      <td>2015</td>\n",
       "    </tr>\n",
       "    <tr>\n",
       "      <th>2</th>\n",
       "      <td>10003</td>\n",
       "      <td>DE</td>\n",
       "      <td>New Castle County</td>\n",
       "      <td>1964.0</td>\n",
       "      <td>1275.0</td>\n",
       "      <td>2487.0</td>\n",
       "      <td>2333.0</td>\n",
       "      <td>3288.0</td>\n",
       "      <td>3494.0</td>\n",
       "      <td>126.0</td>\n",
       "      <td>...</td>\n",
       "      <td>679.0</td>\n",
       "      <td>2406.0</td>\n",
       "      <td>8835.0</td>\n",
       "      <td>2943.0</td>\n",
       "      <td>104.0</td>\n",
       "      <td>7453.0</td>\n",
       "      <td>3340.0</td>\n",
       "      <td>4174.0</td>\n",
       "      <td>14967.0</td>\n",
       "      <td>2015</td>\n",
       "    </tr>\n",
       "    <tr>\n",
       "      <th>3</th>\n",
       "      <td>10005</td>\n",
       "      <td>DE</td>\n",
       "      <td>Sussex County</td>\n",
       "      <td>794.0</td>\n",
       "      <td>436.0</td>\n",
       "      <td>805.0</td>\n",
       "      <td>929.0</td>\n",
       "      <td>1453.0</td>\n",
       "      <td>2204.0</td>\n",
       "      <td>30.0</td>\n",
       "      <td>...</td>\n",
       "      <td>257.0</td>\n",
       "      <td>1144.0</td>\n",
       "      <td>4198.0</td>\n",
       "      <td>1032.0</td>\n",
       "      <td>20.0</td>\n",
       "      <td>3408.0</td>\n",
       "      <td>1531.0</td>\n",
       "      <td>1712.0</td>\n",
       "      <td>6651.0</td>\n",
       "      <td>2015</td>\n",
       "    </tr>\n",
       "    <tr>\n",
       "      <th>4</th>\n",
       "      <td>12001</td>\n",
       "      <td>FL</td>\n",
       "      <td>Alachua County</td>\n",
       "      <td>726.0</td>\n",
       "      <td>2161.0</td>\n",
       "      <td>2734.0</td>\n",
       "      <td>1867.0</td>\n",
       "      <td>2250.0</td>\n",
       "      <td>2940.0</td>\n",
       "      <td>41.0</td>\n",
       "      <td>...</td>\n",
       "      <td>1188.0</td>\n",
       "      <td>429.0</td>\n",
       "      <td>9169.0</td>\n",
       "      <td>1848.0</td>\n",
       "      <td>85.0</td>\n",
       "      <td>6443.0</td>\n",
       "      <td>4378.0</td>\n",
       "      <td>1898.0</td>\n",
       "      <td>12719.0</td>\n",
       "      <td>2015</td>\n",
       "    </tr>\n",
       "  </tbody>\n",
       "</table>\n",
       "<p>5 rows × 41 columns</p>\n",
       "</div>"
      ],
      "text/plain": [
       "     cfc state             county    0-17   18-25   26-34   35-44   45-54  \\\n",
       "0  12109    FL   St. Johns County  1259.0  1093.0  1566.0  1684.0  2354.0   \n",
       "1  10001    DE        Kent County   413.0   284.0   529.0   530.0   771.0   \n",
       "2  10003    DE  New Castle County  1964.0  1275.0  2487.0  2333.0  3288.0   \n",
       "3  10005    DE      Sussex County   794.0   436.0   805.0   929.0  1453.0   \n",
       "4  12001    FL     Alachua County   726.0  2161.0  2734.0  1867.0  2250.0   \n",
       "\n",
       "    55-64    65+  ...   platinum    gold  silver  bronze  catastrophic  \\\n",
       "0  2963.0   41.0  ...     1128.0   594.0  7209.0  1967.0          62.0   \n",
       "1   872.0   18.0  ...      107.0   528.0  2136.0   629.0          17.0   \n",
       "2  3494.0  126.0  ...      679.0  2406.0  8835.0  2943.0         104.0   \n",
       "3  2204.0   30.0  ...      257.0  1144.0  4198.0  1032.0          20.0   \n",
       "4  2940.0   41.0  ...     1188.0   429.0  9169.0  1848.0          85.0   \n",
       "\n",
       "      new  active_renew  auto_renew      tps  Year  \n",
       "0  5875.0        3783.0      1302.0  10960.0  2015  \n",
       "1  1853.0         655.0       909.0   3417.0  2015  \n",
       "2  7453.0        3340.0      4174.0  14967.0  2015  \n",
       "3  3408.0        1531.0      1712.0   6651.0  2015  \n",
       "4  6443.0        4378.0      1898.0  12719.0  2015  \n",
       "\n",
       "[5 rows x 41 columns]"
      ]
     },
     "execution_count": 4,
     "metadata": {},
     "output_type": "execute_result"
    }
   ],
   "source": [
    "# Read in Data\n",
    "df = pd.read_csv('Combo_Cleaned.csv')\n",
    "df.drop('Unnamed: 0', axis=1, inplace=True)\n",
    "df.head()"
   ]
  },
  {
   "cell_type": "code",
   "execution_count": 5,
   "metadata": {
    "collapsed": true
   },
   "outputs": [],
   "source": [
    "# Create our X and y for the model with individual y's for each metallic tier.\n",
    "\n",
    "# Our X Dropping the Metallic Tier Targets, String Data, and Categorical Year\n",
    "X = df.drop(['cfc','state','county','platinum','gold','silver','bronze','catastrophic', 'Year',\n",
    "             'tps'], axis=1).values\n",
    "\n",
    "# Individual y's for Each Target Data\n",
    "ycat = df.catastrophic.values\n",
    "ybro = df.bronze.values\n",
    "ysil = df.silver.values\n",
    "ygold = df.gold.values\n",
    "yplat = df.platinum.values\n",
    "\n",
    "# Create List of Target Values and Names of Target Values\n",
    "ys=[ycat, ybro, ysil, ygold, yplat]\n",
    "ys_name = ['Catastrophic','Bronze','Silver','Gold','Platinum']"
   ]
  },
  {
   "cell_type": "code",
   "execution_count": 6,
   "metadata": {
    "collapsed": true
   },
   "outputs": [],
   "source": [
    "# Instantiate RandomForestRegressor for hyperparameter tuning.\n",
    "rfr = RandomForestRegressor(random_state=42)\n",
    "\n",
    "# Dictionary of hyperparameters to tune.\n",
    "params_rfr = {\n",
    "    'n_estimators':[300,400,500,600],\n",
    "    'max_depth':[1,2,3,4,5,6],\n",
    "    'min_samples_leaf':[.1,.2,.3,],\n",
    "    'max_features':['log2','sqrt']\n",
    "}\n",
    "\n",
    "#Instantiate GridSearch model.\n",
    "grid_rfr = GridSearchCV(estimator=rfr,\n",
    "                       param_grid = params_rfr,\n",
    "                       cv = 5,\n",
    "                       scoring = 'neg_mean_squared_error',\n",
    "                       n_jobs=-1)\n",
    "\n"
   ]
  },
  {
   "cell_type": "code",
   "execution_count": 23,
   "metadata": {},
   "outputs": [
    {
     "name": "stdout",
     "output_type": "stream",
     "text": [
      "Catastrophic Best Parameters: \n",
      " {'max_depth': 1, 'max_features': 'log2', 'min_samples_leaf': 0.1, 'n_estimators': 400} \n",
      "\n",
      "Catastrophic Best R^2: 0.27\n",
      "Catastrophic Best MSE: 10097.39\n",
      "Catastrophic Best RMSE: 100.49 \n",
      "\n",
      "Bronze Best Parameters: \n",
      " {'max_depth': 1, 'max_features': 'log2', 'min_samples_leaf': 0.1, 'n_estimators': 600} \n",
      "\n",
      "Bronze Best R^2: 0.17\n",
      "Bronze Best MSE: 12235310.64\n",
      "Bronze Best RMSE: 3497.90 \n",
      "\n",
      "Silver Best Parameters: \n",
      " {'max_depth': 1, 'max_features': 'log2', 'min_samples_leaf': 0.1, 'n_estimators': 400} \n",
      "\n",
      "Silver Best R^2: 0.16\n",
      "Silver Best MSE: 133070329.32\n",
      "Silver Best RMSE: 11535.61 \n",
      "\n",
      "Gold Best Parameters: \n",
      " {'max_depth': 1, 'max_features': 'log2', 'min_samples_leaf': 0.1, 'n_estimators': 600} \n",
      "\n",
      "Gold Best R^2: 0.22\n",
      "Gold Best MSE: 691536.40\n",
      "Gold Best RMSE: 831.59 \n",
      "\n",
      "Platinum Best Parameters: \n",
      " {'max_depth': 1, 'max_features': 'log2', 'min_samples_leaf': 0.1, 'n_estimators': 400} \n",
      "\n",
      "Platinum Best R^2: 0.21\n",
      "Platinum Best MSE: 61290.96\n",
      "Platinum Best RMSE: 247.57 \n",
      "\n"
     ]
    }
   ],
   "source": [
    "# Set place value at start (0)\n",
    "place = 0\n",
    "\n",
    "# Iterate over metallic tiers and prine best parameters for each tier\n",
    "for y in ys:\n",
    "    X_train, X_test, y_train, y_test = train_test_split(X,y, test_size=.3, random_state=42)\n",
    "    \n",
    "    # Fit training data\n",
    "    grid_rfr.fit(X_train,y_train)\n",
    "    \n",
    "    # Predict on the test set and compute metrics\n",
    "    best = grid_rfr.best_estimator_\n",
    "    y_pred = best.predict(X_test)\n",
    "    r2 = best.score(X_test, y_test)\n",
    "    mse = mean_squared_error(y_test, y_pred)\n",
    "    rmse = mse**(1/2)\n",
    "    print(ys_name[place],'Best Parameters: \\n',grid_rfr.best_params_,'\\n')\n",
    "    print(ys_name[place],'Best R^2: {:.2f}'.format(r2))\n",
    "    print(ys_name[place],'Best MSE: {:.2f}'.format(mse))\n",
    "    print(ys_name[place], 'Best RMSE: {:.2f}'.format(rmse),'\\n')\n",
    "    place+=1"
   ]
  },
  {
   "cell_type": "markdown",
   "metadata": {},
   "source": [
    "It does not appear that a Random Forest Regressor will produce a better model than our Huber regressor model.  That said, using an ensemble algorithm with the Huber Regressor may produce even better results than the Huber Regressor itself. <br><br>\n",
    "Before moving on, I would like to plot feature importance using the Random Forest Regressor to see if it matches the Feature Importance plot of the Lasso model.  Silver tier will be used for this exploration."
   ]
  },
  {
   "cell_type": "code",
   "execution_count": 10,
   "metadata": {},
   "outputs": [
    {
     "data": {
      "image/png": "[encoded data removed]",
      "text/plain": [
       "<matplotlib.figure.Figure at 0x17f92a6a1d0>"
      ]
     },
     "metadata": {},
     "output_type": "display_data"
    }
   ],
   "source": [
    "# Instantiate Silver Regressor using hyperparameters from tuning.\n",
    "rfr_silver= RandomForestRegressor(random_state=42, n_estimators=400, max_depth=1, min_samples_leaf=.1)\n",
    "\n",
    "# Reset X as DataFrame instead of Numpy array.\n",
    "X = df.drop(['cfc','state','county','platinum','gold','silver','bronze','catastrophic', 'Year',\n",
    "             'tps'], axis=1)\n",
    "\n",
    "# Split data\n",
    "X_train, X_test, y_train, y_test = train_test_split(X,ysil, test_size=.3, random_state=42)\n",
    "\n",
    "# Fit data\n",
    "rfr_silver.fit(X_train,y_train)\n",
    "\n",
    "# Get sorted feature importances\n",
    "importances = pd.Series(rfr_silver.feature_importances_, index=X.columns).sort_values()\n",
    "\n",
    "#Plot the sorted importances\n",
    "_ = plt.subplots(1,1, figsize=(7,7))\n",
    "_ = importances.plot(kind='barh')\n",
    "_ = plt.title('Silver Tier Feature Importance')\n",
    "_ = plt.xlabel('Importance')\n",
    "_ = plt.ylabel('Features')\n",
    "\n",
    "plt.show()"
   ]
  },
  {
   "cell_type": "markdown",
   "metadata": {},
   "source": [
    "Like the Lasso model feature evaluation, having a CSR is the most feature for the Silver tier.  Other similarities include:\n",
    "-  'Yes APTC'\n",
    "-  'Ages 26-34'\n",
    "-  'FPL < 201'\n",
    "-  'Active Renewal"
   ]
  },
  {
   "cell_type": "markdown",
   "metadata": {},
   "source": [
    "***\n",
    "# Random Forest Classifier"
   ]
  },
  {
   "cell_type": "code",
   "execution_count": 11,
   "metadata": {},
   "outputs": [
    {
     "data": {
      "text/html": [
       "<div>\n",
       "<style>\n",
       "    .dataframe thead tr:only-child th {\n",
       "        text-align: right;\n",
       "    }\n",
       "\n",
       "    .dataframe thead th {\n",
       "        text-align: left;\n",
       "    }\n",
       "\n",
       "    .dataframe tbody tr th {\n",
       "        vertical-align: top;\n",
       "    }\n",
       "</style>\n",
       "<table border=\"1\" class=\"dataframe\">\n",
       "  <thead>\n",
       "    <tr style=\"text-align: right;\">\n",
       "      <th></th>\n",
       "      <th>cfc</th>\n",
       "      <th>state</th>\n",
       "      <th>county</th>\n",
       "      <th>0-17</th>\n",
       "      <th>18-25</th>\n",
       "      <th>26-34</th>\n",
       "      <th>35-44</th>\n",
       "      <th>45-54</th>\n",
       "      <th>55-64</th>\n",
       "      <th>65+</th>\n",
       "      <th>...</th>\n",
       "      <th>platinum</th>\n",
       "      <th>gold</th>\n",
       "      <th>silver</th>\n",
       "      <th>bronze</th>\n",
       "      <th>catastrophic</th>\n",
       "      <th>new</th>\n",
       "      <th>active_renew</th>\n",
       "      <th>auto_renew</th>\n",
       "      <th>tps</th>\n",
       "      <th>Year</th>\n",
       "    </tr>\n",
       "  </thead>\n",
       "  <tbody>\n",
       "    <tr>\n",
       "      <th>0</th>\n",
       "      <td>12109</td>\n",
       "      <td>FL</td>\n",
       "      <td>St. Johns County</td>\n",
       "      <td>1259.0</td>\n",
       "      <td>1093.0</td>\n",
       "      <td>1566.0</td>\n",
       "      <td>1684.0</td>\n",
       "      <td>2354.0</td>\n",
       "      <td>2963.0</td>\n",
       "      <td>41.0</td>\n",
       "      <td>...</td>\n",
       "      <td>0.10</td>\n",
       "      <td>0.05</td>\n",
       "      <td>0.66</td>\n",
       "      <td>0.18</td>\n",
       "      <td>0.01</td>\n",
       "      <td>5875.0</td>\n",
       "      <td>3783.0</td>\n",
       "      <td>1302.0</td>\n",
       "      <td>10960.0</td>\n",
       "      <td>2015</td>\n",
       "    </tr>\n",
       "    <tr>\n",
       "      <th>1</th>\n",
       "      <td>10001</td>\n",
       "      <td>DE</td>\n",
       "      <td>Kent County</td>\n",
       "      <td>413.0</td>\n",
       "      <td>284.0</td>\n",
       "      <td>529.0</td>\n",
       "      <td>530.0</td>\n",
       "      <td>771.0</td>\n",
       "      <td>872.0</td>\n",
       "      <td>18.0</td>\n",
       "      <td>...</td>\n",
       "      <td>0.03</td>\n",
       "      <td>0.15</td>\n",
       "      <td>0.63</td>\n",
       "      <td>0.18</td>\n",
       "      <td>0.00</td>\n",
       "      <td>1853.0</td>\n",
       "      <td>655.0</td>\n",
       "      <td>909.0</td>\n",
       "      <td>3417.0</td>\n",
       "      <td>2015</td>\n",
       "    </tr>\n",
       "    <tr>\n",
       "      <th>2</th>\n",
       "      <td>10003</td>\n",
       "      <td>DE</td>\n",
       "      <td>New Castle County</td>\n",
       "      <td>1964.0</td>\n",
       "      <td>1275.0</td>\n",
       "      <td>2487.0</td>\n",
       "      <td>2333.0</td>\n",
       "      <td>3288.0</td>\n",
       "      <td>3494.0</td>\n",
       "      <td>126.0</td>\n",
       "      <td>...</td>\n",
       "      <td>0.05</td>\n",
       "      <td>0.16</td>\n",
       "      <td>0.59</td>\n",
       "      <td>0.20</td>\n",
       "      <td>0.01</td>\n",
       "      <td>7453.0</td>\n",
       "      <td>3340.0</td>\n",
       "      <td>4174.0</td>\n",
       "      <td>14967.0</td>\n",
       "      <td>2015</td>\n",
       "    </tr>\n",
       "    <tr>\n",
       "      <th>3</th>\n",
       "      <td>10005</td>\n",
       "      <td>DE</td>\n",
       "      <td>Sussex County</td>\n",
       "      <td>794.0</td>\n",
       "      <td>436.0</td>\n",
       "      <td>805.0</td>\n",
       "      <td>929.0</td>\n",
       "      <td>1453.0</td>\n",
       "      <td>2204.0</td>\n",
       "      <td>30.0</td>\n",
       "      <td>...</td>\n",
       "      <td>0.04</td>\n",
       "      <td>0.17</td>\n",
       "      <td>0.63</td>\n",
       "      <td>0.16</td>\n",
       "      <td>0.00</td>\n",
       "      <td>3408.0</td>\n",
       "      <td>1531.0</td>\n",
       "      <td>1712.0</td>\n",
       "      <td>6651.0</td>\n",
       "      <td>2015</td>\n",
       "    </tr>\n",
       "    <tr>\n",
       "      <th>4</th>\n",
       "      <td>12001</td>\n",
       "      <td>FL</td>\n",
       "      <td>Alachua County</td>\n",
       "      <td>726.0</td>\n",
       "      <td>2161.0</td>\n",
       "      <td>2734.0</td>\n",
       "      <td>1867.0</td>\n",
       "      <td>2250.0</td>\n",
       "      <td>2940.0</td>\n",
       "      <td>41.0</td>\n",
       "      <td>...</td>\n",
       "      <td>0.09</td>\n",
       "      <td>0.03</td>\n",
       "      <td>0.72</td>\n",
       "      <td>0.15</td>\n",
       "      <td>0.01</td>\n",
       "      <td>6443.0</td>\n",
       "      <td>4378.0</td>\n",
       "      <td>1898.0</td>\n",
       "      <td>12719.0</td>\n",
       "      <td>2015</td>\n",
       "    </tr>\n",
       "  </tbody>\n",
       "</table>\n",
       "<p>5 rows × 41 columns</p>\n",
       "</div>"
      ],
      "text/plain": [
       "     cfc state             county    0-17   18-25   26-34   35-44   45-54  \\\n",
       "0  12109    FL   St. Johns County  1259.0  1093.0  1566.0  1684.0  2354.0   \n",
       "1  10001    DE        Kent County   413.0   284.0   529.0   530.0   771.0   \n",
       "2  10003    DE  New Castle County  1964.0  1275.0  2487.0  2333.0  3288.0   \n",
       "3  10005    DE      Sussex County   794.0   436.0   805.0   929.0  1453.0   \n",
       "4  12001    FL     Alachua County   726.0  2161.0  2734.0  1867.0  2250.0   \n",
       "\n",
       "    55-64    65+  ...   platinum  gold  silver  bronze  catastrophic     new  \\\n",
       "0  2963.0   41.0  ...       0.10  0.05    0.66    0.18          0.01  5875.0   \n",
       "1   872.0   18.0  ...       0.03  0.15    0.63    0.18          0.00  1853.0   \n",
       "2  3494.0  126.0  ...       0.05  0.16    0.59    0.20          0.01  7453.0   \n",
       "3  2204.0   30.0  ...       0.04  0.17    0.63    0.16          0.00  3408.0   \n",
       "4  2940.0   41.0  ...       0.09  0.03    0.72    0.15          0.01  6443.0   \n",
       "\n",
       "   active_renew  auto_renew      tps  Year  \n",
       "0        3783.0      1302.0  10960.0  2015  \n",
       "1         655.0       909.0   3417.0  2015  \n",
       "2        3340.0      4174.0  14967.0  2015  \n",
       "3        1531.0      1712.0   6651.0  2015  \n",
       "4        4378.0      1898.0  12719.0  2015  \n",
       "\n",
       "[5 rows x 41 columns]"
      ]
     },
     "execution_count": 11,
     "metadata": {},
     "output_type": "execute_result"
    }
   ],
   "source": [
    "# Read in Data\n",
    "dfp = pd.read_csv('Combo_Percents.csv')\n",
    "dfp.drop('Unnamed: 0', axis=1, inplace=True)\n",
    "dfp.head()"
   ]
  },
  {
   "cell_type": "code",
   "execution_count": 12,
   "metadata": {
    "collapsed": true
   },
   "outputs": [],
   "source": [
    "# Create the X and y for the model with individual y's for each metallic tier.\n",
    "\n",
    "# Our X Dropping the Metallic Tier Targets, String Data, Categorical Year, and TPS\n",
    "Xp = dfp.drop(['cfc','state','county','platinum','gold','silver','bronze','catastrophic', 'Year',\n",
    "               'tps'],axis=1).values\n",
    "\n",
    "# Individual y's for Each Target Data\n",
    "ycatp = (dfp.catastrophic.values * 100).astype(int)\n",
    "ybrop = (dfp.bronze.values *100).astype(int)\n",
    "ysilp = (dfp.silver.values * 100).astype(int)\n",
    "ygoldp = (dfp.gold.values * 100).astype(int)\n",
    "yplatp = (dfp.platinum.values * 100).astype(int)\n",
    "\n",
    "# Create List of Target Values for Percent Data\n",
    "ysp=[ycatp, ybrop, ysilp, ygoldp, yplatp]"
   ]
  },
  {
   "cell_type": "code",
   "execution_count": 13,
   "metadata": {
    "collapsed": true
   },
   "outputs": [],
   "source": [
    "# Instantiate RandomForestRegressor for hyperparameter tuning.\n",
    "rfc = RandomForestClassifier(random_state=42)\n",
    "\n",
    "# Dictionary of hyperparameters to tune.\n",
    "params_rfc = {\n",
    "    'max_depth':[1,2,3,4,5,6],\n",
    "    'min_samples_leaf':[.04,.06,.08,.1],\n",
    "    'max_features':[.2,.4,.6,.8]\n",
    "}\n",
    "\n",
    "#Instantiate GridSearch model.\n",
    "grid_rfc = GridSearchCV(estimator=rfc,\n",
    "                       param_grid = params_rfc,\n",
    "                       cv = 5,\n",
    "                       scoring = 'accuracy',\n",
    "                       n_jobs=-1)"
   ]
  },
  {
   "cell_type": "code",
   "execution_count": 14,
   "metadata": {},
   "outputs": [
    {
     "name": "stdout",
     "output_type": "stream",
     "text": [
      "Catastrophic Best Parameters: \n",
      " {'max_depth': 3, 'max_features': 0.4, 'min_samples_leaf': 0.08} \n",
      "\n",
      "Catastrophic Best CV Accuracy: 0.759\n",
      "Catastrophic Best Test Accuracy: 0.757 \n",
      "\n"
     ]
    },
    {
     "name": "stderr",
     "output_type": "stream",
     "text": [
      "C:\\ProgramData\\Anaconda3\\lib\\site-packages\\sklearn\\model_selection\\_split.py:605: Warning: The least populated class in y has only 1 members, which is too few. The minimum number of members in any class cannot be less than n_splits=5.\n",
      "  % (min_groups, self.n_splits)), Warning)\n"
     ]
    },
    {
     "name": "stdout",
     "output_type": "stream",
     "text": [
      "Bronze Best Parameters: \n",
      " {'max_depth': 6, 'max_features': 0.8, 'min_samples_leaf': 0.04} \n",
      "\n",
      "Bronze Best CV Accuracy: 0.084\n",
      "Bronze Best Test Accuracy: 0.076 \n",
      "\n"
     ]
    },
    {
     "name": "stderr",
     "output_type": "stream",
     "text": [
      "C:\\ProgramData\\Anaconda3\\lib\\site-packages\\sklearn\\model_selection\\_split.py:605: Warning: The least populated class in y has only 1 members, which is too few. The minimum number of members in any class cannot be less than n_splits=5.\n",
      "  % (min_groups, self.n_splits)), Warning)\n"
     ]
    },
    {
     "name": "stdout",
     "output_type": "stream",
     "text": [
      "Silver Best Parameters: \n",
      " {'max_depth': 4, 'max_features': 0.8, 'min_samples_leaf': 0.04} \n",
      "\n",
      "Silver Best CV Accuracy: 0.068\n",
      "Silver Best Test Accuracy: 0.055 \n",
      "\n"
     ]
    },
    {
     "name": "stderr",
     "output_type": "stream",
     "text": [
      "C:\\ProgramData\\Anaconda3\\lib\\site-packages\\sklearn\\model_selection\\_split.py:605: Warning: The least populated class in y has only 1 members, which is too few. The minimum number of members in any class cannot be less than n_splits=5.\n",
      "  % (min_groups, self.n_splits)), Warning)\n"
     ]
    },
    {
     "name": "stdout",
     "output_type": "stream",
     "text": [
      "Gold Best Parameters: \n",
      " {'max_depth': 5, 'max_features': 0.4, 'min_samples_leaf': 0.04} \n",
      "\n",
      "Gold Best CV Accuracy: 0.345\n",
      "Gold Best Test Accuracy: 0.344 \n",
      "\n"
     ]
    },
    {
     "name": "stderr",
     "output_type": "stream",
     "text": [
      "C:\\ProgramData\\Anaconda3\\lib\\site-packages\\sklearn\\model_selection\\_split.py:605: Warning: The least populated class in y has only 2 members, which is too few. The minimum number of members in any class cannot be less than n_splits=5.\n",
      "  % (min_groups, self.n_splits)), Warning)\n"
     ]
    },
    {
     "name": "stdout",
     "output_type": "stream",
     "text": [
      "Platinum Best Parameters: \n",
      " {'max_depth': 1, 'max_features': 0.2, 'min_samples_leaf': 0.04} \n",
      "\n",
      "Platinum Best CV Accuracy: 0.812\n",
      "Platinum Best Test Accuracy: 0.818 \n",
      "\n"
     ]
    }
   ],
   "source": [
    "# Set place value at start (0)\n",
    "place = 0\n",
    "\n",
    "# Iterate over metallic tiers and prine best parameters for each tier\n",
    "for y in ysp:\n",
    "    X_train, X_test, y_train, y_test = train_test_split(Xp,y, test_size=.3, random_state=42)\n",
    "    \n",
    "    # Fit training data\n",
    "    grid_rfc.fit(X_train,y_train)\n",
    "    \n",
    "    # Predict on the test set and compute metrics\n",
    "    score = grid_rfc.best_score_\n",
    "    best = grid_rfc.best_estimator_\n",
    "    test_acc = best.score(X_test,y_test)\n",
    "    print(ys_name[place],'Best Parameters: \\n',grid_rfc.best_params_,'\\n')\n",
    "    print(ys_name[place],'Best CV Accuracy: {:.3f}'.format(score))\n",
    "    print(ys_name[place],'Best Test Accuracy: {:.3f}'.format(test_acc), '\\n')\n",
    "    place+=1"
   ]
  },
  {
   "cell_type": "markdown",
   "metadata": {},
   "source": [
    "With a little tweaking the Random Forest Classifier might be a better model for the Catastrophic, and possibly Platinum tiers."
   ]
  },
  {
   "cell_type": "code",
   "execution_count": 58,
   "metadata": {},
   "outputs": [
    {
     "data": {
      "text/plain": [
       "(array([ 0,  1,  2,  3,  4,  5,  6,  7,  8,  9, 10, 11]),\n",
       " array([3689,  277,  197,  153,   66,   42,   25,   26,   13,   14,   10,\n",
       "          20], dtype=int64))"
      ]
     },
     "execution_count": 58,
     "metadata": {},
     "output_type": "execute_result"
    }
   ],
   "source": [
    "# Convert 12%+ to 11% in the platinum targets for classification improvement\n",
    "for n in range(len(yplatp)):\n",
    "    if yplatp[n] in [12,13,14,15]:\n",
    "        yplatp[n]=11\n",
    "np.unique(yplatp, return_counts=True)"
   ]
  },
  {
   "cell_type": "code",
   "execution_count": 59,
   "metadata": {},
   "outputs": [
    {
     "name": "stdout",
     "output_type": "stream",
     "text": [
      "Platinum Best Parameters: \n",
      " {'max_depth': 1, 'max_features': 0.2, 'min_samples_leaf': 0.04} \n",
      "\n",
      "Platinum Best CV Accuracy: 0.809\n",
      "Platinum Best Test Accuracy: 0.836\n"
     ]
    }
   ],
   "source": [
    "# Split training and testing data\n",
    "X_train, X_test, y_train, y_test = train_test_split(Xp,yplatp, test_size=.2, random_state=42)\n",
    "\n",
    "# Fit training data\n",
    "grid_rfc.fit(X_train,y_train)\n",
    "\n",
    "# Predict on the test set and compute metrics\n",
    "score = grid_rfc.best_score_\n",
    "best = grid_rfc.best_estimator_\n",
    "test_acc = best.score(X_test,y_test)\n",
    "print('Platinum Best Parameters: \\n',grid_rfc.best_params_,'\\n')\n",
    "print('Platinum Best CV Accuracy: {:.3f}'.format(score))\n",
    "print('Platinum Best Test Accuracy: {:.3f}'.format(test_acc))"
   ]
  },
  {
   "cell_type": "code",
   "execution_count": 49,
   "metadata": {},
   "outputs": [
    {
     "name": "stdout",
     "output_type": "stream",
     "text": [
      "Catastrophic Training Accuracy: 0.757\n",
      "Catastrophic Test Accuracy: 0.757\n"
     ]
    }
   ],
   "source": [
    "#Instantiate Catastrophic model.\n",
    "cat_rfc = RandomForestClassifier(random_state=42,\n",
    "                                 max_depth=3,\n",
    "                                 max_features = .4,\n",
    "                                 min_samples_leaf = .08,\n",
    "                                 n_jobs=-1)\n",
    "# Split training and testing data\n",
    "X_train, X_test, y_train, y_test = train_test_split(Xp,ycatp, test_size=.3, random_state=42)\n",
    "\n",
    "# Fit Data\n",
    "cat_rfc.fit(X_train,y_train)\n",
    "train_acc = accuracy_score(y_train, cat_rfc.predict(X_train))\n",
    "test_acc = accuracy_score(y_test, cat_rfc.predict(X_test))\n",
    "print('Catastrophic Training Accuracy: {:.3f}'.format(train_acc))\n",
    "print('Catastrophic Test Accuracy: {:.3f}'.format(test_acc))\n"
   ]
  },
  {
   "cell_type": "code",
   "execution_count": 60,
   "metadata": {},
   "outputs": [
    {
     "name": "stdout",
     "output_type": "stream",
     "text": [
      "Platinum Training Accuracy: 0.812\n",
      "Platinum Test Accuracy: 0.818\n"
     ]
    }
   ],
   "source": [
    "#Instantiate Platinum model.\n",
    "plat_rfc = RandomForestClassifier(random_state=42,\n",
    "                                  max_depth=1,\n",
    "                                  max_features = .2,\n",
    "                                  min_samples_leaf = .04,\n",
    "                                  n_jobs=-1)\n",
    "# Split training and testing data\n",
    "X_train, X_test, y_train, y_test = train_test_split(Xp,yplatp, test_size=.3, random_state=42)\n",
    "\n",
    "# Fit Data\n",
    "plat_rfc.fit(X_train,y_train)\n",
    "train_acc = accuracy_score(y_train, plat_rfc.predict(X_train))\n",
    "test_acc = accuracy_score(y_test, plat_rfc.predict(X_test))\n",
    "print('Platinum Training Accuracy: {:.3f}'.format(train_acc))\n",
    "print('Platinum Test Accuracy: {:.3f}'.format(test_acc))"
   ]
  },
  {
   "cell_type": "markdown",
   "metadata": {},
   "source": [
    "Overall the Random Forest Classifier is a better model than the Logistic Regression Classifier.  It improves slightly upon the Catastrophic tier accuracy, and slightly decreases the accuracy of the Platinum tier.  However, the speed in which Random Forest Classifier produces results exceeds the slight loss in accuracy. <br><br>\n",
    "Testing further improvements to the Platinum Tier model by changing percentage rates to 0, 1, and 2 indicating 'low', 'medium', 'high'."
   ]
  },
  {
   "cell_type": "code",
   "execution_count": 61,
   "metadata": {},
   "outputs": [
    {
     "data": {
      "text/plain": [
       "(array([ 0,  1,  2,  3,  4,  5,  6,  7,  8,  9, 10, 11]),\n",
       " array([3689,  277,  197,  153,   66,   42,   25,   26,   13,   14,   10,\n",
       "          20], dtype=int64))"
      ]
     },
     "execution_count": 61,
     "metadata": {},
     "output_type": "execute_result"
    }
   ],
   "source": [
    "np.unique(yplatp, return_counts=True)"
   ]
  },
  {
   "cell_type": "code",
   "execution_count": 67,
   "metadata": {},
   "outputs": [
    {
     "name": "stdout",
     "output_type": "stream",
     "text": [
      "(array([0, 1, 2]), array([4382,  120,   30], dtype=int64))\n"
     ]
    }
   ],
   "source": [
    "# Iterating through platinum tier values to give them categorical 0,1,2 categories as described above.\n",
    "for n in range(len(yplatp)):\n",
    "    if yplatp[n] in [10,11,12,13,14,15]:\n",
    "        yplatp[n]=2\n",
    "    elif yplatp[n] in [5,6,7,8,9]:\n",
    "        yplatp[n] = 1\n",
    "    elif yplatp[n] in [0,1,2,3,4]:\n",
    "        yplatp[n]=0\n",
    "\n",
    "print(np.unique(yplatp, return_counts=True))"
   ]
  },
  {
   "cell_type": "code",
   "execution_count": 69,
   "metadata": {},
   "outputs": [
    {
     "name": "stdout",
     "output_type": "stream",
     "text": [
      "Platinum Training Accuracy: 0.968\n",
      "Platinum Test Accuracy: 0.963\n"
     ]
    }
   ],
   "source": [
    "# Split training and testing data\n",
    "X_train, X_test, y_train, y_test = train_test_split(Xp,yplatp, test_size=.3, random_state=42)\n",
    "\n",
    "# Fit Data\n",
    "plat_rfc.fit(X_train,y_train)\n",
    "train_acc = accuracy_score(y_train, plat_rfc.predict(X_train))\n",
    "test_acc = accuracy_score(y_test, plat_rfc.predict(X_test))\n",
    "print('Platinum Training Accuracy: {:.3f}'.format(train_acc))\n",
    "print('Platinum Test Accuracy: {:.3f}'.format(test_acc))"
   ]
  },
  {
   "cell_type": "markdown",
   "metadata": {},
   "source": [
    "The model is now vastly improved!  Let's try categorical binning for every tier."
   ]
  },
  {
   "cell_type": "code",
   "execution_count": 15,
   "metadata": {
    "collapsed": true
   },
   "outputs": [],
   "source": [
    "# Initialize starting points\n",
    "a = 0\n",
    "b = 5\n",
    "category = 0\n",
    "\n",
    "# Define program to convert target arrays into bins of 5\n",
    "def convert(target):\n",
    "    '''Takes array from 0 - 100 and converts it to categories representing batches of 5'''\n",
    "    for n in range(len(target)):\n",
    "        if target[n] in np.arange(0,5):\n",
    "            target[n] = 0\n",
    "        elif target[n] in np.arange(5,10):\n",
    "            target[n]=1\n",
    "        elif target[n] in np.arange(10,15):\n",
    "            target[n] = 2\n",
    "        elif target[n] in np.arange(15,20):\n",
    "            target[n]=3\n",
    "        elif target[n] in np.arange(20,25):\n",
    "            target[n] = 4\n",
    "        elif target[n] in np.arange(25,30):\n",
    "            target[n]=5\n",
    "        elif target[n] in np.arange(30,35):\n",
    "            target[n] = 6\n",
    "        elif target[n] in np.arange(35,40):\n",
    "            target[n]=7\n",
    "        elif target[n] in np.arange(40,45):\n",
    "            target[n]=8\n",
    "        elif target[n] in np.arange(45,50):\n",
    "            target[n] = 9\n",
    "        elif target[n] in np.arange(50,55):\n",
    "            target[n] = 10\n",
    "        elif target[n] in np.arange(55,60):\n",
    "            target[n]=11\n",
    "        elif target[n] in np.arange(60,65):\n",
    "            target[n] = 12\n",
    "        elif target[n] in np.arange(65,70):\n",
    "            target[n]=13\n",
    "        elif target[n] in np.arange(70,75):\n",
    "            target[n] = 14\n",
    "        elif target[n] in np.arange(75,80):\n",
    "            target[n]=15\n",
    "        elif target[n] in np.arange(80,85):\n",
    "            target[n] =16\n",
    "        elif target[n] in np.arange(85,90):\n",
    "            target[n]=17\n",
    "        elif target[n] in np.arange(90,95):\n",
    "            target[n]=18\n",
    "        elif target[n] in np.arange(95,101):\n",
    "            target[n]=19"
   ]
  },
  {
   "cell_type": "code",
   "execution_count": 16,
   "metadata": {
    "collapsed": true
   },
   "outputs": [],
   "source": [
    "# Convert Target Values\n",
    "for y in ysp:\n",
    "    convert(y)"
   ]
  },
  {
   "cell_type": "code",
   "execution_count": 17,
   "metadata": {},
   "outputs": [
    {
     "name": "stdout",
     "output_type": "stream",
     "text": [
      "Catastrophic Best Parameters: \n",
      " {'max_depth': 1, 'max_features': 0.2, 'min_samples_leaf': 0.04} \n",
      "\n",
      "Catastrophic Best CV Accuracy: 0.998\n",
      "Catastrophic Best Test Accuracy: 0.999 \n",
      "\n"
     ]
    },
    {
     "name": "stderr",
     "output_type": "stream",
     "text": [
      "C:\\ProgramData\\Anaconda3\\lib\\site-packages\\sklearn\\model_selection\\_split.py:605: Warning: The least populated class in y has only 1 members, which is too few. The minimum number of members in any class cannot be less than n_splits=5.\n",
      "  % (min_groups, self.n_splits)), Warning)\n"
     ]
    },
    {
     "name": "stdout",
     "output_type": "stream",
     "text": [
      "Bronze Best Parameters: \n",
      " {'max_depth': 6, 'max_features': 0.8, 'min_samples_leaf': 0.04} \n",
      "\n",
      "Bronze Best CV Accuracy: 0.266\n",
      "Bronze Best Test Accuracy: 0.261 \n",
      "\n"
     ]
    },
    {
     "name": "stderr",
     "output_type": "stream",
     "text": [
      "C:\\ProgramData\\Anaconda3\\lib\\site-packages\\sklearn\\model_selection\\_split.py:605: Warning: The least populated class in y has only 1 members, which is too few. The minimum number of members in any class cannot be less than n_splits=5.\n",
      "  % (min_groups, self.n_splits)), Warning)\n"
     ]
    },
    {
     "name": "stdout",
     "output_type": "stream",
     "text": [
      "Silver Best Parameters: \n",
      " {'max_depth': 6, 'max_features': 0.6, 'min_samples_leaf': 0.04} \n",
      "\n",
      "Silver Best CV Accuracy: 0.275\n",
      "Silver Best Test Accuracy: 0.275 \n",
      "\n"
     ]
    },
    {
     "name": "stderr",
     "output_type": "stream",
     "text": [
      "C:\\ProgramData\\Anaconda3\\lib\\site-packages\\sklearn\\model_selection\\_split.py:605: Warning: The least populated class in y has only 1 members, which is too few. The minimum number of members in any class cannot be less than n_splits=5.\n",
      "  % (min_groups, self.n_splits)), Warning)\n"
     ]
    },
    {
     "name": "stdout",
     "output_type": "stream",
     "text": [
      "Gold Best Parameters: \n",
      " {'max_depth': 5, 'max_features': 0.6, 'min_samples_leaf': 0.04} \n",
      "\n",
      "Gold Best CV Accuracy: 0.605\n",
      "Gold Best Test Accuracy: 0.596 \n",
      "\n"
     ]
    },
    {
     "name": "stderr",
     "output_type": "stream",
     "text": [
      "C:\\ProgramData\\Anaconda3\\lib\\site-packages\\sklearn\\model_selection\\_split.py:605: Warning: The least populated class in y has only 2 members, which is too few. The minimum number of members in any class cannot be less than n_splits=5.\n",
      "  % (min_groups, self.n_splits)), Warning)\n"
     ]
    },
    {
     "name": "stdout",
     "output_type": "stream",
     "text": [
      "Platinum Best Parameters: \n",
      " {'max_depth': 1, 'max_features': 0.2, 'min_samples_leaf': 0.04} \n",
      "\n",
      "Platinum Best CV Accuracy: 0.968\n",
      "Platinum Best Test Accuracy: 0.963 \n",
      "\n"
     ]
    }
   ],
   "source": [
    "#Get best hyperparameterts for binned categories\n",
    "# Set place value at start (0)\n",
    "place = 0\n",
    "\n",
    "# Iterate over metallic tiers and prine best parameters for each tier\n",
    "for y in ysp:\n",
    "    X_train, X_test, y_train, y_test = train_test_split(Xp,y, test_size=.3, random_state=42)\n",
    "    \n",
    "    # Fit training data\n",
    "    grid_rfc.fit(X_train,y_train)\n",
    "    \n",
    "    # Predict on the test set and compute metrics\n",
    "    score = grid_rfc.best_score_\n",
    "    best = grid_rfc.best_estimator_\n",
    "    test_acc = best.score(X_test,y_test)\n",
    "    print(ys_name[place],'Best Parameters: \\n',grid_rfc.best_params_,'\\n')\n",
    "    print(ys_name[place],'Best CV Accuracy: {:.3f}'.format(score))\n",
    "    print(ys_name[place],'Best Test Accuracy: {:.3f}'.format(test_acc), '\\n')\n",
    "    place+=1"
   ]
  },
  {
   "cell_type": "markdown",
   "metadata": {},
   "source": [
    "Much better accuracies all around.  However, accuracies are still sub-par for Bronze, Silver, and Gold tiers.  Let's test AdaBoost on Bronze to see if it helps"
   ]
  },
  {
   "cell_type": "code",
   "execution_count": 27,
   "metadata": {},
   "outputs": [
    {
     "name": "stdout",
     "output_type": "stream",
     "text": [
      "Bronze Training Accuracy: 0.216\n",
      "Bronze Test Accuracy: 0.199\n"
     ]
    }
   ],
   "source": [
    "#Instantiate Bronze model.\n",
    "bro_rfc = RandomForestClassifier(random_state=42,\n",
    "                                  max_depth=6,\n",
    "                                  max_features = .8,\n",
    "                                  min_samples_leaf = .04,\n",
    "                                  n_jobs=-1)\n",
    "# Split training and testing data\n",
    "X_train, X_test, y_train, y_test = train_test_split(Xp,ybrop, test_size=.3, random_state=42)\n",
    "\n",
    "# Instantiate AdaBoost model.\n",
    "adb_bro = AdaBoostClassifier(base_estimator=bro_rfc, n_estimators=200)\n",
    "\n",
    "# Fit Data\n",
    "adb_bro.fit(X_train,y_train)\n",
    "train_acc = accuracy_score(y_train, adb_bro.predict(X_train))\n",
    "test_acc = accuracy_score(y_test, adb_bro.predict(X_test))\n",
    "print('Bronze Training Accuracy: {:.3f}'.format(train_acc))\n",
    "print('Bronze Test Accuracy: {:.3f}'.format(test_acc))"
   ]
  },
  {
   "cell_type": "code",
   "execution_count": 17,
   "metadata": {},
   "outputs": [
    {
     "name": "stdout",
     "output_type": "stream",
     "text": [
      "Platinum Training Accuracy: 0.912\n",
      "Platinum Test Accuracy: 0.911\n"
     ]
    }
   ],
   "source": [
    "#Instantiate Platinum model.\n",
    "plat_rfc = RandomForestClassifier(random_state=42,\n",
    "                                  max_depth=1,\n",
    "                                  max_features = .2,\n",
    "                                  min_samples_leaf = .04,\n",
    "                                  n_jobs=-1)\n",
    "# Split training and testing data\n",
    "X_train, X_test, y_train, y_test = train_test_split(Xp,yplatp, test_size=.3, random_state=42)\n",
    "\n",
    "# Instantiate AdaBoost model.\n",
    "adb_plat = AdaBoostClassifier(base_estimator=plat_rfc, n_estimators=200)\n",
    "\n",
    "# Fit Data\n",
    "adb_plat.fit(X_train,y_train)\n",
    "train_acc = accuracy_score(y_train, adb_plat.predict(X_train))\n",
    "test_acc = accuracy_score(y_test, adb_plat.predict(X_test))\n",
    "print('Platinum Training Accuracy: {:.3f}'.format(train_acc))\n",
    "print('Platinum Test Accuracy: {:.3f}'.format(test_acc))"
   ]
  },
  {
   "cell_type": "markdown",
   "metadata": {},
   "source": [
    "Regression still appears to be the best model for Bronze, Silver, and Gold Tiers."
   ]
  }
 ],
 "metadata": {
  "kernelspec": {
   "display_name": "Python 3",
   "language": "python",
   "name": "python3"
  },
  "language_info": {
   "codemirror_mode": {
    "name": "ipython",
    "version": 3
   },
   "file_extension": ".py",
   "mimetype": "text/x-python",
   "name": "python",
   "nbconvert_exporter": "python",
   "pygments_lexer": "ipython3",
   "version": "3.6.3"
  },
  "toc": {
   "nav_menu": {},
   "number_sections": true,
   "sideBar": true,
   "skip_h1_title": false,
   "toc_cell": false,
   "toc_position": {},
   "toc_section_display": "block",
   "toc_window_display": false
  },
  "varInspector": {
   "cols": {
    "lenName": 16,
    "lenType": 16,
    "lenVar": 40
   },
   "kernels_config": {
    "python": {
     "delete_cmd_postfix": "",
     "delete_cmd_prefix": "del ",
     "library": "var_list.py",
     "varRefreshCmd": "print(var_dic_list())"
    },
    "r": {
     "delete_cmd_postfix": ") ",
     "delete_cmd_prefix": "rm(",
     "library": "var_list.r",
     "varRefreshCmd": "cat(var_dic_list()) "
    }
   },
   "types_to_exclude": [
    "module",
    "function",
    "builtin_function_or_method",
    "instance",
    "_Feature"
   ],
   "window_display": false
  }
 },
 "nbformat": 4,
 "nbformat_minor": 2
}
