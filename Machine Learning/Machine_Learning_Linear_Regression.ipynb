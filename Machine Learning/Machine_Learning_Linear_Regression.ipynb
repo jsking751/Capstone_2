{
 "cells": [
  {
   "cell_type": "markdown",
   "metadata": {
    "collapsed": true
   },
   "source": [
    "## Capstone 2 Machine Learning - Linear Regression\n",
    "\n",
    "**Choice of Data:**<br>\n",
    "I will be using the combined 2015 and 2016 data set for my machine learning model.  This will give me access to more observations to apply to the model, and will hopefully give me better results.  Two other combined datasets were created to test for the best kind of model.  The combined datasets include targets as a percent of Total Plan Selections (TPS) and All Features as a percent of TPS. <br><br>\n",
    "**Choice of Method:**<br>\n",
    "Linear Regression is the chosen model as I am seeking quantitative values of the metalic tiers for each county observation.  My EDA shows that not all of the features in the data will be helpful for regresion.  As such, I will try different models including Elastic Net, Ridge, Lasso and more.  Different scaling options will be tested on the model as well.  R^2 and Root Mean Squared Error will be our metrics for the models."
   ]
  },
  {
   "cell_type": "code",
   "execution_count": 1,
   "metadata": {
    "collapsed": true
   },
   "outputs": [],
   "source": [
    "# Import Tools\n",
    "import pandas as pd\n",
    "import numpy as np\n",
    "from sklearn.linear_model import LinearRegression, ElasticNet, Lasso, Ridge, HuberRegressor\n",
    "from sklearn.model_selection import train_test_split, cross_val_score, GridSearchCV\n",
    "from sklearn.metrics import mean_squared_error\n",
    "from sklearn.preprocessing import StandardScaler, Normalizer\n",
    "from sklearn.pipeline import Pipeline\n",
    "from sklearn.ensemble import GradientBoostingRegressor\n",
    "import matplotlib.pyplot as plt\n",
    "import seaborn as sns\n",
    "\n",
    "# Make Plots Pretty\n",
    "sns.set()"
   ]
  },
  {
   "cell_type": "markdown",
   "metadata": {},
   "source": [
    "# Values Unscaled"
   ]
  },
  {
   "cell_type": "code",
   "execution_count": 2,
   "metadata": {},
   "outputs": [
    {
     "data": {
      "text/html": [
       "<div>\n",
       "<style>\n",
       "    .dataframe thead tr:only-child th {\n",
       "        text-align: right;\n",
       "    }\n",
       "\n",
       "    .dataframe thead th {\n",
       "        text-align: left;\n",
       "    }\n",
       "\n",
       "    .dataframe tbody tr th {\n",
       "        vertical-align: top;\n",
       "    }\n",
       "</style>\n",
       "<table border=\"1\" class=\"dataframe\">\n",
       "  <thead>\n",
       "    <tr style=\"text-align: right;\">\n",
       "      <th></th>\n",
       "      <th>cfc</th>\n",
       "      <th>state</th>\n",
       "      <th>county</th>\n",
       "      <th>0-17</th>\n",
       "      <th>18-25</th>\n",
       "      <th>26-34</th>\n",
       "      <th>35-44</th>\n",
       "      <th>45-54</th>\n",
       "      <th>55-64</th>\n",
       "      <th>65+</th>\n",
       "      <th>...</th>\n",
       "      <th>platinum</th>\n",
       "      <th>gold</th>\n",
       "      <th>silver</th>\n",
       "      <th>bronze</th>\n",
       "      <th>catastrophic</th>\n",
       "      <th>new</th>\n",
       "      <th>active_renew</th>\n",
       "      <th>auto_renew</th>\n",
       "      <th>tps</th>\n",
       "      <th>Year</th>\n",
       "    </tr>\n",
       "  </thead>\n",
       "  <tbody>\n",
       "    <tr>\n",
       "      <th>0</th>\n",
       "      <td>12109</td>\n",
       "      <td>FL</td>\n",
       "      <td>St. Johns County</td>\n",
       "      <td>1259.0</td>\n",
       "      <td>1093.0</td>\n",
       "      <td>1566.0</td>\n",
       "      <td>1684.0</td>\n",
       "      <td>2354.0</td>\n",
       "      <td>2963.0</td>\n",
       "      <td>41.0</td>\n",
       "      <td>...</td>\n",
       "      <td>1128.0</td>\n",
       "      <td>594.0</td>\n",
       "      <td>7209.0</td>\n",
       "      <td>1967.0</td>\n",
       "      <td>62.0</td>\n",
       "      <td>5875.0</td>\n",
       "      <td>3783.0</td>\n",
       "      <td>1302.0</td>\n",
       "      <td>10960.0</td>\n",
       "      <td>2015</td>\n",
       "    </tr>\n",
       "    <tr>\n",
       "      <th>1</th>\n",
       "      <td>10001</td>\n",
       "      <td>DE</td>\n",
       "      <td>Kent County</td>\n",
       "      <td>413.0</td>\n",
       "      <td>284.0</td>\n",
       "      <td>529.0</td>\n",
       "      <td>530.0</td>\n",
       "      <td>771.0</td>\n",
       "      <td>872.0</td>\n",
       "      <td>18.0</td>\n",
       "      <td>...</td>\n",
       "      <td>107.0</td>\n",
       "      <td>528.0</td>\n",
       "      <td>2136.0</td>\n",
       "      <td>629.0</td>\n",
       "      <td>17.0</td>\n",
       "      <td>1853.0</td>\n",
       "      <td>655.0</td>\n",
       "      <td>909.0</td>\n",
       "      <td>3417.0</td>\n",
       "      <td>2015</td>\n",
       "    </tr>\n",
       "    <tr>\n",
       "      <th>2</th>\n",
       "      <td>10003</td>\n",
       "      <td>DE</td>\n",
       "      <td>New Castle County</td>\n",
       "      <td>1964.0</td>\n",
       "      <td>1275.0</td>\n",
       "      <td>2487.0</td>\n",
       "      <td>2333.0</td>\n",
       "      <td>3288.0</td>\n",
       "      <td>3494.0</td>\n",
       "      <td>126.0</td>\n",
       "      <td>...</td>\n",
       "      <td>679.0</td>\n",
       "      <td>2406.0</td>\n",
       "      <td>8835.0</td>\n",
       "      <td>2943.0</td>\n",
       "      <td>104.0</td>\n",
       "      <td>7453.0</td>\n",
       "      <td>3340.0</td>\n",
       "      <td>4174.0</td>\n",
       "      <td>14967.0</td>\n",
       "      <td>2015</td>\n",
       "    </tr>\n",
       "    <tr>\n",
       "      <th>3</th>\n",
       "      <td>10005</td>\n",
       "      <td>DE</td>\n",
       "      <td>Sussex County</td>\n",
       "      <td>794.0</td>\n",
       "      <td>436.0</td>\n",
       "      <td>805.0</td>\n",
       "      <td>929.0</td>\n",
       "      <td>1453.0</td>\n",
       "      <td>2204.0</td>\n",
       "      <td>30.0</td>\n",
       "      <td>...</td>\n",
       "      <td>257.0</td>\n",
       "      <td>1144.0</td>\n",
       "      <td>4198.0</td>\n",
       "      <td>1032.0</td>\n",
       "      <td>20.0</td>\n",
       "      <td>3408.0</td>\n",
       "      <td>1531.0</td>\n",
       "      <td>1712.0</td>\n",
       "      <td>6651.0</td>\n",
       "      <td>2015</td>\n",
       "    </tr>\n",
       "    <tr>\n",
       "      <th>4</th>\n",
       "      <td>12001</td>\n",
       "      <td>FL</td>\n",
       "      <td>Alachua County</td>\n",
       "      <td>726.0</td>\n",
       "      <td>2161.0</td>\n",
       "      <td>2734.0</td>\n",
       "      <td>1867.0</td>\n",
       "      <td>2250.0</td>\n",
       "      <td>2940.0</td>\n",
       "      <td>41.0</td>\n",
       "      <td>...</td>\n",
       "      <td>1188.0</td>\n",
       "      <td>429.0</td>\n",
       "      <td>9169.0</td>\n",
       "      <td>1848.0</td>\n",
       "      <td>85.0</td>\n",
       "      <td>6443.0</td>\n",
       "      <td>4378.0</td>\n",
       "      <td>1898.0</td>\n",
       "      <td>12719.0</td>\n",
       "      <td>2015</td>\n",
       "    </tr>\n",
       "  </tbody>\n",
       "</table>\n",
       "<p>5 rows × 41 columns</p>\n",
       "</div>"
      ],
      "text/plain": [
       "     cfc state             county    0-17   18-25   26-34   35-44   45-54  \\\n",
       "0  12109    FL   St. Johns County  1259.0  1093.0  1566.0  1684.0  2354.0   \n",
       "1  10001    DE        Kent County   413.0   284.0   529.0   530.0   771.0   \n",
       "2  10003    DE  New Castle County  1964.0  1275.0  2487.0  2333.0  3288.0   \n",
       "3  10005    DE      Sussex County   794.0   436.0   805.0   929.0  1453.0   \n",
       "4  12001    FL     Alachua County   726.0  2161.0  2734.0  1867.0  2250.0   \n",
       "\n",
       "    55-64    65+  ...   platinum    gold  silver  bronze  catastrophic  \\\n",
       "0  2963.0   41.0  ...     1128.0   594.0  7209.0  1967.0          62.0   \n",
       "1   872.0   18.0  ...      107.0   528.0  2136.0   629.0          17.0   \n",
       "2  3494.0  126.0  ...      679.0  2406.0  8835.0  2943.0         104.0   \n",
       "3  2204.0   30.0  ...      257.0  1144.0  4198.0  1032.0          20.0   \n",
       "4  2940.0   41.0  ...     1188.0   429.0  9169.0  1848.0          85.0   \n",
       "\n",
       "      new  active_renew  auto_renew      tps  Year  \n",
       "0  5875.0        3783.0      1302.0  10960.0  2015  \n",
       "1  1853.0         655.0       909.0   3417.0  2015  \n",
       "2  7453.0        3340.0      4174.0  14967.0  2015  \n",
       "3  3408.0        1531.0      1712.0   6651.0  2015  \n",
       "4  6443.0        4378.0      1898.0  12719.0  2015  \n",
       "\n",
       "[5 rows x 41 columns]"
      ]
     },
     "execution_count": 2,
     "metadata": {},
     "output_type": "execute_result"
    }
   ],
   "source": []
  },
  {
   "cell_type": "code",
   "execution_count": 3,
   "metadata": {
    "collapsed": true
   },
   "outputs": [],
   "source": [
    "# Create our X and y for the model with individual y's for each metallic tier.\n",
    "\n",
    "# Our X Dropping the Metallic Tier Targets, String Data, and Categorical Year\n",
    "X = df.drop(['cfc','state','county','platinum','gold','silver','bronze','catastrophic', 'Year'], axis=1).values\n",
    "\n",
    "# Individual y's for Each Target Data\n",
    "ycat = df.catastrophic.values\n",
    "ycat = ycat.reshape(-1,1)\n",
    "\n",
    "ybro = df.bronze.values\n",
    "ybro = ybro.reshape(-1,1)\n",
    "\n",
    "ysil = df.silver.values\n",
    "ysil = ysil.reshape(-1,1)\n",
    "\n",
    "ygold = df.gold.values\n",
    "ygold = ygold.reshape(-1,1)\n",
    "\n",
    "yplat = df.platinum.values\n",
    "yplat = yplat.reshape(-1,1)\n",
    "\n",
    "# Create List of Target Values and Names of Target Values\n",
    "ys=[ycat, ybro, ysil, ygold, yplat]\n",
    "ys_name = ['Catastrophic','Bronze','Silver','Gold','Platinum']"
   ]
  },
  {
   "cell_type": "markdown",
   "metadata": {},
   "source": [
    "***\n",
    "## Linear Regression - Unscaled"
   ]
  },
  {
   "cell_type": "code",
   "execution_count": 4,
   "metadata": {},
   "outputs": [
    {
     "name": "stdout",
     "output_type": "stream",
     "text": [
      "Catastrophic Root Mean Squared Error: 101.35513522757597\n",
      "Catastrophic Score: 0.26155584930147957\n",
      "Catastrophic Average 5-Fold R^2: 0.37692788352433615 \n",
      "\n",
      "Bronze Root Mean Squared Error: 440.456484616362\n",
      "Bronze Score: 0.9867952624702108\n",
      "Bronze Average 5-Fold R^2: 0.9843763749503962 \n",
      "\n",
      "Silver Root Mean Squared Error: 396.0262390216483\n",
      "Silver Score: 0.9990152791700296\n",
      "Silver Average 5-Fold R^2: 0.9990276367116137 \n",
      "\n",
      "Gold Root Mean Squared Error: 205.2773926553915\n",
      "Gold Score: 0.9527536802154588\n",
      "Gold Average 5-Fold R^2: 0.9032524575621451 \n",
      "\n",
      "Platinum Root Mean Squared Error: 242.4223240237867\n",
      "Platinum Score: 0.24241795204508057\n",
      "Platinum Average 5-Fold R^2: 0.04171794218998355 \n",
      "\n"
     ]
    }
   ],
   "source": [
    "# Let's take a look at our predictive capabilites out of the box\n",
    "\n",
    "# Instantiate Regressor and Nameplace\n",
    "reg = LinearRegression()\n",
    "place = 0\n",
    "\n",
    "#Iterate through target values, calculate and print RMSE, calculate and print Mean R^2 using 5-Fold CV\n",
    "for y in ys:\n",
    "    X_train, X_test, y_train, y_test = train_test_split(X,y, test_size=.3, random_state=42)\n",
    "    reg.fit(X_train, y_train)\n",
    "    pred = reg.predict(X_test)\n",
    "    rmse = np.sqrt(mean_squared_error(y_test, pred))\n",
    "    score = reg.score(X_test, y_test)\n",
    "    print(ys_name[place], 'Root Mean Squared Error: {}'.format(rmse))\n",
    "    print(ys_name[place], 'Score: {}'.format(score))\n",
    "    cv_scores = cross_val_score(reg, X, y, cv=5)\n",
    "    print(ys_name[place], 'Average 5-Fold R^2: {}'.format(np.mean(cv_scores)),'\\n')\n",
    "    place = place+1"
   ]
  },
  {
   "cell_type": "markdown",
   "metadata": {},
   "source": [
    "***\n",
    "## Ridge Unscaled\n"
   ]
  },
  {
   "cell_type": "code",
   "execution_count": 5,
   "metadata": {},
   "outputs": [
    {
     "name": "stdout",
     "output_type": "stream",
     "text": [
      "Catastrophic Tuned Ridge alpha ratio: {'alpha': 100}\n",
      "Catastrophic Tuned Ridge R^2: 0.2615378536997798\n",
      "Catastrophic Tuned Ridge MSE: 10273.113782755612 \n",
      "\n",
      "Bronze Tuned Ridge alpha ratio: {'alpha': 100}\n",
      "Bronze Tuned Ridge R^2: 0.9867961665616776\n",
      "Bronze Tuned Ridge MSE: 193988.63207179858 \n",
      "\n",
      "Silver Tuned Ridge alpha ratio: {'alpha': 100}\n",
      "Silver Tuned Ridge R^2: 0.9990152982324662\n",
      "Silver Tuned Ridge MSE: 156833.74591364604 \n",
      "\n",
      "Gold Tuned Ridge alpha ratio: {'alpha': 100}\n",
      "Gold Tuned Ridge R^2: 0.9527549314037767\n",
      "Gold Tuned Ridge MSE: 42137.69200542588 \n",
      "\n",
      "Platinum Tuned Ridge alpha ratio: {'alpha': 0.0001}\n",
      "Platinum Tuned Ridge R^2: 0.2424179520867561\n",
      "Platinum Tuned Ridge MSE: 58768.5831818609 \n",
      "\n"
     ]
    }
   ],
   "source": [
    "import warnings\n",
    "warnings.filterwarnings('ignore')\n",
    "\n",
    "# Time to tune the alpha of our Ridge Model.\n",
    "\n",
    "#Instantiate Ridge Regressor and initiate name start point.\n",
    "ridge = Ridge()\n",
    "place = 0\n",
    "\n",
    "# Create hyperparameter grid for alpha\n",
    "alpha = [.0001,.001,.01,.1,1,10,100]\n",
    "a_grid = {'alpha': alpha}\n",
    "\n",
    "#Set up GridSearchCV object.\n",
    "grid_cv = GridSearchCV(ridge, a_grid, cv=5)\n",
    "\n",
    "# Iterate over metallic tiers and prine best alpha for each tier\n",
    "for y in ys:\n",
    "    X_train, X_test, y_train, y_test = train_test_split(X,y, test_size=.3, random_state=42)\n",
    "    \n",
    "    # Fit training data\n",
    "    grid_cv.fit(X_train,y_train)\n",
    "    \n",
    "    # Predict on the test set and compute metrics\n",
    "    y_pred = grid_cv.predict(X_test)\n",
    "    r2 = grid_cv.score(X_test, y_test)\n",
    "    mse = mean_squared_error(y_test, y_pred)\n",
    "    print(ys_name[place],\"Tuned Ridge alpha ratio: {}\".format(grid_cv.best_params_))\n",
    "    print(ys_name[place],\"Tuned Ridge R^2: {}\".format(r2))\n",
    "    print(ys_name[place],\"Tuned Ridge MSE: {}\".format(mse),'\\n')\n",
    "    place+=1"
   ]
  },
  {
   "cell_type": "code",
   "execution_count": 6,
   "metadata": {},
   "outputs": [
    {
     "name": "stdout",
     "output_type": "stream",
     "text": [
      "Catastrophic Root Mean Squared Error: 101.35637021300444\n",
      "Catastrophic Average 5-Fold R^2: 0.37974699928346434 \n",
      "\n",
      "Bronze Root Mean Squared Error: 440.44140594612423\n",
      "Bronze Average 5-Fold R^2: 0.98436685760236 \n",
      "\n",
      "Silver Root Mean Squared Error: 396.022405822759\n",
      "Silver Average 5-Fold R^2: 0.9990279667131615 \n",
      "\n",
      "Gold Root Mean Squared Error: 205.27467453494083\n",
      "Gold Average 5-Fold R^2: 0.9026530098937041 \n",
      "\n",
      "Platinum Root Mean Squared Error: 242.42232401711874\n",
      "Platinum Average 5-Fold R^2: 0.034369230733370594 \n",
      "\n"
     ]
    }
   ],
   "source": [
    "# Initialize Alphas, and Nameplace\n",
    "ridge_alphas=[100,100,100,100,0.0001]\n",
    "place = 0\n",
    "\n",
    "#Iterate through target values, calculate and print RMSE, calculate and print Mean R^2 using 5-Fold CV\n",
    "for y in ys:\n",
    "    X_train, X_test, y_train, y_test = train_test_split(X,y, test_size=.3, random_state=42)\n",
    "    ridge = Ridge(alpha=ridge_alphas[place])\n",
    "    ridge.fit(X_train, y_train)\n",
    "    pred = ridge.predict(X_test)\n",
    "    rmse = np.sqrt(mean_squared_error(y_test, pred))\n",
    "    print(ys_name[place], 'Root Mean Squared Error: {}'.format(rmse))\n",
    "    cv_scores = cross_val_score(ridge, X, y, cv=5)\n",
    "    print(ys_name[place], 'Average 5-Fold R^2: {}'.format(np.mean(cv_scores)),'\\n')\n",
    "    place +=1"
   ]
  },
  {
   "cell_type": "markdown",
   "metadata": {},
   "source": [
    "***\n",
    "## Lasso - Unscaled"
   ]
  },
  {
   "cell_type": "code",
   "execution_count": 7,
   "metadata": {
    "scrolled": false
   },
   "outputs": [
    {
     "data": {
      "image/png": "[encoded data removed]",
      "text/plain": [
       "<matplotlib.figure.Figure at 0x23b9ef636d8>"
      ]
     },
     "metadata": {},
     "output_type": "display_data"
    }
   ],
   "source": [
    "# Plot important features to predictive model using Lasso.  I'm starting with Silver Tier as it is the most selected tier.\n",
    "X_df = df.drop(['cfc','state','county','platinum','gold','silver','bronze','catastrophic', 'Year'], axis=1)\n",
    "cols = X_df.columns\n",
    "\n",
    "# Instantiate and fit Lasso model and calculate the coeffecient.\n",
    "lasso = Lasso(alpha=.5, normalize=True)\n",
    "lasso.fit(X,ysil)\n",
    "lasso_coef = lasso.coef_\n",
    "\n",
    "# Plot the Lasso coeffecients for each feature.\n",
    "fig, ax = plt.subplots(1,1, figsize=(10,5))\n",
    "_ = ax.plot(range(len(cols)),lasso_coef)\n",
    "_ = plt.xticks(range(len(cols)),cols.values, rotation=90)\n",
    "_ = plt.title('Lasso of Features in the Data for Silver Tier')\n",
    "plt.show()"
   ]
  },
  {
   "cell_type": "markdown",
   "metadata": {},
   "source": [
    "As predicted in EDA and confirmed in plotting out the important features using Lasso, the following group of features play an important part in predicting metallic tier count:<br>\n",
    "-   Age Group\n",
    "-   Financial Aid Status\n",
    "-   Income Level (based on percent above Federal Poverty Limit)\n",
    "-   How Consumer Enrolled\n",
    "***\n",
    "Time to check and see if the same features are important for the other metallic tiers. "
   ]
  },
  {
   "cell_type": "code",
   "execution_count": 8,
   "metadata": {},
   "outputs": [
    {
     "data": {
      "image/png": "[encoded data removed]",
      "text/plain": [
       "<matplotlib.figure.Figure at 0x23b983da470>"
      ]
     },
     "metadata": {},
     "output_type": "display_data"
    }
   ],
   "source": [
    "# Plot important features using Lasso on Gold target to see if the plot is similar to the silver plot.\n",
    "\n",
    "# Instantiate and fit Lasso model and calculate the coeffecient.\n",
    "lasso = Lasso(alpha=.4, normalize=True)\n",
    "lasso.fit(X,ygold)\n",
    "lasso_coef = lasso.coef_\n",
    "\n",
    "# Plot the Lasso coeffecients for each feature.\n",
    "fig, ax = plt.subplots(1,1, figsize=(10,5))\n",
    "_ = ax.plot(range(len(cols)),lasso_coef)\n",
    "_ = plt.xticks(range(len(cols)),cols.values, rotation=90)\n",
    "_ = plt.title('Lasso of Features in the Data for Gold Tier')\n",
    "plt.show()"
   ]
  },
  {
   "cell_type": "code",
   "execution_count": 9,
   "metadata": {},
   "outputs": [
    {
     "data": {
      "image/png": "[encoded data removed]",
      "text/plain": [
       "<matplotlib.figure.Figure at 0x23ba00a8f28>"
      ]
     },
     "metadata": {},
     "output_type": "display_data"
    }
   ],
   "source": [
    "# Plot important features using Lasso on Bronze target.\n",
    "\n",
    "# Instantiate and fit Lasso model and calculate the coeffecient.\n",
    "lasso = Lasso(alpha=.4, normalize=True)\n",
    "lasso.fit(X,ybro)\n",
    "lasso_coef = lasso.coef_\n",
    "\n",
    "# Plot the Lasso coeffecients for each feature.\n",
    "fig, ax = plt.subplots(1,1, figsize=(10,5))\n",
    "_ = ax.plot(range(len(cols)),lasso_coef)\n",
    "_ = plt.xticks(range(len(cols)),cols.values, rotation=90)\n",
    "_ = plt.title('Lasso of Features in the Data for Bronze Tier')\n",
    "plt.show()"
   ]
  },
  {
   "cell_type": "code",
   "execution_count": 10,
   "metadata": {},
   "outputs": [
    {
     "data": {
      "image/png": "[encoded data removed]",
      "text/plain": [
       "<matplotlib.figure.Figure at 0x23ba009ac18>"
      ]
     },
     "metadata": {},
     "output_type": "display_data"
    }
   ],
   "source": [
    "# Plot important features using Lasso on Catastrophic target.\n",
    "\n",
    "# Instantiate and fit Lasso model and calculate the coeffecient.\n",
    "lasso = Lasso(alpha=.4, normalize=True)\n",
    "lasso.fit(X,ycat)\n",
    "lasso_coef = lasso.coef_\n",
    "\n",
    "# Plot the Lasso coeffecients for each feature.\n",
    "fig, ax = plt.subplots(1,1, figsize=(10,5))\n",
    "_ = ax.plot(range(len(cols)),lasso_coef)\n",
    "_ = plt.xticks(range(len(cols)),cols.values, rotation=90)\n",
    "_ = plt.title('Lasso of Features in the Data for Catastrophic Tier')\n",
    "plt.show()"
   ]
  },
  {
   "cell_type": "code",
   "execution_count": 11,
   "metadata": {},
   "outputs": [
    {
     "data": {
      "image/png": "[encoded data removed]",
      "text/plain": [
       "<matplotlib.figure.Figure at 0x23ba014e908>"
      ]
     },
     "metadata": {},
     "output_type": "display_data"
    }
   ],
   "source": [
    "# Plot important features using Lasso on Platinum target.\n",
    "\n",
    "# Instantiate and fit Lasso model and calculate the coeffecient.\n",
    "lasso = Lasso(alpha=.4, normalize=True)\n",
    "lasso.fit(X,yplat)\n",
    "lasso_coef = lasso.coef_\n",
    "\n",
    "# Plot the Lasso coeffecients for each feature.\n",
    "fig, ax = plt.subplots(1,1, figsize=(10,5))\n",
    "_ = ax.plot(range(len(cols)),lasso_coef)\n",
    "_ = plt.xticks(range(len(cols)),cols.values, rotation=90)\n",
    "_ = plt.title('Lasso of Features in the Data for Platinum Tier')\n",
    "plt.show()"
   ]
  },
  {
   "cell_type": "markdown",
   "metadata": {},
   "source": [
    "There are distinct and interesting feature differences for each tier.  Here is what I've found:\n",
    "-  Catastrophic Tier: Young Age Group, Multiracial, Unknown Income Level\n",
    "-  Bronze Tier:  Negative for Older Age Group, Lower Income, Various Enrollment Types and Ethnicities\n",
    "-  Silver Tier:  Various Age, Financial Aid, Income, and Enrollment Types\n",
    "-  Gold Tier:  Younger Age, No APTC, Various Ethnicities, High Income\n",
    "-  Platinum Tier:  New and Automatic Enrollment Types, Black and White Ethnicities"
   ]
  },
  {
   "cell_type": "code",
   "execution_count": 12,
   "metadata": {
    "scrolled": true
   },
   "outputs": [
    {
     "name": "stdout",
     "output_type": "stream",
     "text": [
      "Catastrophic Tuned Lasso alpha ratio: {'alpha': 0.0001}\n",
      "Catastrophic Tuned Lasso R^2: 0.2750656158622846\n",
      "Catastrophic Tuned Lasso MSE: 10084.922362765115 \n",
      "\n",
      "Bronze Tuned Lasso alpha ratio: {'alpha': 100}\n",
      "Bronze Tuned Lasso R^2: 0.9872627665308983\n",
      "Bronze Tuned Lasso MSE: 187133.4191386239 \n",
      "\n",
      "Silver Tuned Lasso alpha ratio: {'alpha': 100}\n",
      "Silver Tuned Lasso R^2: 0.9993309172221885\n",
      "Silver Tuned Lasso MSE: 106565.01473873168 \n",
      "\n",
      "Gold Tuned Lasso alpha ratio: {'alpha': 100}\n",
      "Gold Tuned Lasso R^2: 0.9486046699876299\n",
      "Gold Tuned Lasso MSE: 45839.29393959213 \n",
      "\n",
      "Platinum Tuned Lasso alpha ratio: {'alpha': 100}\n",
      "Platinum Tuned Lasso R^2: 0.21679599681524764\n",
      "Platinum Tuned Lasso MSE: 60756.17781112012 \n",
      "\n"
     ]
    }
   ],
   "source": [
    "# Time to tune the alpha of our Lasso Model.\n",
    "\n",
    "#Instantiate Lasso Regressor and initiate place start point.\n",
    "lasso = Lasso()\n",
    "place = 0\n",
    "\n",
    "# Create hyperparameter grid for alpha\n",
    "alpha = [.0001,.001,.01,.1,1,10,100]\n",
    "a_grid = {'alpha': alpha}\n",
    "\n",
    "#Set up GridSearchCV object.\n",
    "grid_cv = GridSearchCV(lasso, a_grid, cv=5)\n",
    "\n",
    "# Iterate over metallic tiers and prine best alpha for each tier\n",
    "for y in ys:\n",
    "    X_train, X_test, y_train, y_test = train_test_split(X,y, test_size=.3, random_state=42)\n",
    "    \n",
    "    # Fit training data\n",
    "    grid_cv.fit(X_train,y_train)\n",
    "    \n",
    "    # Predict on the test set and compute metrics\n",
    "    y_pred = grid_cv.predict(X_test)\n",
    "    r2 = grid_cv.score(X_test, y_test)\n",
    "    mse = mean_squared_error(y_test, y_pred)\n",
    "    print(ys_name[place],\"Tuned Lasso alpha ratio: {}\".format(grid_cv.best_params_))\n",
    "    print(ys_name[place],\"Tuned Lasso R^2: {}\".format(r2))\n",
    "    print(ys_name[place],\"Tuned Lasso MSE: {}\".format(mse),'\\n')\n",
    "    place+=1"
   ]
  },
  {
   "cell_type": "code",
   "execution_count": 13,
   "metadata": {},
   "outputs": [
    {
     "name": "stdout",
     "output_type": "stream",
     "text": [
      "Catastrophic Root Mean Squared Error: 100.42371414544034\n",
      "Catastrophic Average 5-Fold R^2: 0.40812799573230885 \n",
      "\n",
      "Bronze Root Mean Squared Error: 432.58920367783554\n",
      "Bronze Average 5-Fold R^2: 0.9846291189828854 \n",
      "\n",
      "Silver Root Mean Squared Error: 326.44297318020443\n",
      "Silver Average 5-Fold R^2: 0.999032394559574 \n",
      "\n",
      "Gold Root Mean Squared Error: 214.101130168881\n",
      "Gold Average 5-Fold R^2: 0.9026075673594584 \n",
      "\n",
      "Platinum Root Mean Squared Error: 246.48768287912506\n",
      "Platinum Average 5-Fold R^2: 0.18690755134160866 \n",
      "\n"
     ]
    }
   ],
   "source": [
    "# Initialize Alphas, and Nameplace\n",
    "lasso_alphas=[.0001,100,100,100,100]\n",
    "place = 0\n",
    "\n",
    "#Iterate through target values, calculate and print RMSE, calculate and print Mean R^2 using 5-Fold CV\n",
    "for y in ys:\n",
    "    X_train, X_test, y_train, y_test = train_test_split(X,y, test_size=.3, random_state=42)\n",
    "    lasso = Lasso(alpha=lasso_alphas[place])\n",
    "    lasso.fit(X_train, y_train)\n",
    "    pred = lasso.predict(X_test)\n",
    "    rmse = np.sqrt(mean_squared_error(y_test, pred))\n",
    "    print(ys_name[place], 'Root Mean Squared Error: {}'.format(rmse))\n",
    "    cv_scores = cross_val_score(lasso, X, y, cv=5)\n",
    "    print(ys_name[place], 'Average 5-Fold R^2: {}'.format(np.mean(cv_scores)),'\\n')\n",
    "    place +=1"
   ]
  },
  {
   "cell_type": "code",
   "execution_count": 14,
   "metadata": {},
   "outputs": [
    {
     "name": "stdout",
     "output_type": "stream",
     "text": [
      "Catastrophic Root Mean Squared Error: 100.41959793749817\n",
      "Catastrophic Average 5-Fold R^2: 0.40818364696316856 \n",
      "\n",
      "Bronze Root Mean Squared Error: 660.6630599438158\n",
      "Bronze Average 5-Fold R^2: 0.9591999679061051 \n",
      "\n",
      "Silver Root Mean Squared Error: 307.26281237398626\n",
      "Silver Average 5-Fold R^2: 0.998765174423003 \n",
      "\n",
      "Gold Root Mean Squared Error: 249.8378300788223\n",
      "Gold Average 5-Fold R^2: 0.9010608234621416 \n",
      "\n",
      "Platinum Root Mean Squared Error: 196.62913589665277\n",
      "Platinum Average 5-Fold R^2: 0.3095282200596486 \n",
      "\n"
     ]
    }
   ],
   "source": [
    "# Initialize starting place.\n",
    "place = 0\n",
    "#Iterate through target values, calculate and print RMSE, calculate and print Mean R^2 using 5-Fold CV\n",
    "for y in ys:\n",
    "    X_train, X_test, y_train, y_test = train_test_split(X,y, test_size=.3, random_state=42)\n",
    "    \n",
    "    # Scaling the data may help as variance is very high within the data.\n",
    "    steps = [('scaler', StandardScaler()),('lasso', Lasso(alpha=lasso_alphas[place]))]\n",
    "    # Create Pipeline and initialize starting place.\n",
    "    pipe = Pipeline(steps)\n",
    "    # Fit pipeline and calculate metrics. \n",
    "    pipe.fit(X_train, y_train)\n",
    "    pred = pipe.predict(X_test)\n",
    "    rmse = np.sqrt(mean_squared_error(y_test, pred))\n",
    "    print(ys_name[place], 'Root Mean Squared Error: {}'.format(rmse))\n",
    "    cv_scores = cross_val_score(pipe, X, y, cv=5)\n",
    "    print(ys_name[place], 'Average 5-Fold R^2: {}'.format(np.mean(cv_scores)),'\\n')\n",
    "    place +=1\n"
   ]
  },
  {
   "cell_type": "markdown",
   "metadata": {},
   "source": [
    "It does not appear as though Lasso will be a useful model either.\n",
    "***\n",
    "## ElasticNet - Unscaled"
   ]
  },
  {
   "cell_type": "code",
   "execution_count": 17,
   "metadata": {},
   "outputs": [
    {
     "name": "stdout",
     "output_type": "stream",
     "text": [
      "Catastrophic Tuned ElasticNet l1 ratio: {'l1_ratio': -1.0}\n",
      "Catastrophic Tuned ElasticNet R^2: 0.27462528324821367\n",
      "Catastrophic Tuned ElasticNet MSE: 10091.048048515257 \n",
      "\n",
      "Bronze Tuned ElasticNet l1 ratio: {'l1_ratio': -1.0}\n",
      "Bronze Tuned ElasticNet R^2: 0.9863183215199286\n",
      "Bronze Tuned ElasticNet MSE: 201009.05583162373 \n",
      "\n",
      "Silver Tuned ElasticNet l1 ratio: {'l1_ratio': -1.0}\n",
      "Silver Tuned ElasticNet R^2: 0.999321536098446\n",
      "Silver Tuned ElasticNet MSE: 108059.14913142152 \n",
      "\n",
      "Gold Tuned ElasticNet l1 ratio: {'l1_ratio': -1.0}\n",
      "Gold Tuned ElasticNet R^2: 0.9471541709083171\n",
      "Gold Tuned ElasticNet MSE: 47132.988398596724 \n",
      "\n",
      "Platinum Tuned ElasticNet l1 ratio: {'l1_ratio': -1.0}\n",
      "Platinum Tuned ElasticNet R^2: 0.23311337355355322\n",
      "Platinum Tuned ElasticNet MSE: 59490.375493343054 \n",
      "\n"
     ]
    }
   ],
   "source": [
    "# Time to tune the l1 ratio of our ElasticNet Model.\n",
    "\n",
    "# Instantiate ElasticNet Regressor and initiate name start point.\n",
    "enet = ElasticNet()\n",
    "place = 0\n",
    "\n",
    "# Create hyperparameter grid for alpha\n",
    "l1_space = np.linspace(-1,1,30)\n",
    "grid = {'l1_ratio': l1_space}\n",
    "\n",
    "#Set up GridSearchCV object.\n",
    "grid_cv = GridSearchCV(enet, grid, cv=5)\n",
    "\n",
    "# Iterate over metallic tiers and prine best alpha for each tier\n",
    "for y in ys:\n",
    "    X_train, X_test, y_train, y_test = train_test_split(X,y, test_size=.3, random_state=42)\n",
    "    \n",
    "    # Fit training data\n",
    "    grid_cv.fit(X_train,y_train)\n",
    "    \n",
    "    # Predict on the test set and compute metrics\n",
    "    y_pred = grid_cv.predict(X_test)\n",
    "    r2 = grid_cv.score(X_test, y_test)\n",
    "    mse = mean_squared_error(y_test, y_pred)\n",
    "    print(ys_name[place],\"Tuned ElasticNet l1 ratio: {}\".format(grid_cv.best_params_))\n",
    "    print(ys_name[place],\"Tuned ElasticNet R^2: {}\".format(r2))\n",
    "    print(ys_name[place],\"Tuned ElasticNet MSE: {}\".format(mse),'\\n')\n",
    "    place+=1"
   ]
  },
  {
   "cell_type": "code",
   "execution_count": 18,
   "metadata": {},
   "outputs": [
    {
     "name": "stdout",
     "output_type": "stream",
     "text": [
      "Catastrophic Root Mean Squared Error: 100.45420871479331\n",
      "Catastrophic Average 5-Fold R^2: 0.4110486605402518 \n",
      "\n",
      "Bronze Root Mean Squared Error: 448.3403348257033\n",
      "Bronze Average 5-Fold R^2: 0.984393122185747 \n",
      "\n",
      "Silver Root Mean Squared Error: 328.7235147223598\n",
      "Silver Average 5-Fold R^2: 0.9990275711539962 \n",
      "\n",
      "Gold Root Mean Squared Error: 217.10133209770208\n",
      "Gold Average 5-Fold R^2: 0.8952090610960909 \n",
      "\n",
      "Platinum Root Mean Squared Error: 243.90648923991967\n",
      "Platinum Average 5-Fold R^2: 0.11765477317572019 \n",
      "\n"
     ]
    }
   ],
   "source": [
    "# Initialize Alphas, Model, and Nameplace\n",
    "enet_l1=[-1,-1,-1,-1,-1]\n",
    "place = 0\n",
    "\n",
    "#Iterate through target values, calculate and print RMSE, calculate and print Mean R^2 using 5-Fold CV\n",
    "for y in ys:\n",
    "    X_train, X_test, y_train, y_test = train_test_split(X,y, test_size=.3, random_state=42)\n",
    "    enet = ElasticNet(l1_ratio= enet_l1[place])\n",
    "    enet.fit(X_train, y_train)\n",
    "    pred = enet.predict(X_test)\n",
    "    rmse = np.sqrt(mean_squared_error(y_test, pred))\n",
    "    print(ys_name[place], 'Root Mean Squared Error: {}'.format(rmse))\n",
    "    cv_scores = cross_val_score(enet, X, y, cv=5)\n",
    "    print(ys_name[place], 'Average 5-Fold R^2: {}'.format(np.mean(cv_scores)),'\\n')\n",
    "\n",
    "    place +=1"
   ]
  },
  {
   "cell_type": "markdown",
   "metadata": {},
   "source": [
    "***\n",
    "## Huber - Unscaled"
   ]
  },
  {
   "cell_type": "code",
   "execution_count": 7,
   "metadata": {},
   "outputs": [
    {
     "name": "stdout",
     "output_type": "stream",
     "text": [
      "Catastrophic Tuned Huber alpha ratio: {'alpha': 0.0001}\n",
      "Catastrophic Tuned Huber R^2: 0.18955625786819974\n",
      "Catastrophic Tuned Huber MSE: 11274.48552258954 \n",
      "\n",
      "Bronze Tuned Huber alpha ratio: {'alpha': 10}\n",
      "Bronze Tuned Huber R^2: 0.9917086673938568\n",
      "Bronze Tuned Huber MSE: 121814.94698727313 \n",
      "\n",
      "Silver Tuned Huber alpha ratio: {'alpha': 0.01}\n",
      "Silver Tuned Huber R^2: 0.9993385745057756\n",
      "Silver Tuned Huber MSE: 105345.43688471787 \n",
      "\n",
      "Gold Tuned Huber alpha ratio: {'alpha': 0.01}\n",
      "Gold Tuned Huber R^2: 0.9557701991952531\n",
      "Gold Tuned Huber MSE: 39448.38644854341 \n",
      "\n",
      "Platinum Tuned Huber alpha ratio: {'alpha': 0.001}\n",
      "Platinum Tuned Huber R^2: 0.4851776078245345\n",
      "Platinum Tuned Huber MSE: 39936.77339871868 \n",
      "\n"
     ]
    }
   ],
   "source": [
    "# Tuning the alpha of the Huber Regresspr Model.\n",
    "\n",
    "#Instantiate Huber Regressor and initiate place start point.\n",
    "huber = HuberRegressor()\n",
    "place = 0\n",
    "\n",
    "# Create hyperparameter grid for alpha\n",
    "alpha = [.0001,.001,.01,.1,1,10,100]\n",
    "a_grid = {'alpha': alpha}\n",
    "\n",
    "#Set up GridSearchCV object.\n",
    "grid_cv = GridSearchCV(huber, a_grid, cv=5)\n",
    "\n",
    "# Iterate over metallic tiers and prine best alpha for each tier\n",
    "for y in ys:\n",
    "    X_train, X_test, y_train, y_test = train_test_split(X,y, test_size=.3, random_state=42)\n",
    "    \n",
    "    # Fit training data\n",
    "    grid_cv.fit(X_train,y_train)\n",
    "    \n",
    "    # Predict on the test set and compute metrics\n",
    "    y_pred = grid_cv.predict(X_test)\n",
    "    r2 = grid_cv.score(X_test, y_test)\n",
    "    mse = mean_squared_error(y_test, y_pred)\n",
    "    print(ys_name[place],\"Tuned Huber alpha ratio: {}\".format(grid_cv.best_params_))\n",
    "    print(ys_name[place],\"Tuned Huber R^2: {}\".format(r2))\n",
    "    print(ys_name[place],\"Tuned Huber MSE: {}\".format(mse),'\\n')\n",
    "    place+=1"
   ]
  },
  {
   "cell_type": "code",
   "execution_count": 20,
   "metadata": {},
   "outputs": [
    {
     "name": "stdout",
     "output_type": "stream",
     "text": [
      "Catastrophic Root Mean Squared Error: 106.18138030083024\n",
      "Catastrophic Score: 0.18955625786819974\n",
      "Catastrophic Average 5-Fold R^2: 0.5951471090000697 \n",
      "\n",
      "Bronze Root Mean Squared Error: 349.01998078515953\n",
      "Bronze Score: 0.9917086673938568\n",
      "Bronze Average 5-Fold R^2: 0.9860237267213519 \n",
      "\n",
      "Silver Root Mean Squared Error: 324.56961793229794\n",
      "Silver Score: 0.9993385745057756\n",
      "Silver Average 5-Fold R^2: 0.9989523140860272 \n",
      "\n",
      "Gold Root Mean Squared Error: 198.6161787180073\n",
      "Gold Score: 0.9557701991952531\n",
      "Gold Average 5-Fold R^2: 0.9064597556551283 \n",
      "\n",
      "Platinum Root Mean Squared Error: 199.8418709848331\n",
      "Platinum Score: 0.4851776078245345\n",
      "Platinum Average 5-Fold R^2: 0.43620790004043464 \n",
      "\n"
     ]
    }
   ],
   "source": [
    "# Initialize Alphas, and Nameplace\n",
    "huber_alphas=[.0001,10,.01,.01,.001]\n",
    "place = 0\n",
    "\n",
    "#Iterate through target values, calculate and print RMSE, calculate and print Mean R^2 using 5-Fold CV\n",
    "for y in ys:\n",
    "    X_train, X_test, y_train, y_test = train_test_split(X,y, test_size=.3, random_state=42)\n",
    "    huber = HuberRegressor(alpha=huber_alphas[place],)\n",
    "    huber.fit(X_train, y_train)\n",
    "    pred = huber.predict(X_test)\n",
    "    score = huber.score(X_test, y_test)\n",
    "    rmse = np.sqrt(mean_squared_error(y_test, pred))\n",
    "    print(ys_name[place], 'Root Mean Squared Error: {}'.format(rmse))\n",
    "    print(ys_name[place], 'Score: {}'.format(score))\n",
    "    cv_scores = cross_val_score(huber, X, y, cv=5)\n",
    "    print(ys_name[place], 'Average 5-Fold R^2: {}'.format(np.mean(cv_scores)),'\\n')\n",
    "    place +=1"
   ]
  },
  {
   "cell_type": "code",
   "execution_count": 21,
   "metadata": {},
   "outputs": [
    {
     "name": "stdout",
     "output_type": "stream",
     "text": [
      "Catastrophic Root Mean Squared Error: 105.37262252130427\n",
      "Catastrophic Score: 0.20185514619577238\n",
      "Catastrophic Average 5-Fold R^2: 0.5531423384307141 \n",
      "\n",
      "Bronze Root Mean Squared Error: 1765.399940522252\n",
      "Bronze Score: 0.7878661510421018\n",
      "Bronze Average 5-Fold R^2: 0.8047104586493136 \n",
      "\n",
      "Silver Root Mean Squared Error: 307.9728089504467\n",
      "Silver Score: 0.9994044887775054\n",
      "Silver Average 5-Fold R^2: 0.9989721173003623 \n",
      "\n",
      "Gold Root Mean Squared Error: 208.1143781287514\n",
      "Gold Score: 0.951438744024792\n",
      "Gold Average 5-Fold R^2: 0.9009968530793835 \n",
      "\n",
      "Platinum Root Mean Squared Error: 213.66628568978024\n",
      "Platinum Score: 0.4114864656151856\n",
      "Platinum Average 5-Fold R^2: 0.38932615443460217 \n",
      "\n"
     ]
    }
   ],
   "source": [
    "# Initialize starting place for a scaled Huber Regressor\n",
    "place = 0\n",
    "#Iterate through target values, calculate and print RMSE, calculate and print Mean R^2 using 5-Fold CV\n",
    "for y in ys:\n",
    "    X_train, X_test, y_train, y_test = train_test_split(X,y, test_size=.3, random_state=42)\n",
    "    \n",
    "    # Scaling the data may help as variance is very high within the data.\n",
    "    steps = [('scaler', StandardScaler()),('huber', HuberRegressor(alpha=huber_alphas[place]))]\n",
    "    # Create Pipeline and initialize starting place.\n",
    "    pipe = Pipeline(steps)\n",
    "    # Fit pipeline and calculate metrics. \n",
    "    pipe.fit(X_train, y_train)\n",
    "    pred = pipe.predict(X_test)\n",
    "    score = pipe.score(X_test, y_test)\n",
    "    rmse = np.sqrt(mean_squared_error(y_test, pred))\n",
    "    print(ys_name[place], 'Root Mean Squared Error: {}'.format(rmse))\n",
    "    print(ys_name[place], 'Score: {}'.format(score))\n",
    "    cv_scores = cross_val_score(pipe, X, y, cv=5)\n",
    "    print(ys_name[place], 'Average 5-Fold R^2: {}'.format(np.mean(cv_scores)),'\\n')\n",
    "    place +=1\n"
   ]
  },
  {
   "cell_type": "markdown",
   "metadata": {},
   "source": [
    "## Gradient Boosting - Unscaled"
   ]
  },
  {
   "cell_type": "code",
   "execution_count": 8,
   "metadata": {},
   "outputs": [
    {
     "name": "stdout",
     "output_type": "stream",
     "text": [
      "Catastrophic Root Mean Squared Error: 85.14771167816247\n",
      "Catastrophic Score: 0.47883876839650336\n",
      "Catastrophic Average 5-Fold R^2: 0.5951471090000697 \n",
      "\n",
      "Bronze Root Mean Squared Error: 827.1416829281717\n",
      "Bronze Score: 0.9534324305419857\n",
      "Bronze Average 5-Fold R^2: 0.9869672061688934 \n",
      "\n",
      "Silver Root Mean Squared Error: 1612.3638598013952\n",
      "Silver Score: 0.9836773258002751\n",
      "Silver Average 5-Fold R^2: 0.9989420181597474 \n",
      "\n",
      "Gold Root Mean Squared Error: 332.90553241066544\n",
      "Gold Score: 0.8757410256489686\n",
      "Gold Average 5-Fold R^2: 0.9044673965043384 \n",
      "\n",
      "Platinum Root Mean Squared Error: 216.13640509385758\n",
      "Platinum Score: 0.39780062331073\n",
      "Platinum Average 5-Fold R^2: 0.4619554928064966 \n",
      "\n"
     ]
    }
   ],
   "source": [
    "# Initialize nameplace\n",
    "place = 0\n",
    "\n",
    "# Iterate through target values, calculate and print RMSE, calculate and print Mean R^2 using 5-Fold CV\n",
    "for y in ys:\n",
    "    X_train, X_test, y_train, y_test = train_test_split(X,y, test_size=.3, random_state=42)\n",
    "    grad = GradientBoostingRegressor(n_estimators=300, max_depth=2, random_state=42)\n",
    "    grad.fit(X_train, y_train)\n",
    "    pred = grad.predict(X_test)\n",
    "    score = grad.score(X_test, y_test)\n",
    "    rmse = np.sqrt(mean_squared_error(y_test, pred))\n",
    "    print(ys_name[place], 'Root Mean Squared Error: {}'.format(rmse))\n",
    "    print(ys_name[place], 'Score: {}'.format(score))\n",
    "    cv_scores = cross_val_score(huber, X, y, cv=5)\n",
    "    print(ys_name[place], 'Average 5-Fold R^2: {}'.format(np.mean(cv_scores)),'\\n')\n",
    "    place +=1"
   ]
  },
  {
   "cell_type": "markdown",
   "metadata": {
    "collapsed": true
   },
   "source": [
    "The best model in this selection overall is the hyperparameter tuned **Huber Regressor - Unscaled**.\n",
    "***\n",
    "It appears that having our model predict raw counts of data is working well for Gold, Silver, and Bronze plans, but not going working well for Platinum and Catastrophic plans.  To answer this issue I will return to my data set and calculate the target counts into percents of each observation's total plan selection.  Hopefully this will create more predictability in the dataset.\n",
    "***\n",
    "# Tiers Scaled to Percent of TPS"
   ]
  },
  {
   "cell_type": "code",
   "execution_count": 22,
   "metadata": {},
   "outputs": [
    {
     "data": {
      "text/html": [
       "<div>\n",
       "<style>\n",
       "    .dataframe thead tr:only-child th {\n",
       "        text-align: right;\n",
       "    }\n",
       "\n",
       "    .dataframe thead th {\n",
       "        text-align: left;\n",
       "    }\n",
       "\n",
       "    .dataframe tbody tr th {\n",
       "        vertical-align: top;\n",
       "    }\n",
       "</style>\n",
       "<table border=\"1\" class=\"dataframe\">\n",
       "  <thead>\n",
       "    <tr style=\"text-align: right;\">\n",
       "      <th></th>\n",
       "      <th>cfc</th>\n",
       "      <th>state</th>\n",
       "      <th>county</th>\n",
       "      <th>0-17</th>\n",
       "      <th>18-25</th>\n",
       "      <th>26-34</th>\n",
       "      <th>35-44</th>\n",
       "      <th>45-54</th>\n",
       "      <th>55-64</th>\n",
       "      <th>65+</th>\n",
       "      <th>...</th>\n",
       "      <th>platinum</th>\n",
       "      <th>gold</th>\n",
       "      <th>silver</th>\n",
       "      <th>bronze</th>\n",
       "      <th>catastrophic</th>\n",
       "      <th>new</th>\n",
       "      <th>active_renew</th>\n",
       "      <th>auto_renew</th>\n",
       "      <th>tps</th>\n",
       "      <th>Year</th>\n",
       "    </tr>\n",
       "  </thead>\n",
       "  <tbody>\n",
       "    <tr>\n",
       "      <th>0</th>\n",
       "      <td>12109</td>\n",
       "      <td>FL</td>\n",
       "      <td>St. Johns County</td>\n",
       "      <td>1259.0</td>\n",
       "      <td>1093.0</td>\n",
       "      <td>1566.0</td>\n",
       "      <td>1684.0</td>\n",
       "      <td>2354.0</td>\n",
       "      <td>2963.0</td>\n",
       "      <td>41.0</td>\n",
       "      <td>...</td>\n",
       "      <td>0.10</td>\n",
       "      <td>0.05</td>\n",
       "      <td>0.66</td>\n",
       "      <td>0.18</td>\n",
       "      <td>0.01</td>\n",
       "      <td>5875.0</td>\n",
       "      <td>3783.0</td>\n",
       "      <td>1302.0</td>\n",
       "      <td>10960.0</td>\n",
       "      <td>2015</td>\n",
       "    </tr>\n",
       "    <tr>\n",
       "      <th>1</th>\n",
       "      <td>10001</td>\n",
       "      <td>DE</td>\n",
       "      <td>Kent County</td>\n",
       "      <td>413.0</td>\n",
       "      <td>284.0</td>\n",
       "      <td>529.0</td>\n",
       "      <td>530.0</td>\n",
       "      <td>771.0</td>\n",
       "      <td>872.0</td>\n",
       "      <td>18.0</td>\n",
       "      <td>...</td>\n",
       "      <td>0.03</td>\n",
       "      <td>0.15</td>\n",
       "      <td>0.63</td>\n",
       "      <td>0.18</td>\n",
       "      <td>0.00</td>\n",
       "      <td>1853.0</td>\n",
       "      <td>655.0</td>\n",
       "      <td>909.0</td>\n",
       "      <td>3417.0</td>\n",
       "      <td>2015</td>\n",
       "    </tr>\n",
       "    <tr>\n",
       "      <th>2</th>\n",
       "      <td>10003</td>\n",
       "      <td>DE</td>\n",
       "      <td>New Castle County</td>\n",
       "      <td>1964.0</td>\n",
       "      <td>1275.0</td>\n",
       "      <td>2487.0</td>\n",
       "      <td>2333.0</td>\n",
       "      <td>3288.0</td>\n",
       "      <td>3494.0</td>\n",
       "      <td>126.0</td>\n",
       "      <td>...</td>\n",
       "      <td>0.05</td>\n",
       "      <td>0.16</td>\n",
       "      <td>0.59</td>\n",
       "      <td>0.20</td>\n",
       "      <td>0.01</td>\n",
       "      <td>7453.0</td>\n",
       "      <td>3340.0</td>\n",
       "      <td>4174.0</td>\n",
       "      <td>14967.0</td>\n",
       "      <td>2015</td>\n",
       "    </tr>\n",
       "    <tr>\n",
       "      <th>3</th>\n",
       "      <td>10005</td>\n",
       "      <td>DE</td>\n",
       "      <td>Sussex County</td>\n",
       "      <td>794.0</td>\n",
       "      <td>436.0</td>\n",
       "      <td>805.0</td>\n",
       "      <td>929.0</td>\n",
       "      <td>1453.0</td>\n",
       "      <td>2204.0</td>\n",
       "      <td>30.0</td>\n",
       "      <td>...</td>\n",
       "      <td>0.04</td>\n",
       "      <td>0.17</td>\n",
       "      <td>0.63</td>\n",
       "      <td>0.16</td>\n",
       "      <td>0.00</td>\n",
       "      <td>3408.0</td>\n",
       "      <td>1531.0</td>\n",
       "      <td>1712.0</td>\n",
       "      <td>6651.0</td>\n",
       "      <td>2015</td>\n",
       "    </tr>\n",
       "    <tr>\n",
       "      <th>4</th>\n",
       "      <td>12001</td>\n",
       "      <td>FL</td>\n",
       "      <td>Alachua County</td>\n",
       "      <td>726.0</td>\n",
       "      <td>2161.0</td>\n",
       "      <td>2734.0</td>\n",
       "      <td>1867.0</td>\n",
       "      <td>2250.0</td>\n",
       "      <td>2940.0</td>\n",
       "      <td>41.0</td>\n",
       "      <td>...</td>\n",
       "      <td>0.09</td>\n",
       "      <td>0.03</td>\n",
       "      <td>0.72</td>\n",
       "      <td>0.15</td>\n",
       "      <td>0.01</td>\n",
       "      <td>6443.0</td>\n",
       "      <td>4378.0</td>\n",
       "      <td>1898.0</td>\n",
       "      <td>12719.0</td>\n",
       "      <td>2015</td>\n",
       "    </tr>\n",
       "  </tbody>\n",
       "</table>\n",
       "<p>5 rows × 41 columns</p>\n",
       "</div>"
      ],
      "text/plain": [
       "     cfc state             county    0-17   18-25   26-34   35-44   45-54  \\\n",
       "0  12109    FL   St. Johns County  1259.0  1093.0  1566.0  1684.0  2354.0   \n",
       "1  10001    DE        Kent County   413.0   284.0   529.0   530.0   771.0   \n",
       "2  10003    DE  New Castle County  1964.0  1275.0  2487.0  2333.0  3288.0   \n",
       "3  10005    DE      Sussex County   794.0   436.0   805.0   929.0  1453.0   \n",
       "4  12001    FL     Alachua County   726.0  2161.0  2734.0  1867.0  2250.0   \n",
       "\n",
       "    55-64    65+  ...   platinum  gold  silver  bronze  catastrophic     new  \\\n",
       "0  2963.0   41.0  ...       0.10  0.05    0.66    0.18          0.01  5875.0   \n",
       "1   872.0   18.0  ...       0.03  0.15    0.63    0.18          0.00  1853.0   \n",
       "2  3494.0  126.0  ...       0.05  0.16    0.59    0.20          0.01  7453.0   \n",
       "3  2204.0   30.0  ...       0.04  0.17    0.63    0.16          0.00  3408.0   \n",
       "4  2940.0   41.0  ...       0.09  0.03    0.72    0.15          0.01  6443.0   \n",
       "\n",
       "   active_renew  auto_renew      tps  Year  \n",
       "0        3783.0      1302.0  10960.0  2015  \n",
       "1         655.0       909.0   3417.0  2015  \n",
       "2        3340.0      4174.0  14967.0  2015  \n",
       "3        1531.0      1712.0   6651.0  2015  \n",
       "4        4378.0      1898.0  12719.0  2015  \n",
       "\n",
       "[5 rows x 41 columns]"
      ]
     },
     "execution_count": 22,
     "metadata": {},
     "output_type": "execute_result"
    }
   ],
   "source": [
    "dfp = pd.read_csv('Combo_Percents.csv')\n",
    "dfp.drop('Unnamed: 0', axis=1, inplace=True)\n",
    "dfp.head()"
   ]
  },
  {
   "cell_type": "code",
   "execution_count": 23,
   "metadata": {
    "collapsed": true
   },
   "outputs": [],
   "source": [
    "# Create the X and y for the model with individual y's for each metallic tier.\n",
    "\n",
    "# Our X Dropping the Metallic Tier Targets, String Data, and Categorical Year\n",
    "Xp = dfp.drop(['cfc','state','county','platinum','gold','silver','bronze','catastrophic', 'Year'],\n",
    "              axis=1).values\n",
    "\n",
    "# Individual y's for Each Target Data\n",
    "ycatp = dfp.catastrophic.values\n",
    "ycatp = ycatp.reshape(-1,1)\n",
    "\n",
    "ybrop = dfp.bronze.values\n",
    "ybrop = ybrop.reshape(-1,1)\n",
    "\n",
    "ysilp = dfp.silver.values\n",
    "ysilp = ysilp.reshape(-1,1)\n",
    "\n",
    "ygoldp = dfp.gold.values\n",
    "ygoldp = ygoldp.reshape(-1,1)\n",
    "\n",
    "yplatp = dfp.platinum.values\n",
    "yplatp = yplatp.reshape(-1,1)\n",
    "\n",
    "# Create List of Target Values for Percent Data\n",
    "ysp=[ycatp, ybrop, ysilp, ygoldp, yplatp]"
   ]
  },
  {
   "cell_type": "markdown",
   "metadata": {},
   "source": [
    "***\n",
    "## Linear Regression - Targets by Percent"
   ]
  },
  {
   "cell_type": "code",
   "execution_count": 24,
   "metadata": {},
   "outputs": [
    {
     "name": "stdout",
     "output_type": "stream",
     "text": [
      "Catastrophic Root Mean Squared Error: 0.007400627882541825\n",
      "Catastrophic Average 5-Fold R^2: -0.24785604065671274 \n",
      "\n",
      "Bronze Root Mean Squared Error: 0.09365161049079318\n",
      "Bronze Average 5-Fold R^2: -0.0905634346929111 \n",
      "\n",
      "Silver Root Mean Squared Error: 0.09452794684672844\n",
      "Silver Average 5-Fold R^2: -0.10616253346053099 \n",
      "\n",
      "Gold Root Mean Squared Error: 0.05673160743187787\n",
      "Gold Average 5-Fold R^2: -0.04303193261027296 \n",
      "\n",
      "Platinum Root Mean Squared Error: 0.016433861412031545\n",
      "Platinum Average 5-Fold R^2: -0.6251861738800907 \n",
      "\n"
     ]
    }
   ],
   "source": [
    "# Test out of the box model using percents of whole over raw counts.\n",
    "\n",
    "# Instantiate Regressor and Nameplace\n",
    "reg = LinearRegression()\n",
    "place = 0\n",
    "\n",
    "#Iterate through target values, calculate and print RMSE, calculate and print Mean R^2 using 5-Fold CV\n",
    "for y in ysp:\n",
    "    X_train, X_test, y_train, y_test = train_test_split(Xp,y, test_size=.3, random_state=42)\n",
    "    reg.fit(X_train, y_train)\n",
    "    pred = reg.predict(X_test)\n",
    "    rmse = np.sqrt(mean_squared_error(y_test, pred))\n",
    "    print(ys_name[place], 'Root Mean Squared Error: {}'.format(rmse))\n",
    "    cv_scores = cross_val_score(reg, Xp, y, cv=5)\n",
    "    print(ys_name[place], 'Average 5-Fold R^2: {}'.format(np.mean(cv_scores)),'\\n')\n",
    "    place += 1"
   ]
  },
  {
   "cell_type": "markdown",
   "metadata": {},
   "source": [
    "***\n",
    "## Ridge - Targets by Percent "
   ]
  },
  {
   "cell_type": "code",
   "execution_count": 27,
   "metadata": {},
   "outputs": [
    {
     "name": "stdout",
     "output_type": "stream",
     "text": [
      "Catastrophic Tuned Ridge alpha ratio: {'alpha': 0.0001}\n",
      "Catastrophic Tuned Ridge R^2: -0.08244686903271825\n",
      "Catastrophic Tuned Ridge MSE: 5.495009693971975e-05 \n",
      "\n",
      "Bronze Tuned Ridge alpha ratio: {'alpha': 100}\n",
      "Bronze Tuned Ridge R^2: 0.10218857216693\n",
      "Bronze Tuned Ridge MSE: 0.008770414613681938 \n",
      "\n",
      "Silver Tuned Ridge alpha ratio: {'alpha': 100}\n",
      "Silver Tuned Ridge R^2: 0.08738347121358736\n",
      "Silver Tuned Ridge MSE: 0.008968517690297093 \n",
      "\n",
      "Gold Tuned Ridge alpha ratio: {'alpha': 0.0001}\n",
      "Gold Tuned Ridge R^2: -0.03153638602891884\n",
      "Gold Tuned Ridge MSE: 0.0032299879911583613 \n",
      "\n",
      "Platinum Tuned Ridge alpha ratio: {'alpha': 100}\n",
      "Platinum Tuned Ridge R^2: 0.016080726944169843\n",
      "Platinum Tuned Ridge MSE: 0.00027001344025212614 \n",
      "\n"
     ]
    }
   ],
   "source": [
    "#Instantiate Ridge Regressor and initiate name start point.\n",
    "ridge = Ridge()\n",
    "place = 0\n",
    "\n",
    "# Create hyperparameter grid for alpha\n",
    "alpha = [.0001,.001,.01,.1,1,10,100]\n",
    "a_grid = {'alpha': alpha}\n",
    "\n",
    "#Set up GridSearchCV object.\n",
    "grid_cv = GridSearchCV(ridge, a_grid, cv=5)\n",
    "\n",
    "# Iterate over metallic tiers and prine best alpha for each tier\n",
    "for y in ysp:\n",
    "    X_train, X_test, y_train, y_test = train_test_split(Xp,y, test_size=.3, random_state=42)\n",
    "    \n",
    "    # Fit training data\n",
    "    grid_cv.fit(X_train,y_train)\n",
    "    \n",
    "    # Predict on the test set and compute metrics\n",
    "    y_pred = grid_cv.predict(X_test)\n",
    "    r2 = grid_cv.score(X_test, y_test)\n",
    "    mse = mean_squared_error(y_test, y_pred)\n",
    "    print(ys_name[place],\"Tuned Ridge alpha ratio: {}\".format(grid_cv.best_params_))\n",
    "    print(ys_name[place],\"Tuned Ridge R^2: {}\".format(r2))\n",
    "    print(ys_name[place],\"Tuned Ridge MSE: {}\".format(mse),'\\n')\n",
    "    place+=1"
   ]
  },
  {
   "cell_type": "code",
   "execution_count": 28,
   "metadata": {},
   "outputs": [
    {
     "name": "stdout",
     "output_type": "stream",
     "text": [
      "Catastrophic Root Mean Squared Error: 0.007412833259943174\n",
      "Catastrophic Average 5-Fold R^2: -0.24702719423804204 \n",
      "\n",
      "Bronze Root Mean Squared Error: 0.09365049179626307\n",
      "Bronze Average 5-Fold R^2: -0.09014564996142949 \n",
      "\n",
      "Silver Root Mean Squared Error: 0.09470225810558633\n",
      "Silver Average 5-Fold R^2: -0.10598317396896469 \n",
      "\n",
      "Gold Root Mean Squared Error: 0.056832983303345616\n",
      "Gold Average 5-Fold R^2: -0.04693259993284611 \n",
      "\n",
      "Platinum Root Mean Squared Error: 0.016432085693913787\n",
      "Platinum Average 5-Fold R^2: -0.5617753710851605 \n",
      "\n"
     ]
    }
   ],
   "source": [
    "# Initialize Alphas, and Nameplace\n",
    "ridge_alphas=[.0001,100,100,.0001,100]\n",
    "place = 0\n",
    "\n",
    "#Iterate through target values, calculate and print RMSE, calculate and print Mean R^2 using 5-Fold CV\n",
    "for y in ysp:\n",
    "    X_train, X_test, y_train, y_test = train_test_split(Xp,y, test_size=.3, random_state=42)\n",
    "    ridge = Ridge(alpha=ridge_alphas[place])\n",
    "    ridge.fit(X_train, y_train)\n",
    "    pred = ridge.predict(X_test)\n",
    "    rmse = np.sqrt(mean_squared_error(y_test, pred))\n",
    "    print(ys_name[place], 'Root Mean Squared Error: {}'.format(rmse))\n",
    "    cv_scores = cross_val_score(ridge, Xp, y, cv=5)\n",
    "    print(ys_name[place], 'Average 5-Fold R^2: {}'.format(np.mean(cv_scores)),'\\n')\n",
    "    place +=1"
   ]
  },
  {
   "cell_type": "markdown",
   "metadata": {},
   "source": [
    "***\n",
    "## Lasso - Targets by Percent"
   ]
  },
  {
   "cell_type": "code",
   "execution_count": 29,
   "metadata": {},
   "outputs": [
    {
     "data": {
      "image/png": "[encoded data removed]",
      "text/plain": [
       "<matplotlib.figure.Figure at 0x23b9ec22d30>"
      ]
     },
     "metadata": {},
     "output_type": "display_data"
    }
   ],
   "source": [
    "# Plot important features to predictive model using Lasso.\n",
    "X_dfp = dfp.drop(['cfc','state','county','platinum','gold','silver','bronze','catastrophic', 'Year'], axis=1)\n",
    "cols = X_dfp.columns\n",
    "\n",
    "# Instantiate and fit Lasso model and calculate the coeffecient.\n",
    "lasso = Lasso(alpha=.5, normalize=True)\n",
    "lasso.fit(Xp,ysilp)\n",
    "lasso_coef = lasso.coef_\n",
    "\n",
    "# Plot the Lasso coeffecients for each feature.\n",
    "fig, ax = plt.subplots(1,1, figsize=(10,5))\n",
    "_ = ax.plot(range(len(cols)),lasso_coef)\n",
    "_ = plt.xticks(range(len(cols)),cols.values, rotation=90)\n",
    "_ = plt.title('Lasso of Features in the Data for Silver Tier Targets by Percent')\n",
    "plt.show()"
   ]
  },
  {
   "cell_type": "code",
   "execution_count": 30,
   "metadata": {},
   "outputs": [
    {
     "name": "stdout",
     "output_type": "stream",
     "text": [
      "Catastrophic Tuned Lasso alpha ratio: {'alpha': 1}\n",
      "Catastrophic Tuned Lasso R^2: 0.057904937480768186\n",
      "Catastrophic Tuned Lasso MSE: 4.7825178762005704e-05 \n",
      "\n",
      "Bronze Tuned Lasso alpha ratio: {'alpha': 1}\n",
      "Bronze Tuned Lasso R^2: 0.0584281627171489\n",
      "Bronze Tuned Lasso MSE: 0.009197895176571836 \n",
      "\n",
      "Silver Tuned Lasso alpha ratio: {'alpha': 1}\n",
      "Silver Tuned Lasso R^2: 0.07254644629309182\n",
      "Silver Tuned Lasso MSE: 0.009114324955751504 \n",
      "\n",
      "Gold Tuned Lasso alpha ratio: {'alpha': 1}\n",
      "Gold Tuned Lasso R^2: 0.020108513945008677\n",
      "Gold Tuned Lasso MSE: 0.0030682754146756893 \n",
      "\n",
      "Platinum Tuned Lasso alpha ratio: {'alpha': 0.01}\n",
      "Platinum Tuned Lasso R^2: 0.016485150248427005\n",
      "Platinum Tuned Lasso MSE: 0.00026990245581398067 \n",
      "\n"
     ]
    }
   ],
   "source": [
    "# Time to tune the alpha of our Lasso Model.\n",
    "\n",
    "#Instantiate Lasso Regressor and initiate name start point.\n",
    "lasso = Lasso()\n",
    "place = 0\n",
    "\n",
    "# Create hyperparameter grid for alpha\n",
    "alpha = [.0001,.001,.01,.1,1,10,100]\n",
    "a_grid = {'alpha': alpha}\n",
    "\n",
    "#Set up GridSearchCV object.\n",
    "grid_cv = GridSearchCV(lasso, a_grid, cv=5)\n",
    "\n",
    "# Iterate over metallic tiers and prine best alpha for each tier\n",
    "for y in ysp:\n",
    "    X_train, X_test, y_train, y_test = train_test_split(Xp,y, test_size=.3, random_state=42)\n",
    "    \n",
    "    # Fit training data\n",
    "    grid_cv.fit(X_train,y_train)\n",
    "    \n",
    "    # Predict on the test set and compute metrics\n",
    "    y_pred = grid_cv.predict(X_test)\n",
    "    r2 = grid_cv.score(X_test, y_test)\n",
    "    mse = mean_squared_error(y_test, y_pred)\n",
    "    print(ys_name[place],\"Tuned Lasso alpha ratio: {}\".format(grid_cv.best_params_))\n",
    "    print(ys_name[place],\"Tuned Lasso R^2: {}\".format(r2))\n",
    "    print(ys_name[place],\"Tuned Lasso MSE: {}\".format(mse),'\\n')\n",
    "    place+=1"
   ]
  },
  {
   "cell_type": "code",
   "execution_count": 31,
   "metadata": {},
   "outputs": [
    {
     "name": "stdout",
     "output_type": "stream",
     "text": [
      "Catastrophic Root Mean Squared Error: 0.006915575085414495\n",
      "Catastrophic Average 5-Fold R^2: 0.032647012350719005 \n",
      "\n",
      "Bronze Root Mean Squared Error: 0.09590565768802087\n",
      "Bronze Average 5-Fold R^2: 0.029110066399375502 \n",
      "\n",
      "Silver Root Mean Squared Error: 0.09546897378599764\n",
      "Silver Average 5-Fold R^2: 0.004169461649293771 \n",
      "\n",
      "Gold Root Mean Squared Error: 0.055392015802601814\n",
      "Gold Average 5-Fold R^2: 0.015947636368452044 \n",
      "\n",
      "Platinum Root Mean Squared Error: 0.01642870828196729\n",
      "Platinum Average 5-Fold R^2: -0.5511319852053682 \n",
      "\n"
     ]
    }
   ],
   "source": [
    "# Initialize Alphas, and Nameplace\n",
    "lasso_alphas=[1,1,1,1,.01]\n",
    "place = 0\n",
    "\n",
    "#Iterate through target values, calculate and print RMSE, calculate and print Mean R^2 using 5-Fold CV\n",
    "for y in ysp:\n",
    "    X_train, X_test, y_train, y_test = train_test_split(Xp,y, test_size=.3, random_state=42)\n",
    "    lasso = Lasso(alpha=lasso_alphas[place])\n",
    "    lasso.fit(X_train, y_train)\n",
    "    pred = lasso.predict(X_test)\n",
    "    rmse = np.sqrt(mean_squared_error(y_test, pred))\n",
    "    print(ys_name[place], 'Root Mean Squared Error: {}'.format(rmse))\n",
    "    cv_scores = cross_val_score(lasso, Xp, y, cv=5)\n",
    "    print(ys_name[place], 'Average 5-Fold R^2: {}'.format(np.mean(cv_scores)),'\\n')\n",
    "    place +=1"
   ]
  },
  {
   "cell_type": "code",
   "execution_count": 32,
   "metadata": {},
   "outputs": [
    {
     "name": "stdout",
     "output_type": "stream",
     "text": [
      "Catastrophic Root Mean Squared Error: 0.007129091070960871\n",
      "Catastrophic Average 5-Fold R^2: -0.02410017603405108 \n",
      "\n",
      "Bronze Root Mean Squared Error: 0.09901230444225553\n",
      "Bronze Average 5-Fold R^2: -0.01188822846085973 \n",
      "\n",
      "Silver Root Mean Squared Error: 0.0992505761091123\n",
      "Silver Average 5-Fold R^2: -0.04316785679304784 \n",
      "\n",
      "Gold Root Mean Squared Error: 0.055958873060750196\n",
      "Gold Average 5-Fold R^2: -0.008709568329757911 \n",
      "\n",
      "Platinum Root Mean Squared Error: 0.016568541077409436\n",
      "Platinum Average 5-Fold R^2: -0.4399385234516765 \n",
      "\n"
     ]
    }
   ],
   "source": [
    "# Initialize starting place.\n",
    "place = 0\n",
    "#Iterate through target values, calculate and print RMSE, calculate and print Mean R^2 using 5-Fold CV\n",
    "for y in ysp:\n",
    "    X_train, X_test, y_train, y_test = train_test_split(Xp,y, test_size=.3, random_state=42)\n",
    "    \n",
    "    # Scaling the data may help as variance is very high within the data.\n",
    "    steps = [('scaler', StandardScaler()),('lasso', Lasso(alpha=lasso_alphas[place]))]\n",
    "    # Create Pipeline and initialize starting place.\n",
    "    pipe = Pipeline(steps)\n",
    "    # Fit pipeline and calculate metrics. \n",
    "    pipe.fit(X_train, y_train)\n",
    "    pred = pipe.predict(X_test)\n",
    "    rmse = np.sqrt(mean_squared_error(y_test, pred))\n",
    "    print(ys_name[place], 'Root Mean Squared Error: {}'.format(rmse))\n",
    "    cv_scores = cross_val_score(pipe, Xp, y, cv=5)\n",
    "    print(ys_name[place], 'Average 5-Fold R^2: {}'.format(np.mean(cv_scores)),'\\n')\n",
    "    place +=1"
   ]
  },
  {
   "cell_type": "markdown",
   "metadata": {},
   "source": [
    "***\n",
    "## ElasticNet - Targets by Percent"
   ]
  },
  {
   "cell_type": "code",
   "execution_count": 33,
   "metadata": {},
   "outputs": [
    {
     "name": "stdout",
     "output_type": "stream",
     "text": [
      "Catastrophic Tuned ElasticNet l1 ratio: {'l1_ratio': 0.72413793103448287}\n",
      "Catastrophic Tuned ElasticNet R^2: 0.06153763061441365\n",
      "Catastrophic Tuned ElasticNet MSE: 4.764076616351535e-05 \n",
      "\n",
      "Bronze Tuned ElasticNet l1 ratio: {'l1_ratio': 1.5}\n",
      "Bronze Tuned ElasticNet R^2: 0.05396893994995445\n",
      "Bronze Tuned ElasticNet MSE: 0.009241455807803117 \n",
      "\n",
      "Silver Tuned ElasticNet l1 ratio: {'l1_ratio': 1.5}\n",
      "Silver Tuned ElasticNet R^2: 0.06936256162736432\n",
      "Silver Tuned ElasticNet MSE: 0.009145613810432248 \n",
      "\n",
      "Gold Tuned ElasticNet l1 ratio: {'l1_ratio': 1.5}\n",
      "Gold Tuned ElasticNet R^2: 0.020001042180059714\n",
      "Gold Tuned ElasticNet MSE: 0.0030686119345647357 \n",
      "\n",
      "Platinum Tuned ElasticNet l1 ratio: {'l1_ratio': 0.034482758620689724}\n",
      "Platinum Tuned ElasticNet R^2: 0.020861357168609262\n",
      "Platinum Tuned ElasticNet MSE: 0.0002687015090309141 \n",
      "\n"
     ]
    }
   ],
   "source": [
    "# Time to tune the l1 ratio of our ElasticNet Model.\n",
    "\n",
    "# Instantiate ElasticNet Regressor and initiate name start point.\n",
    "enet = ElasticNet()\n",
    "place = 0\n",
    "\n",
    "# Create hyperparameter grid for alpha\n",
    "l1_space = np.linspace(-1,1.5,30)\n",
    "grid = {'l1_ratio': l1_space}\n",
    "\n",
    "#Set up GridSearchCV object.\n",
    "grid_cv = GridSearchCV(enet, grid, cv=5)\n",
    "\n",
    "# Iterate over metallic tiers and prine best alpha for each tier\n",
    "for y in ysp:\n",
    "    X_train, X_test, y_train, y_test = train_test_split(Xp,y, test_size=.3, random_state=42)\n",
    "    \n",
    "    # Fit training data\n",
    "    grid_cv.fit(X_train,y_train)\n",
    "    \n",
    "    # Predict on the test set and compute metrics\n",
    "    y_pred = grid_cv.predict(X_test)\n",
    "    r2 = grid_cv.score(X_test, y_test)\n",
    "    mse = mean_squared_error(y_test, y_pred)\n",
    "    print(ys_name[place],\"Tuned ElasticNet l1 ratio: {}\".format(grid_cv.best_params_))\n",
    "    print(ys_name[place],\"Tuned ElasticNet R^2: {}\".format(r2))\n",
    "    print(ys_name[place],\"Tuned ElasticNet MSE: {}\".format(mse),'\\n')\n",
    "    place+=1"
   ]
  },
  {
   "cell_type": "code",
   "execution_count": 34,
   "metadata": {},
   "outputs": [
    {
     "name": "stdout",
     "output_type": "stream",
     "text": [
      "Catastrophic Root Mean Squared Error: 0.006902229164162708\n",
      "Catastrophic Average 5-Fold R^2: 0.034088642689225734 \n",
      "\n",
      "Bronze Root Mean Squared Error: 0.09613249090605692\n",
      "Bronze Average 5-Fold R^2: 0.03479293223967446 \n",
      "\n",
      "Silver Root Mean Squared Error: 0.0956327026201406\n",
      "Silver Average 5-Fold R^2: 0.010422263510093099 \n",
      "\n",
      "Gold Root Mean Squared Error: 0.05539505334021022\n",
      "Gold Average 5-Fold R^2: 0.015188137886481323 \n",
      "\n",
      "Platinum Root Mean Squared Error: 0.016392117150334447\n",
      "Platinum Average 5-Fold R^2: -0.4531393381484815 \n",
      "\n"
     ]
    }
   ],
   "source": [
    "# Initialize Alphas, Model, and Nameplace\n",
    "enet_l1= [.72414,1.5,1.5,1.5,.03448]\n",
    "place = 0\n",
    "\n",
    "#Iterate through target values, calculate and print RMSE, calculate and print Mean R^2 using 5-Fold CV\n",
    "for y in ysp:\n",
    "    X_train, X_test, y_train, y_test = train_test_split(Xp,y, test_size=.3, random_state=42)\n",
    "    enet = ElasticNet(l1_ratio= enet_l1[place])\n",
    "    enet.fit(X_train, y_train)\n",
    "    pred = enet.predict(X_test)\n",
    "    rmse = np.sqrt(mean_squared_error(y_test, pred))\n",
    "    print(ys_name[place], 'Root Mean Squared Error: {}'.format(rmse))\n",
    "    cv_scores = cross_val_score(enet, Xp, y, cv=5)\n",
    "    print(ys_name[place], 'Average 5-Fold R^2: {}'.format(np.mean(cv_scores)),'\\n')\n",
    "    place +=1"
   ]
  },
  {
   "cell_type": "markdown",
   "metadata": {
    "collapsed": true
   },
   "source": [
    "***\n",
    "## Huber - Targets by Percent"
   ]
  },
  {
   "cell_type": "code",
   "execution_count": 35,
   "metadata": {},
   "outputs": [
    {
     "name": "stdout",
     "output_type": "stream",
     "text": [
      "Catastrophic Tuned Huber alpha ratio: {'alpha': 10}\n",
      "Catastrophic Tuned Huber R^2: -37.293871701780255\n",
      "Catastrophic Tuned Huber MSE: 0.0019439771340374328 \n",
      "\n",
      "Bronze Tuned Huber alpha ratio: {'alpha': 0.01}\n",
      "Bronze Tuned Huber R^2: -4.487091409265188\n",
      "Bronze Tuned Huber MSE: 0.053601530555897225 \n",
      "\n",
      "Silver Tuned Huber alpha ratio: {'alpha': 0.0001}\n",
      "Silver Tuned Huber R^2: -40.22716178935762\n",
      "Silver Tuned Huber MSE: 0.4051499377512689 \n",
      "\n",
      "Gold Tuned Huber alpha ratio: {'alpha': 1}\n",
      "Gold Tuned Huber R^2: -0.49313299883143724\n",
      "Gold Tuned Huber MSE: 0.004675357768031857 \n",
      "\n",
      "Platinum Tuned Huber alpha ratio: {'alpha': 0.1}\n",
      "Platinum Tuned Huber R^2: -0.69129473242059\n",
      "Platinum Tuned Huber MSE: 0.00046413595270154836 \n",
      "\n"
     ]
    }
   ],
   "source": [
    "# Tuning the alpha of the Huber Regresspr Model.\n",
    "\n",
    "#Instantiate Huber Regressor and initiate place start point.\n",
    "huber = HuberRegressor()\n",
    "place = 0\n",
    "\n",
    "# Create hyperparameter grid for alpha\n",
    "alpha = [.0001,.001,.01,.1,1,10,100]\n",
    "a_grid = {'alpha': alpha}\n",
    "\n",
    "#Set up GridSearchCV object.\n",
    "grid_cv = GridSearchCV(huber, a_grid, cv=5)\n",
    "\n",
    "# Iterate over metallic tiers and prine best alpha for each tier\n",
    "for y in ysp:\n",
    "    X_train, X_test, y_train, y_test = train_test_split(Xp,y, test_size=.3, random_state=42)\n",
    "    \n",
    "    # Fit training data\n",
    "    grid_cv.fit(X_train,y_train)\n",
    "    \n",
    "    # Predict on the test set and compute metrics\n",
    "    y_pred = grid_cv.predict(X_test)\n",
    "    r2 = grid_cv.score(X_test, y_test)\n",
    "    mse = mean_squared_error(y_test, y_pred)\n",
    "    print(ys_name[place],\"Tuned Huber alpha ratio: {}\".format(grid_cv.best_params_))\n",
    "    print(ys_name[place],\"Tuned Huber R^2: {}\".format(r2))\n",
    "    print(ys_name[place],\"Tuned Huber MSE: {}\".format(mse),'\\n')\n",
    "    place+=1"
   ]
  },
  {
   "cell_type": "code",
   "execution_count": 36,
   "metadata": {},
   "outputs": [
    {
     "name": "stdout",
     "output_type": "stream",
     "text": [
      "Catastrophic Root Mean Squared Error: 0.04409055606405336\n",
      "Catastrophic Score: -37.293871701780255\n",
      "Catastrophic Average 5-Fold R^2: -52.92595605057797 \n",
      "\n",
      "Bronze Root Mean Squared Error: 0.2315200435294906\n",
      "Bronze Score: -4.487091409265188\n",
      "Bronze Average 5-Fold R^2: -5.19965490095849 \n",
      "\n",
      "Silver Root Mean Squared Error: 0.6365138943897996\n",
      "Silver Score: -40.22716178935762\n",
      "Silver Average 5-Fold R^2: -44.16081700531485 \n",
      "\n",
      "Gold Root Mean Squared Error: 0.06837658786479373\n",
      "Gold Score: -0.49313299883143724\n",
      "Gold Average 5-Fold R^2: -0.7713864851307106 \n",
      "\n",
      "Platinum Root Mean Squared Error: 0.021543814720275247\n",
      "Platinum Score: -0.69129473242059\n",
      "Platinum Average 5-Fold R^2: -9.967674010366206 \n",
      "\n"
     ]
    }
   ],
   "source": [
    "# Initialize Alphas, and Nameplace\n",
    "huber_alphas=[10,.01,.0001,1,.1]\n",
    "place = 0\n",
    "\n",
    "#Iterate through target values, calculate and print RMSE, calculate and print Mean R^2 using 5-Fold CV\n",
    "for y in ysp:\n",
    "    X_train, X_test, y_train, y_test = train_test_split(Xp,y, test_size=.3, random_state=42)\n",
    "    huber = HuberRegressor(alpha=huber_alphas[place])\n",
    "    huber.fit(X_train, y_train)\n",
    "    pred = huber.predict(X_test)\n",
    "    rmse = np.sqrt(mean_squared_error(y_test, pred))\n",
    "    score = huber.score(X_test, y_test)\n",
    "    print(ys_name[place], 'Root Mean Squared Error: {}'.format(rmse))\n",
    "    print(ys_name[place], 'Score: {}'.format(score))\n",
    "    cv_scores = cross_val_score(huber, Xp, y, cv=5)\n",
    "    print(ys_name[place], 'Average 5-Fold R^2: {}'.format(np.mean(cv_scores)),'\\n')\n",
    "    place +=1"
   ]
  },
  {
   "cell_type": "code",
   "execution_count": 37,
   "metadata": {},
   "outputs": [
    {
     "name": "stdout",
     "output_type": "stream",
     "text": [
      "Catastrophic Root Mean Squared Error: 0.008805528778260734\n",
      "Catastrophic Average 5-Fold R^2: -0.21892117783462628 \n",
      "\n",
      "Bronze Root Mean Squared Error: 0.09465062314359443\n",
      "Bronze Average 5-Fold R^2: -0.18435049885401367 \n",
      "\n",
      "Silver Root Mean Squared Error: 0.09551323325252033\n",
      "Silver Average 5-Fold R^2: -0.23774903155733865 \n",
      "\n",
      "Gold Root Mean Squared Error: 0.05757080239440115\n",
      "Gold Average 5-Fold R^2: -0.08976937396824688 \n",
      "\n",
      "Platinum Root Mean Squared Error: 0.016902023816882675\n",
      "Platinum Average 5-Fold R^2: -0.1245695234561393 \n",
      "\n"
     ]
    }
   ],
   "source": [
    "# Initialize starting place for a scaled Huber Regressor\n",
    "place = 0\n",
    "#Iterate through target values, calculate and print RMSE, calculate and print Mean R^2 using 5-Fold CV\n",
    "for y in ysp:\n",
    "    X_train, X_test, y_train, y_test = train_test_split(Xp,y, test_size=.3, random_state=42)\n",
    "    \n",
    "    # Scaling the data may help as variance is very high within the data.\n",
    "    steps = [('scaler', StandardScaler()),('huber', HuberRegressor(alpha=huber_alphas[place]))]\n",
    "    # Create Pipeline and initialize starting place.\n",
    "    pipe = Pipeline(steps)\n",
    "    # Fit pipeline and calculate metrics. \n",
    "    pipe.fit(X_train, y_train)\n",
    "    pred = pipe.predict(X_test)\n",
    "    rmse = np.sqrt(mean_squared_error(y_test, pred))\n",
    "    print(ys_name[place], 'Root Mean Squared Error: {}'.format(rmse))\n",
    "    cv_scores = cross_val_score(pipe, Xp, y, cv=5)\n",
    "    print(ys_name[place], 'Average 5-Fold R^2: {}'.format(np.mean(cv_scores)),'\\n')\n",
    "    place +=1\n"
   ]
  },
  {
   "cell_type": "markdown",
   "metadata": {},
   "source": [
    "None of the models in this section come close to the R^2 of the Raw Counts Models.\n",
    "***\n",
    "While the RMSE is much smaller, none of the R^2s came close to those for the unscaled data.  One more test is to scale all data the same way the target values were scaled.  (Dividing by the observations total plan selection.  Let's see how all of this\n",
    "***\n",
    "# Features Scaled to Percent of TPS"
   ]
  },
  {
   "cell_type": "code",
   "execution_count": 38,
   "metadata": {},
   "outputs": [
    {
     "data": {
      "text/html": [
       "<div>\n",
       "<style>\n",
       "    .dataframe thead tr:only-child th {\n",
       "        text-align: right;\n",
       "    }\n",
       "\n",
       "    .dataframe thead th {\n",
       "        text-align: left;\n",
       "    }\n",
       "\n",
       "    .dataframe tbody tr th {\n",
       "        vertical-align: top;\n",
       "    }\n",
       "</style>\n",
       "<table border=\"1\" class=\"dataframe\">\n",
       "  <thead>\n",
       "    <tr style=\"text-align: right;\">\n",
       "      <th></th>\n",
       "      <th>cfc</th>\n",
       "      <th>state</th>\n",
       "      <th>county</th>\n",
       "      <th>0-17</th>\n",
       "      <th>18-25</th>\n",
       "      <th>26-34</th>\n",
       "      <th>35-44</th>\n",
       "      <th>45-54</th>\n",
       "      <th>55-64</th>\n",
       "      <th>65+</th>\n",
       "      <th>...</th>\n",
       "      <th>platinum</th>\n",
       "      <th>gold</th>\n",
       "      <th>silver</th>\n",
       "      <th>bronze</th>\n",
       "      <th>catastrophic</th>\n",
       "      <th>new</th>\n",
       "      <th>active_renew</th>\n",
       "      <th>auto_renew</th>\n",
       "      <th>tps</th>\n",
       "      <th>Year</th>\n",
       "    </tr>\n",
       "  </thead>\n",
       "  <tbody>\n",
       "    <tr>\n",
       "      <th>0</th>\n",
       "      <td>12109</td>\n",
       "      <td>FL</td>\n",
       "      <td>St. Johns County</td>\n",
       "      <td>0.1149</td>\n",
       "      <td>0.0997</td>\n",
       "      <td>0.1429</td>\n",
       "      <td>0.1536</td>\n",
       "      <td>0.2148</td>\n",
       "      <td>0.2703</td>\n",
       "      <td>0.0037</td>\n",
       "      <td>...</td>\n",
       "      <td>0.10</td>\n",
       "      <td>0.05</td>\n",
       "      <td>0.66</td>\n",
       "      <td>0.18</td>\n",
       "      <td>0.01</td>\n",
       "      <td>0.5360</td>\n",
       "      <td>0.3452</td>\n",
       "      <td>0.1188</td>\n",
       "      <td>10960.0</td>\n",
       "      <td>2015</td>\n",
       "    </tr>\n",
       "    <tr>\n",
       "      <th>1</th>\n",
       "      <td>10001</td>\n",
       "      <td>DE</td>\n",
       "      <td>Kent County</td>\n",
       "      <td>0.1209</td>\n",
       "      <td>0.0831</td>\n",
       "      <td>0.1548</td>\n",
       "      <td>0.1551</td>\n",
       "      <td>0.2256</td>\n",
       "      <td>0.2552</td>\n",
       "      <td>0.0053</td>\n",
       "      <td>...</td>\n",
       "      <td>0.03</td>\n",
       "      <td>0.15</td>\n",
       "      <td>0.63</td>\n",
       "      <td>0.18</td>\n",
       "      <td>0.00</td>\n",
       "      <td>0.5423</td>\n",
       "      <td>0.1917</td>\n",
       "      <td>0.2660</td>\n",
       "      <td>3417.0</td>\n",
       "      <td>2015</td>\n",
       "    </tr>\n",
       "    <tr>\n",
       "      <th>2</th>\n",
       "      <td>10003</td>\n",
       "      <td>DE</td>\n",
       "      <td>New Castle County</td>\n",
       "      <td>0.1312</td>\n",
       "      <td>0.0852</td>\n",
       "      <td>0.1662</td>\n",
       "      <td>0.1559</td>\n",
       "      <td>0.2197</td>\n",
       "      <td>0.2334</td>\n",
       "      <td>0.0084</td>\n",
       "      <td>...</td>\n",
       "      <td>0.05</td>\n",
       "      <td>0.16</td>\n",
       "      <td>0.59</td>\n",
       "      <td>0.20</td>\n",
       "      <td>0.01</td>\n",
       "      <td>0.4980</td>\n",
       "      <td>0.2232</td>\n",
       "      <td>0.2789</td>\n",
       "      <td>14967.0</td>\n",
       "      <td>2015</td>\n",
       "    </tr>\n",
       "    <tr>\n",
       "      <th>3</th>\n",
       "      <td>10005</td>\n",
       "      <td>DE</td>\n",
       "      <td>Sussex County</td>\n",
       "      <td>0.1194</td>\n",
       "      <td>0.0656</td>\n",
       "      <td>0.1210</td>\n",
       "      <td>0.1397</td>\n",
       "      <td>0.2185</td>\n",
       "      <td>0.3314</td>\n",
       "      <td>0.0045</td>\n",
       "      <td>...</td>\n",
       "      <td>0.04</td>\n",
       "      <td>0.17</td>\n",
       "      <td>0.63</td>\n",
       "      <td>0.16</td>\n",
       "      <td>0.00</td>\n",
       "      <td>0.5124</td>\n",
       "      <td>0.2302</td>\n",
       "      <td>0.2574</td>\n",
       "      <td>6651.0</td>\n",
       "      <td>2015</td>\n",
       "    </tr>\n",
       "    <tr>\n",
       "      <th>4</th>\n",
       "      <td>12001</td>\n",
       "      <td>FL</td>\n",
       "      <td>Alachua County</td>\n",
       "      <td>0.0571</td>\n",
       "      <td>0.1699</td>\n",
       "      <td>0.2150</td>\n",
       "      <td>0.1468</td>\n",
       "      <td>0.1769</td>\n",
       "      <td>0.2312</td>\n",
       "      <td>0.0032</td>\n",
       "      <td>...</td>\n",
       "      <td>0.09</td>\n",
       "      <td>0.03</td>\n",
       "      <td>0.72</td>\n",
       "      <td>0.15</td>\n",
       "      <td>0.01</td>\n",
       "      <td>0.5066</td>\n",
       "      <td>0.3442</td>\n",
       "      <td>0.1492</td>\n",
       "      <td>12719.0</td>\n",
       "      <td>2015</td>\n",
       "    </tr>\n",
       "  </tbody>\n",
       "</table>\n",
       "<p>5 rows × 41 columns</p>\n",
       "</div>"
      ],
      "text/plain": [
       "     cfc state             county    0-17   18-25   26-34   35-44   45-54  \\\n",
       "0  12109    FL   St. Johns County  0.1149  0.0997  0.1429  0.1536  0.2148   \n",
       "1  10001    DE        Kent County  0.1209  0.0831  0.1548  0.1551  0.2256   \n",
       "2  10003    DE  New Castle County  0.1312  0.0852  0.1662  0.1559  0.2197   \n",
       "3  10005    DE      Sussex County  0.1194  0.0656  0.1210  0.1397  0.2185   \n",
       "4  12001    FL     Alachua County  0.0571  0.1699  0.2150  0.1468  0.1769   \n",
       "\n",
       "    55-64     65+  ...   platinum  gold  silver  bronze  catastrophic     new  \\\n",
       "0  0.2703  0.0037  ...       0.10  0.05    0.66    0.18          0.01  0.5360   \n",
       "1  0.2552  0.0053  ...       0.03  0.15    0.63    0.18          0.00  0.5423   \n",
       "2  0.2334  0.0084  ...       0.05  0.16    0.59    0.20          0.01  0.4980   \n",
       "3  0.3314  0.0045  ...       0.04  0.17    0.63    0.16          0.00  0.5124   \n",
       "4  0.2312  0.0032  ...       0.09  0.03    0.72    0.15          0.01  0.5066   \n",
       "\n",
       "   active_renew  auto_renew      tps  Year  \n",
       "0        0.3452      0.1188  10960.0  2015  \n",
       "1        0.1917      0.2660   3417.0  2015  \n",
       "2        0.2232      0.2789  14967.0  2015  \n",
       "3        0.2302      0.2574   6651.0  2015  \n",
       "4        0.3442      0.1492  12719.0  2015  \n",
       "\n",
       "[5 rows x 41 columns]"
      ]
     },
     "execution_count": 38,
     "metadata": {},
     "output_type": "execute_result"
    }
   ],
   "source": [
    "dfap = pd.read_csv('Combo_All_Percents.csv')\n",
    "dfap.drop('Unnamed: 0', axis=1, inplace=True)\n",
    "dfap.head()"
   ]
  },
  {
   "cell_type": "code",
   "execution_count": 39,
   "metadata": {
    "collapsed": true
   },
   "outputs": [],
   "source": [
    "# Create the X and y for the model with individual y's for each metallic tier.\n",
    "\n",
    "# Our X Dropping the Metallic Tier Targets, String Data, and Categorical Year\n",
    "Xap = dfap.drop(['cfc','state','county','platinum','gold','silver','bronze','catastrophic', 'Year'],\n",
    "              axis=1).values\n",
    "\n",
    "# Individual y's for Each Target Data\n",
    "ycatap = dfap.catastrophic.values\n",
    "ycatap = ycatap.reshape(-1,1)\n",
    "\n",
    "ybroap = dfap.bronze.values\n",
    "ybroap = ybroap.reshape(-1,1)\n",
    "\n",
    "ysilap = dfap.silver.values\n",
    "ysilap = ysilap.reshape(-1,1)\n",
    "\n",
    "ygoldap = dfap.gold.values\n",
    "ygoldap = ygoldap.reshape(-1,1)\n",
    "\n",
    "yplatap = dfap.platinum.values\n",
    "yplatap = yplatap.reshape(-1,1)\n",
    "\n",
    "# Create List of Target Values for Percent Data\n",
    "ysap=[ycatap, ybroap, ysilap, ygoldap, yplatap]"
   ]
  },
  {
   "cell_type": "markdown",
   "metadata": {},
   "source": [
    "***\n",
    "## Linear Regression - All by Percent"
   ]
  },
  {
   "cell_type": "code",
   "execution_count": 40,
   "metadata": {},
   "outputs": [
    {
     "name": "stdout",
     "output_type": "stream",
     "text": [
      "Catastrophic Root Mean Squared Error: 0.00604427643453169\n",
      "Catastrophic Average 5-Fold R^2: 0.19488512328583235 \n",
      "\n",
      "Bronze Root Mean Squared Error: 0.06273118050995803\n",
      "Bronze Average 5-Fold R^2: 0.5801885979260296 \n",
      "\n",
      "Silver Root Mean Squared Error: 0.03323266312788708\n",
      "Silver Average 5-Fold R^2: 0.8900765898095351 \n",
      "\n",
      "Gold Root Mean Squared Error: 0.04888696250367875\n",
      "Gold Average 5-Fold R^2: 0.08337579471746936 \n",
      "\n",
      "Platinum Root Mean Squared Error: 0.015581193809122477\n",
      "Platinum Average 5-Fold R^2: -0.5393431183890898 \n",
      "\n"
     ]
    }
   ],
   "source": [
    "# Test out of the box model using percents of whole over raw counts.\n",
    "\n",
    "# Instantiate Regressor and Nameplace\n",
    "reg = LinearRegression()\n",
    "place = 0\n",
    "\n",
    "#Iterate through target values, calculate and print RMSE, calculate and print Mean R^2 using 5-Fold CV\n",
    "for y in ysap:\n",
    "    X_train, X_test, y_train, y_test = train_test_split(Xap,y, test_size=.3, random_state=42)\n",
    "    reg.fit(X_train, y_train)\n",
    "    pred = reg.predict(X_test)\n",
    "    rmse = np.sqrt(mean_squared_error(y_test, pred))\n",
    "    print(ys_name[place], 'Root Mean Squared Error: {}'.format(rmse))\n",
    "    cv_scores = cross_val_score(reg, Xap, y, cv=5)\n",
    "    print(ys_name[place], 'Average 5-Fold R^2: {}'.format(np.mean(cv_scores)),'\\n')\n",
    "    place += 1"
   ]
  },
  {
   "cell_type": "code",
   "execution_count": 41,
   "metadata": {},
   "outputs": [
    {
     "name": "stdout",
     "output_type": "stream",
     "text": [
      "Catastrophic Tuned Ridge alpha ratio: {'alpha': 0.001}\n",
      "Catastrophic Tuned Ridge R^2: 0.28243544651031316\n",
      "Catastrophic Tuned Ridge MSE: 3.642695350950586e-05 \n",
      "\n",
      "Bronze Tuned Ridge alpha ratio: {'alpha': 0.0001}\n",
      "Bronze Tuned Ridge R^2: 0.5971789833206601\n",
      "Bronze Tuned Ridge MSE: 0.003935021566733244 \n",
      "\n",
      "Silver Tuned Ridge alpha ratio: {'alpha': 0.0001}\n",
      "Silver Tuned Ridge R^2: 0.8876216713769445\n",
      "Silver Tuned Ridge MSE: 0.0011043707805754334 \n",
      "\n",
      "Gold Tuned Ridge alpha ratio: {'alpha': 1}\n",
      "Gold Tuned Ridge R^2: 0.22246791817627132\n",
      "Gold Tuned Ridge MSE: 0.0024346395542082185 \n",
      "\n",
      "Platinum Tuned Ridge alpha ratio: {'alpha': 0.01}\n",
      "Platinum Tuned Ridge R^2: 0.11689644945859001\n",
      "Platinum Tuned Ridge MSE: 0.00024234694279336795 \n",
      "\n"
     ]
    }
   ],
   "source": [
    "#Instantiate Ridge Regressor and initiate name start point.\n",
    "ridge = Ridge()\n",
    "place = 0\n",
    "\n",
    "# Create hyperparameter grid for alpha\n",
    "alpha = [.0001,.001,.01,.1,1,10,100]\n",
    "a_grid = {'alpha': alpha}\n",
    "\n",
    "#Set up GridSearchCV object.\n",
    "grid_cv = GridSearchCV(ridge, a_grid, cv=5)\n",
    "\n",
    "# Iterate over metallic tiers and prine best alpha for each tier\n",
    "for y in ysap:\n",
    "    X_train, X_test, y_train, y_test = train_test_split(Xap,y, test_size=.3, random_state=42)\n",
    "    \n",
    "    # Fit training data\n",
    "    grid_cv.fit(X_train,y_train)\n",
    "    \n",
    "    # Predict on the test set and compute metrics\n",
    "    y_pred = grid_cv.predict(X_test)\n",
    "    r2 = grid_cv.score(X_test, y_test)\n",
    "    mse = mean_squared_error(y_test, y_pred)\n",
    "    print(ys_name[place],\"Tuned Ridge alpha ratio: {}\".format(grid_cv.best_params_))\n",
    "    print(ys_name[place],\"Tuned Ridge R^2: {}\".format(r2))\n",
    "    print(ys_name[place],\"Tuned Ridge MSE: {}\".format(mse),'\\n')\n",
    "    place+=1"
   ]
  },
  {
   "cell_type": "code",
   "execution_count": 42,
   "metadata": {},
   "outputs": [
    {
     "name": "stdout",
     "output_type": "stream",
     "text": [
      "Catastrophic Root Mean Squared Error: 0.006035474588589191\n",
      "Catastrophic Average 5-Fold R^2: 0.2386334645146618 \n",
      "\n",
      "Bronze Root Mean Squared Error: 0.06272975025243799\n",
      "Bronze Average 5-Fold R^2: 0.5817426965776918 \n",
      "\n",
      "Silver Root Mean Squared Error: 0.03323207457525686\n",
      "Silver Average 5-Fold R^2: 0.8905182831453848 \n",
      "\n",
      "Gold Root Mean Squared Error: 0.04934206678087389\n",
      "Gold Average 5-Fold R^2: 0.11640352420221527 \n",
      "\n",
      "Platinum Root Mean Squared Error: 0.015567496355977347\n",
      "Platinum Average 5-Fold R^2: -0.5163355353095012 \n",
      "\n"
     ]
    }
   ],
   "source": [
    "# Initialize Alphas, and Nameplace\n",
    "ridge_alphas=[.001,.0001,.0001,1,.01]\n",
    "place = 0\n",
    "\n",
    "#Iterate through target values, calculate and print RMSE, calculate and print Mean R^2 using 5-Fold CV\n",
    "for y in ysap:\n",
    "    X_train, X_test, y_train, y_test = train_test_split(Xap,y, test_size=.3, random_state=42)\n",
    "    ridge = Ridge(alpha=ridge_alphas[place])\n",
    "    ridge.fit(X_train, y_train)\n",
    "    pred = ridge.predict(X_test)\n",
    "    rmse = np.sqrt(mean_squared_error(y_test, pred))\n",
    "    print(ys_name[place], 'Root Mean Squared Error: {}'.format(rmse))\n",
    "    cv_scores = cross_val_score(ridge, Xap, y, cv=5)\n",
    "    print(ys_name[place], 'Average 5-Fold R^2: {}'.format(np.mean(cv_scores)),'\\n')\n",
    "    place +=1"
   ]
  },
  {
   "cell_type": "markdown",
   "metadata": {},
   "source": [
    "***\n",
    "## Lasso - All by Percent"
   ]
  },
  {
   "cell_type": "code",
   "execution_count": 43,
   "metadata": {},
   "outputs": [
    {
     "data": {
      "image/png": "[encoded data removed]",
      "text/plain": [
       "<matplotlib.figure.Figure at 0x23b9f54eef0>"
      ]
     },
     "metadata": {},
     "output_type": "display_data"
    }
   ],
   "source": [
    "# Plot important features to predictive model using Lasso.\n",
    "X_dfap = dfap.drop(['cfc','state','county','platinum','gold','silver','bronze','catastrophic', 'Year'], axis=1)\n",
    "cols = X_dfap.columns\n",
    "\n",
    "# Instantiate and fit Lasso model and calculate the coeffecient.\n",
    "lasso = Lasso(alpha=.5, normalize=True)\n",
    "lasso.fit(Xap,ysilap)\n",
    "lasso_coef = lasso.coef_\n",
    "\n",
    "# Plot the Lasso coeffecients for each feature.\n",
    "fig, ax = plt.subplots(1,1, figsize=(10,5))\n",
    "_ = ax.plot(range(len(cols)),lasso_coef)\n",
    "_ = plt.xticks(range(len(cols)),cols.values, rotation=90)\n",
    "_ = plt.title('Lasso of Features in the Data for Silver Tier Targets by Percent')\n",
    "plt.show()"
   ]
  },
  {
   "cell_type": "code",
   "execution_count": 44,
   "metadata": {},
   "outputs": [
    {
     "name": "stdout",
     "output_type": "stream",
     "text": [
      "Catastrophic Tuned Lasso alpha ratio: {'alpha': 0.0001}\n",
      "Catastrophic Tuned Lasso R^2: 0.08707043433137429\n",
      "Catastrophic Tuned Lasso MSE: 4.634460089247199e-05 \n",
      "\n",
      "Bronze Tuned Lasso alpha ratio: {'alpha': 0.0001}\n",
      "Bronze Tuned Lasso R^2: 0.5867446977930734\n",
      "Bronze Tuned Lasso MSE: 0.004036950554756207 \n",
      "\n",
      "Silver Tuned Lasso alpha ratio: {'alpha': 0.0001}\n",
      "Silver Tuned Lasso R^2: 0.8748053618701193\n",
      "Silver Tuned Lasso MSE: 0.0012303199551856453 \n",
      "\n",
      "Gold Tuned Lasso alpha ratio: {'alpha': 0.0001}\n",
      "Gold Tuned Lasso R^2: 0.2022415302179914\n",
      "Gold Tuned Lasso MSE: 0.002497973229194961 \n",
      "\n",
      "Platinum Tuned Lasso alpha ratio: {'alpha': 0.0001}\n",
      "Platinum Tuned Lasso R^2: 0.052860784651262094\n",
      "Platinum Tuned Lasso MSE: 0.00025992002081607837 \n",
      "\n"
     ]
    }
   ],
   "source": [
    "# Time to tune the alpha of our Lasso Model.\n",
    "\n",
    "#Instantiate Lasso Regressor and initiate name start point.\n",
    "lasso = Lasso()\n",
    "place = 0\n",
    "\n",
    "# Create hyperparameter grid for alpha\n",
    "alpha = [.0001,.001,.01,.1,1,10,100]\n",
    "a_grid = {'alpha': alpha}\n",
    "\n",
    "#Set up GridSearchCV object.\n",
    "grid_cv = GridSearchCV(lasso, a_grid, cv=5)\n",
    "\n",
    "# Iterate over metallic tiers and prine best alpha for each tier\n",
    "for y in ysap:\n",
    "    X_train, X_test, y_train, y_test = train_test_split(Xap,y, test_size=.3, random_state=42)\n",
    "    \n",
    "    # Fit training data\n",
    "    grid_cv.fit(X_train,y_train)\n",
    "    \n",
    "    # Predict on the test set and compute metrics\n",
    "    y_pred = grid_cv.predict(X_test)\n",
    "    r2 = grid_cv.score(X_test, y_test)\n",
    "    mse = mean_squared_error(y_test, y_pred)\n",
    "    print(ys_name[place],\"Tuned Lasso alpha ratio: {}\".format(grid_cv.best_params_))\n",
    "    print(ys_name[place],\"Tuned Lasso R^2: {}\".format(r2))\n",
    "    print(ys_name[place],\"Tuned Lasso MSE: {}\".format(mse),'\\n')\n",
    "    place+=1"
   ]
  },
  {
   "cell_type": "code",
   "execution_count": 45,
   "metadata": {},
   "outputs": [
    {
     "name": "stdout",
     "output_type": "stream",
     "text": [
      "Catastrophic Root Mean Squared Error: 0.006807686897358896\n",
      "Catastrophic Average 5-Fold R^2: 0.03953987634628524 \n",
      "\n",
      "Bronze Root Mean Squared Error: 0.06353700146179553\n",
      "Bronze Average 5-Fold R^2: 0.5725086876249706 \n",
      "\n",
      "Silver Root Mean Squared Error: 0.03507591702558388\n",
      "Silver Average 5-Fold R^2: 0.8711687982146372 \n",
      "\n",
      "Gold Root Mean Squared Error: 0.04997972818248375\n",
      "Gold Average 5-Fold R^2: 0.13355516791615368 \n",
      "\n",
      "Platinum Root Mean Squared Error: 0.01612203525663179\n",
      "Platinum Average 5-Fold R^2: -0.43951398825136484 \n",
      "\n"
     ]
    }
   ],
   "source": [
    "# Initialize Alphas, and Nameplace\n",
    "lasso_alphas=[.0001,.0001,.0001,.0001,.0001]\n",
    "place = 0\n",
    "\n",
    "#Iterate through target values, calculate and print RMSE, calculate and print Mean R^2 using 5-Fold CV\n",
    "for y in ysap:\n",
    "    X_train, X_test, y_train, y_test = train_test_split(Xap,y, test_size=.3, random_state=42)\n",
    "    lasso = Lasso(alpha=lasso_alphas[place])\n",
    "    lasso.fit(X_train, y_train)\n",
    "    pred = lasso.predict(X_test)\n",
    "    rmse = np.sqrt(mean_squared_error(y_test, pred))\n",
    "    print(ys_name[place], 'Root Mean Squared Error: {}'.format(rmse))\n",
    "    cv_scores = cross_val_score(lasso, Xap, y, cv=5)\n",
    "    print(ys_name[place], 'Average 5-Fold R^2: {}'.format(np.mean(cv_scores)),'\\n')\n",
    "    place +=1"
   ]
  },
  {
   "cell_type": "code",
   "execution_count": 46,
   "metadata": {},
   "outputs": [
    {
     "name": "stdout",
     "output_type": "stream",
     "text": [
      "Catastrophic Root Mean Squared Error: 0.006030920237437784\n",
      "Catastrophic Average 5-Fold R^2: 0.2486586200062849 \n",
      "\n",
      "Bronze Root Mean Squared Error: 0.06252698702622723\n",
      "Bronze Average 5-Fold R^2: 0.583243867344835 \n",
      "\n",
      "Silver Root Mean Squared Error: 0.033104385040966584\n",
      "Silver Average 5-Fold R^2: 0.890869784987234 \n",
      "\n",
      "Gold Root Mean Squared Error: 0.04894610890433959\n",
      "Gold Average 5-Fold R^2: 0.09760579901923046 \n",
      "\n",
      "Platinum Root Mean Squared Error: 0.0156063171334003\n",
      "Platinum Average 5-Fold R^2: -0.4997171427291425 \n",
      "\n"
     ]
    }
   ],
   "source": [
    "# Initialize starting place.\n",
    "place = 0\n",
    "#Iterate through target values, calculate and print RMSE, calculate and print Mean R^2 using 5-Fold CV\n",
    "for y in ysap:\n",
    "    X_train, X_test, y_train, y_test = train_test_split(Xap,y, test_size=.3, random_state=42)\n",
    "    \n",
    "    # Scaling the data may help as variance is very high within the data.\n",
    "    steps = [('scaler', StandardScaler()),('lasso', Lasso(alpha=lasso_alphas[place]))]\n",
    "    # Create Pipeline and initialize starting place.\n",
    "    pipe = Pipeline(steps)\n",
    "    # Fit pipeline and calculate metrics. \n",
    "    pipe.fit(X_train, y_train)\n",
    "    pred = pipe.predict(X_test)\n",
    "    rmse = np.sqrt(mean_squared_error(y_test, pred))\n",
    "    print(ys_name[place], 'Root Mean Squared Error: {}'.format(rmse))\n",
    "    cv_scores = cross_val_score(pipe, Xap, y, cv=5)\n",
    "    print(ys_name[place], 'Average 5-Fold R^2: {}'.format(np.mean(cv_scores)),'\\n')\n",
    "    place +=1"
   ]
  },
  {
   "cell_type": "markdown",
   "metadata": {},
   "source": [
    "***\n",
    "## ElasticNet - All by Percent"
   ]
  },
  {
   "cell_type": "code",
   "execution_count": 47,
   "metadata": {},
   "outputs": [
    {
     "name": "stdout",
     "output_type": "stream",
     "text": [
      "Catastrophic Tuned ElasticNet l1 ratio: {'l1_ratio': 0.0}\n",
      "Catastrophic Tuned ElasticNet R^2: 0.026256087527187\n",
      "Catastrophic Tuned ElasticNet MSE: 4.943182332141397e-05 \n",
      "\n",
      "Bronze Tuned ElasticNet l1 ratio: {'l1_ratio': 0.0}\n",
      "Bronze Tuned ElasticNet R^2: 0.024218462266931917\n",
      "Bronze Tuned ElasticNet MSE: 0.00953207811015558 \n",
      "\n",
      "Silver Tuned ElasticNet l1 ratio: {'l1_ratio': 0.0}\n",
      "Silver Tuned ElasticNet R^2: 0.05989390379856463\n",
      "Silver Tuned ElasticNet MSE: 0.009238664749750523 \n",
      "\n",
      "Gold Tuned ElasticNet l1 ratio: {'l1_ratio': 0.0}\n",
      "Gold Tuned ElasticNet R^2: 0.016287421266600766\n",
      "Gold Tuned ElasticNet MSE: 0.0030802401729057636 \n",
      "\n",
      "Platinum Tuned ElasticNet l1 ratio: {'l1_ratio': 0.0}\n",
      "Platinum Tuned ElasticNet R^2: 0.024541454548955066\n",
      "Platinum Tuned ElasticNet MSE: 0.000267691593094372 \n",
      "\n"
     ]
    }
   ],
   "source": [
    "# Time to tune the l1 ratio of our ElasticNet Model.\n",
    "\n",
    "# Instantiate ElasticNet Regressor and initiate name start point.\n",
    "enet = ElasticNet()\n",
    "place = 0\n",
    "\n",
    "# Create hyperparameter grid for alpha\n",
    "l1_space = np.linspace(0,1.5,30)\n",
    "grid = {'l1_ratio': l1_space}\n",
    "\n",
    "#Set up GridSearchCV object.\n",
    "grid_cv = GridSearchCV(enet, grid, cv=5)\n",
    "\n",
    "# Iterate over metallic tiers and prine best alpha for each tier\n",
    "for y in ysap:\n",
    "    X_train, X_test, y_train, y_test = train_test_split(Xap,y, test_size=.3, random_state=42)\n",
    "    \n",
    "    # Fit training data\n",
    "    grid_cv.fit(X_train,y_train)\n",
    "    \n",
    "    # Predict on the test set and compute metrics\n",
    "    y_pred = grid_cv.predict(X_test)\n",
    "    r2 = grid_cv.score(X_test, y_test)\n",
    "    mse = mean_squared_error(y_test, y_pred)\n",
    "    print(ys_name[place],\"Tuned ElasticNet l1 ratio: {}\".format(grid_cv.best_params_))\n",
    "    print(ys_name[place],\"Tuned ElasticNet R^2: {}\".format(r2))\n",
    "    print(ys_name[place],\"Tuned ElasticNet MSE: {}\".format(mse),'\\n')\n",
    "    place+=1"
   ]
  },
  {
   "cell_type": "code",
   "execution_count": 48,
   "metadata": {},
   "outputs": [
    {
     "name": "stdout",
     "output_type": "stream",
     "text": [
      "Catastrophic Root Mean Squared Error: 0.007030776864715162\n",
      "Catastrophic Average 5-Fold R^2: 0.000695910398191147 \n",
      "\n",
      "Bronze Root Mean Squared Error: 0.09763236200233803\n",
      "Bronze Average 5-Fold R^2: 0.013471096253935277 \n",
      "\n",
      "Silver Root Mean Squared Error: 0.09611797308386462\n",
      "Silver Average 5-Fold R^2: 0.01787017609570083 \n",
      "\n",
      "Gold Root Mean Squared Error: 0.05549991146754888\n",
      "Gold Average 5-Fold R^2: 0.007643548249063392 \n",
      "\n",
      "Platinum Root Mean Squared Error: 0.016361283357193345\n",
      "Platinum Average 5-Fold R^2: -0.41708882852572293 \n",
      "\n"
     ]
    }
   ],
   "source": [
    "# Initialize Alphas, Model, and Nameplace\n",
    "enet_l1= [0, 0, 0, 0, 0]\n",
    "place = 0\n",
    "\n",
    "#Iterate through target values, calculate and print RMSE, calculate and print Mean R^2 using 5-Fold CV\n",
    "for y in ysap:\n",
    "    X_train, X_test, y_train, y_test = train_test_split(Xap,y, test_size=.3, random_state=42)\n",
    "    enet = ElasticNet(l1_ratio= enet_l1[place])\n",
    "    enet.fit(X_train, y_train)\n",
    "    pred = enet.predict(X_test)\n",
    "    rmse = np.sqrt(mean_squared_error(y_test, pred))\n",
    "    print(ys_name[place], 'Root Mean Squared Error: {}'.format(rmse))\n",
    "    cv_scores = cross_val_score(enet, Xap, y, cv=5)\n",
    "    print(ys_name[place], 'Average 5-Fold R^2: {}'.format(np.mean(cv_scores)),'\\n')\n",
    "    place +=1"
   ]
  },
  {
   "cell_type": "markdown",
   "metadata": {},
   "source": [
    "***\n",
    "## Huber - All by Percent"
   ]
  },
  {
   "cell_type": "code",
   "execution_count": 49,
   "metadata": {},
   "outputs": [
    {
     "name": "stdout",
     "output_type": "stream",
     "text": [
      "Catastrophic Tuned Huber alpha ratio: {'alpha': 10}\n",
      "Catastrophic Tuned Huber R^2: -0.15788144023085438\n",
      "Catastrophic Tuned Huber MSE: 5.877951075995454e-05 \n",
      "\n",
      "Bronze Tuned Huber alpha ratio: {'alpha': 0.0001}\n",
      "Bronze Tuned Huber R^2: 0.24026105753331375\n",
      "Bronze Tuned Huber MSE: 0.007421631444005164 \n",
      "\n",
      "Silver Tuned Huber alpha ratio: {'alpha': 0.01}\n",
      "Silver Tuned Huber R^2: 0.5615712004659774\n",
      "Silver Tuned Huber MSE: 0.004308552738777813 \n",
      "\n",
      "Gold Tuned Huber alpha ratio: {'alpha': 0.01}\n",
      "Gold Tuned Huber R^2: 0.09862176923350352\n",
      "Gold Tuned Huber MSE: 0.0028224315693559376 \n",
      "\n",
      "Platinum Tuned Huber alpha ratio: {'alpha': 0.1}\n",
      "Platinum Tuned Huber R^2: -0.08347423848188207\n",
      "Platinum Tuned Huber MSE: 0.0002973339526610181 \n",
      "\n"
     ]
    }
   ],
   "source": [
    "# Tuning the alpha of the Huber Regresspr Model.\n",
    "\n",
    "#Instantiate Huber Regressor and initiate place start point.\n",
    "huber = HuberRegressor()\n",
    "place = 0\n",
    "\n",
    "# Create hyperparameter grid for alpha\n",
    "alpha = [.0001,.001,.01,.1,1,10,100]\n",
    "a_grid = {'alpha': alpha}\n",
    "\n",
    "#Set up GridSearchCV object.\n",
    "grid_cv = GridSearchCV(huber, a_grid, cv=5)\n",
    "\n",
    "# Iterate over metallic tiers and prine best alpha for each tier\n",
    "for y in ysap:\n",
    "    X_train, X_test, y_train, y_test = train_test_split(Xap,y, test_size=.3, random_state=42)\n",
    "    \n",
    "    # Fit training data\n",
    "    grid_cv.fit(X_train,y_train)\n",
    "    \n",
    "    # Predict on the test set and compute metrics\n",
    "    y_pred = grid_cv.predict(X_test)\n",
    "    r2 = grid_cv.score(X_test, y_test)\n",
    "    mse = mean_squared_error(y_test, y_pred)\n",
    "    print(ys_name[place],\"Tuned Huber alpha ratio: {}\".format(grid_cv.best_params_))\n",
    "    print(ys_name[place],\"Tuned Huber R^2: {}\".format(r2))\n",
    "    print(ys_name[place],\"Tuned Huber MSE: {}\".format(mse),'\\n')\n",
    "    place+=1"
   ]
  },
  {
   "cell_type": "code",
   "execution_count": 50,
   "metadata": {},
   "outputs": [
    {
     "name": "stdout",
     "output_type": "stream",
     "text": [
      "Catastrophic Root Mean Squared Error: 0.00766677968641036\n",
      "Catastrophic Average 5-Fold R^2: -0.30813582819567087 \n",
      "\n",
      "Bronze Root Mean Squared Error: 0.08614889113624832\n",
      "Bronze Average 5-Fold R^2: 0.1193060761898607 \n",
      "\n",
      "Silver Root Mean Squared Error: 0.06563956686921245\n",
      "Silver Average 5-Fold R^2: 0.4772143536628353 \n",
      "\n",
      "Gold Root Mean Squared Error: 0.053126561806274814\n",
      "Gold Average 5-Fold R^2: 0.01530869283148011 \n",
      "\n",
      "Platinum Root Mean Squared Error: 0.017243374166937806\n",
      "Platinum Average 5-Fold R^2: -0.14482746809242775 \n",
      "\n"
     ]
    }
   ],
   "source": [
    "# Initialize Alphas, and Nameplace\n",
    "huber_alphas=[10,.0001,.01,.01,.1]\n",
    "place = 0\n",
    "\n",
    "#Iterate through target values, calculate and print RMSE, calculate and print Mean R^2 using 5-Fold CV\n",
    "for y in ysap:\n",
    "    X_train, X_test, y_train, y_test = train_test_split(Xap,y, test_size=.3, random_state=42)\n",
    "    huber = HuberRegressor(alpha=huber_alphas[place])\n",
    "    huber.fit(X_train, y_train)\n",
    "    pred = huber.predict(X_test)\n",
    "    rmse = np.sqrt(mean_squared_error(y_test, pred))\n",
    "    print(ys_name[place], 'Root Mean Squared Error: {}'.format(rmse))\n",
    "    cv_scores = cross_val_score(huber, Xap, y, cv=5)\n",
    "    print(ys_name[place], 'Average 5-Fold R^2: {}'.format(np.mean(cv_scores)),'\\n')\n",
    "    place +=1"
   ]
  },
  {
   "cell_type": "code",
   "execution_count": 51,
   "metadata": {
    "scrolled": true
   },
   "outputs": [
    {
     "name": "stdout",
     "output_type": "stream",
     "text": [
      "Catastrophic Root Mean Squared Error: 0.006818883860616319\n",
      "Catastrophic Average 5-Fold R^2: -0.09016677211680568 \n",
      "\n",
      "Bronze Root Mean Squared Error: 0.06324316481867924\n",
      "Bronze Average 5-Fold R^2: 0.5796633035315573 \n",
      "\n",
      "Silver Root Mean Squared Error: 0.03340170432436776\n",
      "Silver Average 5-Fold R^2: 0.8836542342965817 \n",
      "\n",
      "Gold Root Mean Squared Error: 0.05158671030374155\n",
      "Gold Average 5-Fold R^2: 0.0726767884228908 \n",
      "\n",
      "Platinum Root Mean Squared Error: 0.017334128454647595\n",
      "Platinum Average 5-Fold R^2: -0.16745924686894523 \n",
      "\n"
     ]
    }
   ],
   "source": [
    "# Initialize starting place for a scaled Huber Regressor\n",
    "place = 0\n",
    "#Iterate through target values, calculate and print RMSE, calculate and print Mean R^2 using 5-Fold CV\n",
    "for y in ysap:\n",
    "    X_train, X_test, y_train, y_test = train_test_split(Xap,y, test_size=.3, random_state=42)\n",
    "    \n",
    "    # Scaling the data may help as variance is very high within the data.\n",
    "    steps = [('scaler', StandardScaler()),('huber', HuberRegressor(alpha=huber_alphas[place]))]\n",
    "    # Create Pipeline and initialize starting place.\n",
    "    pipe = Pipeline(steps)\n",
    "    # Fit pipeline and calculate metrics. \n",
    "    pipe.fit(X_train, y_train)\n",
    "    pred = pipe.predict(X_test)\n",
    "    rmse = np.sqrt(mean_squared_error(y_test, pred))\n",
    "    print(ys_name[place], 'Root Mean Squared Error: {}'.format(rmse))\n",
    "    cv_scores = cross_val_score(pipe, Xap, y, cv=5)\n",
    "    print(ys_name[place], 'Average 5-Fold R^2: {}'.format(np.mean(cv_scores)),'\\n')\n",
    "    place +=1"
   ]
  },
  {
   "cell_type": "markdown",
   "metadata": {},
   "source": [
    "None of the models in the scaled data produced a R^2 close to the raw counts data.  Regardless, better models need to be found for the Platinum and Catastrophic tiers.  There may be a way to build a Multinomial Logistic Regression model, as well as building better preprocessing to the existing models, that could significantly increase our R^2."
   ]
  },
  {
   "cell_type": "code",
   "execution_count": null,
   "metadata": {
    "collapsed": true
   },
   "outputs": [],
   "source": []
  }
 ],
 "metadata": {
  "kernelspec": {
   "display_name": "Python 3",
   "language": "python",
   "name": "python3"
  },
  "language_info": {
   "codemirror_mode": {
    "name": "ipython",
    "version": 3
   },
   "file_extension": ".py",
   "mimetype": "text/x-python",
   "name": "python",
   "nbconvert_exporter": "python",
   "pygments_lexer": "ipython3",
   "version": "3.6.6"
  },
  "toc": {
   "nav_menu": {},
   "number_sections": true,
   "sideBar": true,
   "skip_h1_title": false,
   "toc_cell": false,
   "toc_position": {},
   "toc_section_display": "block",
   "toc_window_display": false
  },
  "varInspector": {
   "cols": {
    "lenName": 16,
    "lenType": 16,
    "lenVar": 40
   },
   "kernels_config": {
    "python": {
     "delete_cmd_postfix": "",
     "delete_cmd_prefix": "del ",
     "library": "var_list.py",
     "varRefreshCmd": "print(var_dic_list())"
    },
    "r": {
     "delete_cmd_postfix": ") ",
     "delete_cmd_prefix": "rm(",
     "library": "var_list.r",
     "varRefreshCmd": "cat(var_dic_list()) "
    }
   },
   "types_to_exclude": [
    "module",
    "function",
    "builtin_function_or_method",
    "instance",
    "_Feature"
   ],
   "window_display": false
  }
 },
 "nbformat": 4,
 "nbformat_minor": 2
}
