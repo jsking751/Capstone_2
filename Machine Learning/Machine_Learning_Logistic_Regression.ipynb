{
 "cells": [
  {
   "cell_type": "markdown",
   "metadata": {},
   "source": [
    "## Capstone 2 Machine Learning - Logistic Regression\n",
    "\n",
    "Unable to create an effective model using Linear Regression.  Multinomial Logistic Regression appeared to be another means of predicting tier selections as the selections are technically agregated sums of tier choices."
   ]
  },
  {
   "cell_type": "code",
   "execution_count": 1,
   "metadata": {
    "ExecuteTime": {
     "end_time": "2018-07-06T19:01:37.874222Z",
     "start_time": "2018-07-06T19:01:35.877248Z"
    },
    "collapsed": true
   },
   "outputs": [],
   "source": [
    "# Import Tools\n",
    "import pandas as pd\n",
    "import numpy as np\n",
    "import seaborn as sns\n",
    "import matplotlib.pyplot as plt\n",
    "from sklearn.model_selection import train_test_split\n",
    "from sklearn.linear_model import LogisticRegression\n",
    "from sklearn.metrics import accuracy_score\n",
    "from sklearn.pipeline import Pipeline\n",
    "from sklearn.preprocessing import StandardScaler, Normalizer\n",
    "\n",
    "# Make plots pretty.\n",
    "sns.set()"
   ]
  },
  {
   "cell_type": "code",
   "execution_count": 2,
   "metadata": {
    "collapsed": true
   },
   "outputs": [],
   "source": [
    "# Instantiate Regressor, Steps, and Pipeline with Newtpm-CG Solver\n",
    "n_log = LogisticRegression(multi_class='multinomial', solver='newton-cg', random_state=42, max_iter=200,\n",
    "                        n_jobs = 4)\n",
    "n_steps = [('scaler',StandardScaler()), ('log',n_log)]\n",
    "n_pipe = Pipeline(n_steps)\n",
    "\n",
    "# Instantiate Regressor, Steps, and Pipeline with SAGA Solver\n",
    "saga_log = LogisticRegression(multi_class='multinomial', solver='saga', random_state=42, max_iter=300,\n",
    "                        n_jobs = 4)\n",
    "saga_steps = [('scaler',StandardScaler()), ('log', saga_log)]\n",
    "saga_pipe = Pipeline(saga_steps)\n"
   ]
  },
  {
   "cell_type": "markdown",
   "metadata": {},
   "source": [
    "***\n",
    "# Values - All Scaled to Percent of Total Plan Selections"
   ]
  },
  {
   "cell_type": "code",
   "execution_count": 11,
   "metadata": {
    "ExecuteTime": {
     "end_time": "2018-07-06T19:01:43.133154Z",
     "start_time": "2018-07-06T19:01:42.997155Z"
    }
   },
   "outputs": [
    {
     "data": {
      "text/html": [
       "<div>\n",
       "<style>\n",
       "    .dataframe thead tr:only-child th {\n",
       "        text-align: right;\n",
       "    }\n",
       "\n",
       "    .dataframe thead th {\n",
       "        text-align: left;\n",
       "    }\n",
       "\n",
       "    .dataframe tbody tr th {\n",
       "        vertical-align: top;\n",
       "    }\n",
       "</style>\n",
       "<table border=\"1\" class=\"dataframe\">\n",
       "  <thead>\n",
       "    <tr style=\"text-align: right;\">\n",
       "      <th></th>\n",
       "      <th>cfc</th>\n",
       "      <th>state</th>\n",
       "      <th>county</th>\n",
       "      <th>0-17</th>\n",
       "      <th>18-25</th>\n",
       "      <th>26-34</th>\n",
       "      <th>35-44</th>\n",
       "      <th>45-54</th>\n",
       "      <th>55-64</th>\n",
       "      <th>65+</th>\n",
       "      <th>...</th>\n",
       "      <th>platinum</th>\n",
       "      <th>gold</th>\n",
       "      <th>silver</th>\n",
       "      <th>bronze</th>\n",
       "      <th>catastrophic</th>\n",
       "      <th>new</th>\n",
       "      <th>active_renew</th>\n",
       "      <th>auto_renew</th>\n",
       "      <th>tps</th>\n",
       "      <th>Year</th>\n",
       "    </tr>\n",
       "  </thead>\n",
       "  <tbody>\n",
       "    <tr>\n",
       "      <th>0</th>\n",
       "      <td>12109</td>\n",
       "      <td>FL</td>\n",
       "      <td>St. Johns County</td>\n",
       "      <td>0.1149</td>\n",
       "      <td>0.0997</td>\n",
       "      <td>0.1429</td>\n",
       "      <td>0.1536</td>\n",
       "      <td>0.2148</td>\n",
       "      <td>0.2703</td>\n",
       "      <td>0.0037</td>\n",
       "      <td>...</td>\n",
       "      <td>0.10</td>\n",
       "      <td>0.05</td>\n",
       "      <td>0.66</td>\n",
       "      <td>0.18</td>\n",
       "      <td>0.01</td>\n",
       "      <td>0.5360</td>\n",
       "      <td>0.3452</td>\n",
       "      <td>0.1188</td>\n",
       "      <td>10960.0</td>\n",
       "      <td>2015</td>\n",
       "    </tr>\n",
       "    <tr>\n",
       "      <th>1</th>\n",
       "      <td>10001</td>\n",
       "      <td>DE</td>\n",
       "      <td>Kent County</td>\n",
       "      <td>0.1209</td>\n",
       "      <td>0.0831</td>\n",
       "      <td>0.1548</td>\n",
       "      <td>0.1551</td>\n",
       "      <td>0.2256</td>\n",
       "      <td>0.2552</td>\n",
       "      <td>0.0053</td>\n",
       "      <td>...</td>\n",
       "      <td>0.03</td>\n",
       "      <td>0.15</td>\n",
       "      <td>0.63</td>\n",
       "      <td>0.18</td>\n",
       "      <td>0.00</td>\n",
       "      <td>0.5423</td>\n",
       "      <td>0.1917</td>\n",
       "      <td>0.2660</td>\n",
       "      <td>3417.0</td>\n",
       "      <td>2015</td>\n",
       "    </tr>\n",
       "    <tr>\n",
       "      <th>2</th>\n",
       "      <td>10003</td>\n",
       "      <td>DE</td>\n",
       "      <td>New Castle County</td>\n",
       "      <td>0.1312</td>\n",
       "      <td>0.0852</td>\n",
       "      <td>0.1662</td>\n",
       "      <td>0.1559</td>\n",
       "      <td>0.2197</td>\n",
       "      <td>0.2334</td>\n",
       "      <td>0.0084</td>\n",
       "      <td>...</td>\n",
       "      <td>0.05</td>\n",
       "      <td>0.16</td>\n",
       "      <td>0.59</td>\n",
       "      <td>0.20</td>\n",
       "      <td>0.01</td>\n",
       "      <td>0.4980</td>\n",
       "      <td>0.2232</td>\n",
       "      <td>0.2789</td>\n",
       "      <td>14967.0</td>\n",
       "      <td>2015</td>\n",
       "    </tr>\n",
       "    <tr>\n",
       "      <th>3</th>\n",
       "      <td>10005</td>\n",
       "      <td>DE</td>\n",
       "      <td>Sussex County</td>\n",
       "      <td>0.1194</td>\n",
       "      <td>0.0656</td>\n",
       "      <td>0.1210</td>\n",
       "      <td>0.1397</td>\n",
       "      <td>0.2185</td>\n",
       "      <td>0.3314</td>\n",
       "      <td>0.0045</td>\n",
       "      <td>...</td>\n",
       "      <td>0.04</td>\n",
       "      <td>0.17</td>\n",
       "      <td>0.63</td>\n",
       "      <td>0.16</td>\n",
       "      <td>0.00</td>\n",
       "      <td>0.5124</td>\n",
       "      <td>0.2302</td>\n",
       "      <td>0.2574</td>\n",
       "      <td>6651.0</td>\n",
       "      <td>2015</td>\n",
       "    </tr>\n",
       "    <tr>\n",
       "      <th>4</th>\n",
       "      <td>12001</td>\n",
       "      <td>FL</td>\n",
       "      <td>Alachua County</td>\n",
       "      <td>0.0571</td>\n",
       "      <td>0.1699</td>\n",
       "      <td>0.2150</td>\n",
       "      <td>0.1468</td>\n",
       "      <td>0.1769</td>\n",
       "      <td>0.2312</td>\n",
       "      <td>0.0032</td>\n",
       "      <td>...</td>\n",
       "      <td>0.09</td>\n",
       "      <td>0.03</td>\n",
       "      <td>0.72</td>\n",
       "      <td>0.15</td>\n",
       "      <td>0.01</td>\n",
       "      <td>0.5066</td>\n",
       "      <td>0.3442</td>\n",
       "      <td>0.1492</td>\n",
       "      <td>12719.0</td>\n",
       "      <td>2015</td>\n",
       "    </tr>\n",
       "  </tbody>\n",
       "</table>\n",
       "<p>5 rows × 41 columns</p>\n",
       "</div>"
      ],
      "text/plain": [
       "     cfc state             county    0-17   18-25   26-34   35-44   45-54  \\\n",
       "0  12109    FL   St. Johns County  0.1149  0.0997  0.1429  0.1536  0.2148   \n",
       "1  10001    DE        Kent County  0.1209  0.0831  0.1548  0.1551  0.2256   \n",
       "2  10003    DE  New Castle County  0.1312  0.0852  0.1662  0.1559  0.2197   \n",
       "3  10005    DE      Sussex County  0.1194  0.0656  0.1210  0.1397  0.2185   \n",
       "4  12001    FL     Alachua County  0.0571  0.1699  0.2150  0.1468  0.1769   \n",
       "\n",
       "    55-64     65+  ...   platinum  gold  silver  bronze  catastrophic     new  \\\n",
       "0  0.2703  0.0037  ...       0.10  0.05    0.66    0.18          0.01  0.5360   \n",
       "1  0.2552  0.0053  ...       0.03  0.15    0.63    0.18          0.00  0.5423   \n",
       "2  0.2334  0.0084  ...       0.05  0.16    0.59    0.20          0.01  0.4980   \n",
       "3  0.3314  0.0045  ...       0.04  0.17    0.63    0.16          0.00  0.5124   \n",
       "4  0.2312  0.0032  ...       0.09  0.03    0.72    0.15          0.01  0.5066   \n",
       "\n",
       "   active_renew  auto_renew      tps  Year  \n",
       "0        0.3452      0.1188  10960.0  2015  \n",
       "1        0.1917      0.2660   3417.0  2015  \n",
       "2        0.2232      0.2789  14967.0  2015  \n",
       "3        0.2302      0.2574   6651.0  2015  \n",
       "4        0.3442      0.1492  12719.0  2015  \n",
       "\n",
       "[5 rows x 41 columns]"
      ]
     },
     "execution_count": 11,
     "metadata": {},
     "output_type": "execute_result"
    }
   ],
   "source": [
    "# Read in Data\n",
    "dfap = pd.read_csv('Combo_All_Percents.csv')\n",
    "dfap.drop('Unnamed: 0', axis=1, inplace=True)\n",
    "dfap.head()"
   ]
  },
  {
   "cell_type": "code",
   "execution_count": 12,
   "metadata": {
    "ExecuteTime": {
     "end_time": "2018-07-06T19:01:52.823204Z",
     "start_time": "2018-07-06T19:01:52.810203Z"
    },
    "collapsed": true
   },
   "outputs": [],
   "source": [
    "# Create the X and y for the model with individual y's for each metallic tier.\n",
    "\n",
    "# Our X Dropping the Metallic Tier Targets, String Data, and Categorical Year\n",
    "Xap = dfap.drop(['cfc','state','county','platinum','gold','silver','bronze','catastrophic', 'Year'],\n",
    "              axis=1).values\n",
    "\n",
    "# Individual y's for Each Target Data\n",
    "ycatap = (dfap.catastrophic.values * 100).astype(int)\n",
    "ybroap = (dfap.bronze.values *100).astype(int)\n",
    "ysilap = (dfap.silver.values * 100).astype(int)\n",
    "ygoldap = (dfap.gold.values * 100).astype(int)\n",
    "yplatap = (dfap.platinum.values * 100).astype(int)\n",
    "\n",
    "# Create List of Target Values for Percent Data and set up Taget Names\n",
    "ysap=[ycatap, ybroap, ysilap, ygoldap, yplatap]\n",
    "ys_name = ['Catastrophic','Bronze','Silver','Gold','Platinum']"
   ]
  },
  {
   "cell_type": "markdown",
   "metadata": {},
   "source": [
    "## Newton - CG - Solver"
   ]
  },
  {
   "cell_type": "code",
   "execution_count": 5,
   "metadata": {},
   "outputs": [
    {
     "name": "stdout",
     "output_type": "stream",
     "text": [
      "Catastrophic Training Accuracy: 0.7134300126103404\n",
      "Catastrophic Test Accuracy: 0.7235294117647059\n"
     ]
    }
   ],
   "source": [
    "# Let's take a look at our predictive capabilites of the Logistic Regressor\n",
    "\n",
    "# Catastropic Tier\n",
    "X_train, X_test, y_train, y_test = train_test_split(Xap,ycatap, test_size=.3, random_state=42)\n",
    "n_log.fit(X_train, y_train)\n",
    "train_acc = accuracy_score(y_train, n_log.predict(X_train))\n",
    "test_acc = accuracy_score(y_test, n_log.predict(X_test))\n",
    "print('Catastrophic Training Accuracy: {}'.format(train_acc))\n",
    "print('Catastrophic Test Accuracy: {}'.format(test_acc))"
   ]
  },
  {
   "cell_type": "code",
   "execution_count": 6,
   "metadata": {},
   "outputs": [
    {
     "name": "stdout",
     "output_type": "stream",
     "text": [
      "Bronze Training Accuracy: 0.09079445145018916\n",
      "Bronze Test Accuracy: 0.08161764705882353\n"
     ]
    }
   ],
   "source": [
    "# Bronze Tier\n",
    "X_train, X_test, y_train, y_test = train_test_split(Xap,ybroap, test_size=.3, random_state=42)\n",
    "n_log.fit(X_train, y_train)\n",
    "train_acc = accuracy_score(y_train, n_log.predict(X_train))\n",
    "test_acc = accuracy_score(y_test, n_log.predict(X_test))\n",
    "print('Bronze Training Accuracy: {}'.format(train_acc))\n",
    "print('Bronze Test Accuracy: {}'.format(test_acc))"
   ]
  },
  {
   "cell_type": "code",
   "execution_count": 7,
   "metadata": {
    "ExecuteTime": {
     "start_time": "2018-07-06T19:02:38.808Z"
    }
   },
   "outputs": [
    {
     "name": "stdout",
     "output_type": "stream",
     "text": [
      "Silver Training Accuracy: 0.057692307692307696\n",
      "Silver Test Accuracy: 0.052941176470588235\n"
     ]
    }
   ],
   "source": [
    "# Silver Tier\n",
    "X_train, X_test, y_train, y_test = train_test_split(Xap,ysilap, test_size=.3, random_state=42)\n",
    "n_log.fit(X_train, y_train)\n",
    "train_acc = accuracy_score(y_train, n_log.predict(X_train))\n",
    "test_acc = accuracy_score(y_test, n_log.predict(X_test))\n",
    "print('Silver Training Accuracy: {}'.format(train_acc))\n",
    "print('Silver Test Accuracy: {}'.format(test_acc))"
   ]
  },
  {
   "cell_type": "code",
   "execution_count": 8,
   "metadata": {},
   "outputs": [
    {
     "name": "stdout",
     "output_type": "stream",
     "text": [
      "Gold Training Accuracy: 0.35718789407314\n",
      "Gold Test Accuracy: 0.34705882352941175\n"
     ]
    }
   ],
   "source": [
    "# Gold Tier\n",
    "X_train, X_test, y_train, y_test = train_test_split(Xap,ygoldap, test_size=.3, random_state=42)\n",
    "n_log.fit(X_train, y_train)\n",
    "train_acc = accuracy_score(y_train, n_log.predict(X_train))\n",
    "test_acc = accuracy_score(y_test, n_log.predict(X_test))\n",
    "print('Gold Training Accuracy: {}'.format(train_acc))\n",
    "print('Gold Test Accuracy: {}'.format(test_acc))"
   ]
  },
  {
   "cell_type": "code",
   "execution_count": 9,
   "metadata": {},
   "outputs": [
    {
     "name": "stdout",
     "output_type": "stream",
     "text": [
      "Platinum Training Accuracy: 0.8114754098360656\n",
      "Platinum Test Accuracy: 0.8213235294117647\n"
     ]
    }
   ],
   "source": [
    "# Platinum Tier\n",
    "X_train, X_test, y_train, y_test = train_test_split(Xap,yplatap, test_size=.3, random_state=42)\n",
    "n_log.fit(X_train, y_train)\n",
    "train_acc = accuracy_score(y_train, n_log.predict(X_train))\n",
    "test_acc = accuracy_score(y_test, n_log.predict(X_test))\n",
    "print('Platinum Training Accuracy: {}'.format(train_acc))\n",
    "print('Platinum Test Accuracy: {}'.format(test_acc))"
   ]
  },
  {
   "cell_type": "markdown",
   "metadata": {},
   "source": [
    "## Scaled SAGA - Solver"
   ]
  },
  {
   "cell_type": "code",
   "execution_count": 10,
   "metadata": {},
   "outputs": [
    {
     "name": "stdout",
     "output_type": "stream",
     "text": [
      "Catastrophic Training Accuracy: 0.7616645649432535\n",
      "Catastrophic Test Accuracy: 0.7411764705882353\n"
     ]
    },
    {
     "name": "stderr",
     "output_type": "stream",
     "text": [
      "C:\\ProgramData\\Anaconda3\\lib\\site-packages\\sklearn\\linear_model\\sag.py:326: ConvergenceWarning: The max_iter was reached which means the coef_ did not converge\n",
      "  \"the coef_ did not converge\", ConvergenceWarning)\n"
     ]
    }
   ],
   "source": [
    "# Catastropic Tier - Scaled\n",
    "X_train, X_test, y_train, y_test = train_test_split(Xap,ycatap, test_size=.3, random_state=42)\n",
    "saga_pipe.fit(X_train, y_train)\n",
    "train_acc = accuracy_score(y_train, saga_pipe.predict(X_train))\n",
    "test_acc = accuracy_score(y_test, saga_pipe.predict(X_test))\n",
    "print('Catastrophic Training Accuracy: {}'.format(train_acc))\n",
    "print('Catastrophic Test Accuracy: {}'.format(test_acc))"
   ]
  },
  {
   "cell_type": "code",
   "execution_count": 11,
   "metadata": {},
   "outputs": [
    {
     "name": "stdout",
     "output_type": "stream",
     "text": [
      "Bronze Training Accuracy: 0.17118537200504413\n",
      "Bronze Test Accuracy: 0.09411764705882353\n"
     ]
    },
    {
     "name": "stderr",
     "output_type": "stream",
     "text": [
      "C:\\ProgramData\\Anaconda3\\lib\\site-packages\\sklearn\\linear_model\\sag.py:326: ConvergenceWarning: The max_iter was reached which means the coef_ did not converge\n",
      "  \"the coef_ did not converge\", ConvergenceWarning)\n"
     ]
    }
   ],
   "source": [
    "# Bronze Tier - Scaled\n",
    "X_train, X_test, y_train, y_test = train_test_split(Xap,ybroap, test_size=.3, random_state=42)\n",
    "saga_pipe.fit(X_train, y_train)\n",
    "train_acc = accuracy_score(y_train, saga_pipe.predict(X_train))\n",
    "test_acc = accuracy_score(y_test, saga_pipe.predict(X_test))\n",
    "print('Bronze Training Accuracy: {}'.format(train_acc))\n",
    "print('Bronze Test Accuracy: {}'.format(test_acc))"
   ]
  },
  {
   "cell_type": "markdown",
   "metadata": {},
   "source": [
    "Platinum and Catastrophic Plans have a much more reasonable accuracy score.  With a little hyperparameter turning the accuracies could be increased further.  The SAGA Solver is faster than Newton-CG and provides slightly better accuracy as well.\n",
    "***\n",
    "# Values - Target Values Scaled as Percent of Total Plan Selection"
   ]
  },
  {
   "cell_type": "code",
   "execution_count": 3,
   "metadata": {},
   "outputs": [
    {
     "data": {
      "text/html": [
       "<div>\n",
       "<style>\n",
       "    .dataframe thead tr:only-child th {\n",
       "        text-align: right;\n",
       "    }\n",
       "\n",
       "    .dataframe thead th {\n",
       "        text-align: left;\n",
       "    }\n",
       "\n",
       "    .dataframe tbody tr th {\n",
       "        vertical-align: top;\n",
       "    }\n",
       "</style>\n",
       "<table border=\"1\" class=\"dataframe\">\n",
       "  <thead>\n",
       "    <tr style=\"text-align: right;\">\n",
       "      <th></th>\n",
       "      <th>cfc</th>\n",
       "      <th>state</th>\n",
       "      <th>county</th>\n",
       "      <th>0-17</th>\n",
       "      <th>18-25</th>\n",
       "      <th>26-34</th>\n",
       "      <th>35-44</th>\n",
       "      <th>45-54</th>\n",
       "      <th>55-64</th>\n",
       "      <th>65+</th>\n",
       "      <th>...</th>\n",
       "      <th>platinum</th>\n",
       "      <th>gold</th>\n",
       "      <th>silver</th>\n",
       "      <th>bronze</th>\n",
       "      <th>catastrophic</th>\n",
       "      <th>new</th>\n",
       "      <th>active_renew</th>\n",
       "      <th>auto_renew</th>\n",
       "      <th>tps</th>\n",
       "      <th>Year</th>\n",
       "    </tr>\n",
       "  </thead>\n",
       "  <tbody>\n",
       "    <tr>\n",
       "      <th>0</th>\n",
       "      <td>12109</td>\n",
       "      <td>FL</td>\n",
       "      <td>St. Johns County</td>\n",
       "      <td>1259.0</td>\n",
       "      <td>1093.0</td>\n",
       "      <td>1566.0</td>\n",
       "      <td>1684.0</td>\n",
       "      <td>2354.0</td>\n",
       "      <td>2963.0</td>\n",
       "      <td>41.0</td>\n",
       "      <td>...</td>\n",
       "      <td>0.10</td>\n",
       "      <td>0.05</td>\n",
       "      <td>0.66</td>\n",
       "      <td>0.18</td>\n",
       "      <td>0.01</td>\n",
       "      <td>5875.0</td>\n",
       "      <td>3783.0</td>\n",
       "      <td>1302.0</td>\n",
       "      <td>10960.0</td>\n",
       "      <td>2015</td>\n",
       "    </tr>\n",
       "    <tr>\n",
       "      <th>1</th>\n",
       "      <td>10001</td>\n",
       "      <td>DE</td>\n",
       "      <td>Kent County</td>\n",
       "      <td>413.0</td>\n",
       "      <td>284.0</td>\n",
       "      <td>529.0</td>\n",
       "      <td>530.0</td>\n",
       "      <td>771.0</td>\n",
       "      <td>872.0</td>\n",
       "      <td>18.0</td>\n",
       "      <td>...</td>\n",
       "      <td>0.03</td>\n",
       "      <td>0.15</td>\n",
       "      <td>0.63</td>\n",
       "      <td>0.18</td>\n",
       "      <td>0.00</td>\n",
       "      <td>1853.0</td>\n",
       "      <td>655.0</td>\n",
       "      <td>909.0</td>\n",
       "      <td>3417.0</td>\n",
       "      <td>2015</td>\n",
       "    </tr>\n",
       "    <tr>\n",
       "      <th>2</th>\n",
       "      <td>10003</td>\n",
       "      <td>DE</td>\n",
       "      <td>New Castle County</td>\n",
       "      <td>1964.0</td>\n",
       "      <td>1275.0</td>\n",
       "      <td>2487.0</td>\n",
       "      <td>2333.0</td>\n",
       "      <td>3288.0</td>\n",
       "      <td>3494.0</td>\n",
       "      <td>126.0</td>\n",
       "      <td>...</td>\n",
       "      <td>0.05</td>\n",
       "      <td>0.16</td>\n",
       "      <td>0.59</td>\n",
       "      <td>0.20</td>\n",
       "      <td>0.01</td>\n",
       "      <td>7453.0</td>\n",
       "      <td>3340.0</td>\n",
       "      <td>4174.0</td>\n",
       "      <td>14967.0</td>\n",
       "      <td>2015</td>\n",
       "    </tr>\n",
       "    <tr>\n",
       "      <th>3</th>\n",
       "      <td>10005</td>\n",
       "      <td>DE</td>\n",
       "      <td>Sussex County</td>\n",
       "      <td>794.0</td>\n",
       "      <td>436.0</td>\n",
       "      <td>805.0</td>\n",
       "      <td>929.0</td>\n",
       "      <td>1453.0</td>\n",
       "      <td>2204.0</td>\n",
       "      <td>30.0</td>\n",
       "      <td>...</td>\n",
       "      <td>0.04</td>\n",
       "      <td>0.17</td>\n",
       "      <td>0.63</td>\n",
       "      <td>0.16</td>\n",
       "      <td>0.00</td>\n",
       "      <td>3408.0</td>\n",
       "      <td>1531.0</td>\n",
       "      <td>1712.0</td>\n",
       "      <td>6651.0</td>\n",
       "      <td>2015</td>\n",
       "    </tr>\n",
       "    <tr>\n",
       "      <th>4</th>\n",
       "      <td>12001</td>\n",
       "      <td>FL</td>\n",
       "      <td>Alachua County</td>\n",
       "      <td>726.0</td>\n",
       "      <td>2161.0</td>\n",
       "      <td>2734.0</td>\n",
       "      <td>1867.0</td>\n",
       "      <td>2250.0</td>\n",
       "      <td>2940.0</td>\n",
       "      <td>41.0</td>\n",
       "      <td>...</td>\n",
       "      <td>0.09</td>\n",
       "      <td>0.03</td>\n",
       "      <td>0.72</td>\n",
       "      <td>0.15</td>\n",
       "      <td>0.01</td>\n",
       "      <td>6443.0</td>\n",
       "      <td>4378.0</td>\n",
       "      <td>1898.0</td>\n",
       "      <td>12719.0</td>\n",
       "      <td>2015</td>\n",
       "    </tr>\n",
       "  </tbody>\n",
       "</table>\n",
       "<p>5 rows × 41 columns</p>\n",
       "</div>"
      ],
      "text/plain": [
       "     cfc state             county    0-17   18-25   26-34   35-44   45-54  \\\n",
       "0  12109    FL   St. Johns County  1259.0  1093.0  1566.0  1684.0  2354.0   \n",
       "1  10001    DE        Kent County   413.0   284.0   529.0   530.0   771.0   \n",
       "2  10003    DE  New Castle County  1964.0  1275.0  2487.0  2333.0  3288.0   \n",
       "3  10005    DE      Sussex County   794.0   436.0   805.0   929.0  1453.0   \n",
       "4  12001    FL     Alachua County   726.0  2161.0  2734.0  1867.0  2250.0   \n",
       "\n",
       "    55-64    65+  ...   platinum  gold  silver  bronze  catastrophic     new  \\\n",
       "0  2963.0   41.0  ...       0.10  0.05    0.66    0.18          0.01  5875.0   \n",
       "1   872.0   18.0  ...       0.03  0.15    0.63    0.18          0.00  1853.0   \n",
       "2  3494.0  126.0  ...       0.05  0.16    0.59    0.20          0.01  7453.0   \n",
       "3  2204.0   30.0  ...       0.04  0.17    0.63    0.16          0.00  3408.0   \n",
       "4  2940.0   41.0  ...       0.09  0.03    0.72    0.15          0.01  6443.0   \n",
       "\n",
       "   active_renew  auto_renew      tps  Year  \n",
       "0        3783.0      1302.0  10960.0  2015  \n",
       "1         655.0       909.0   3417.0  2015  \n",
       "2        3340.0      4174.0  14967.0  2015  \n",
       "3        1531.0      1712.0   6651.0  2015  \n",
       "4        4378.0      1898.0  12719.0  2015  \n",
       "\n",
       "[5 rows x 41 columns]"
      ]
     },
     "execution_count": 3,
     "metadata": {},
     "output_type": "execute_result"
    }
   ],
   "source": [
    "# Read in Data\n",
    "dfp = pd.read_csv('Combo_Percents.csv')\n",
    "dfp.drop('Unnamed: 0', axis=1, inplace=True)\n",
    "dfp.head()"
   ]
  },
  {
   "cell_type": "code",
   "execution_count": 4,
   "metadata": {
    "collapsed": true
   },
   "outputs": [],
   "source": [
    "# Create the X and y for the model with individual y's for each metallic tier.\n",
    "\n",
    "# Our X Dropping the Metallic Tier Targets, String Data, Categorical Year, and TPS\n",
    "Xp = dfp.drop(['cfc','state','county','platinum','gold','silver','bronze','catastrophic', 'Year',\n",
    "               'tps'],axis=1).values\n",
    "\n",
    "# Individual y's for Each Target Data\n",
    "ycatp = (dfp.catastrophic.values * 100).astype(int)\n",
    "ybrop = (dfp.bronze.values *100).astype(int)\n",
    "ysilp = (dfp.silver.values * 100).astype(int)\n",
    "ygoldp = (dfp.gold.values * 100).astype(int)\n",
    "yplatp = (dfp.platinum.values * 100).astype(int)\n",
    "\n",
    "# Create List of Target Values for Percent Data\n",
    "ysp=[ycatp, ybrop, ysilp, ygoldp, yplatp]"
   ]
  },
  {
   "cell_type": "markdown",
   "metadata": {},
   "source": [
    "## Newton - CG Solver"
   ]
  },
  {
   "cell_type": "code",
   "execution_count": 14,
   "metadata": {},
   "outputs": [
    {
     "name": "stdout",
     "output_type": "stream",
     "text": [
      "Catastrophic Training Accuracy: 0.7676544766708702\n",
      "Catastrophic Test Accuracy: 0.7507352941176471\n"
     ]
    }
   ],
   "source": [
    "# Catastropic Tier Unscaled\n",
    "X_train, X_test, y_train, y_test = train_test_split(Xp,ycatp, test_size=.3, random_state=42)\n",
    "n_log.fit(X_train, y_train)\n",
    "train_acc = accuracy_score(y_train, n_log.predict(X_train))\n",
    "test_acc = accuracy_score(y_test, n_log.predict(X_test))\n",
    "print('Catastrophic Training Accuracy: {}'.format(train_acc))\n",
    "print('Catastrophic Test Accuracy: {}'.format(test_acc))"
   ]
  },
  {
   "cell_type": "code",
   "execution_count": 15,
   "metadata": {},
   "outputs": [
    {
     "name": "stdout",
     "output_type": "stream",
     "text": [
      "Catastrophic Training Accuracy: 0.7528373266078184\n",
      "Catastrophic Test Accuracy: 0.7419117647058824\n"
     ]
    }
   ],
   "source": [
    "# Catastropic Tier Scaled\n",
    "X_train, X_test, y_train, y_test = train_test_split(Xp,ycatp, test_size=.3, random_state=42)\n",
    "n_pipe.fit(X_train, y_train)\n",
    "train_acc = accuracy_score(y_train, n_pipe.predict(X_train))\n",
    "test_acc = accuracy_score(y_test, n_pipe.predict(X_test))\n",
    "print('Catastrophic Training Accuracy: {}'.format(train_acc))\n",
    "print('Catastrophic Test Accuracy: {}'.format(test_acc))"
   ]
  },
  {
   "cell_type": "code",
   "execution_count": 16,
   "metadata": {},
   "outputs": [
    {
     "name": "stdout",
     "output_type": "stream",
     "text": [
      "Bronze Training Accuracy: 0.24495586380832282\n",
      "Bronze Test Accuracy: 0.1426470588235294\n"
     ]
    }
   ],
   "source": [
    "# Bronze Tier Not Scaled\n",
    "X_train, X_test, y_train, y_test = train_test_split(Xp,ybrop, test_size=.3, random_state=42)\n",
    "n_log.fit(X_train, y_train)\n",
    "train_acc = accuracy_score(y_train, n_log.predict(X_train))\n",
    "test_acc = accuracy_score(y_test, n_log.predict(X_test))\n",
    "print('Bronze Training Accuracy: {}'.format(train_acc))\n",
    "print('Bronze Test Accuracy: {}'.format(test_acc))"
   ]
  },
  {
   "cell_type": "code",
   "execution_count": 17,
   "metadata": {},
   "outputs": [
    {
     "name": "stdout",
     "output_type": "stream",
     "text": [
      "Bronze Training Accuracy: 0.10907944514501891\n",
      "Bronze Test Accuracy: 0.0838235294117647\n"
     ]
    }
   ],
   "source": [
    "# Bronze Tier Scaled\n",
    "X_train, X_test, y_train, y_test = train_test_split(Xp,ybrop, test_size=.3, random_state=42)\n",
    "n_pipe.fit(X_train, y_train)\n",
    "train_acc = accuracy_score(y_train, n_pipe.predict(X_train))\n",
    "test_acc = accuracy_score(y_test, n_pipe.predict(X_test))\n",
    "print('Bronze Training Accuracy: {}'.format(train_acc))\n",
    "print('Bronze Test Accuracy: {}'.format(test_acc))"
   ]
  },
  {
   "cell_type": "markdown",
   "metadata": {},
   "source": [
    "## Scaled SAGA Solver"
   ]
  },
  {
   "cell_type": "code",
   "execution_count": 18,
   "metadata": {},
   "outputs": [
    {
     "name": "stdout",
     "output_type": "stream",
     "text": [
      "Catastrophic Training Accuracy: 0.7405422446406053\n",
      "Catastrophic Test Accuracy: 0.7426470588235294\n"
     ]
    },
    {
     "name": "stderr",
     "output_type": "stream",
     "text": [
      "C:\\ProgramData\\Anaconda3\\lib\\site-packages\\sklearn\\linear_model\\sag.py:326: ConvergenceWarning: The max_iter was reached which means the coef_ did not converge\n",
      "  \"the coef_ did not converge\", ConvergenceWarning)\n"
     ]
    }
   ],
   "source": [
    "# Catastropic Tier - Scaled\n",
    "X_train, X_test, y_train, y_test = train_test_split(Xp,ycatp, test_size=.3, random_state=42)\n",
    "saga_pipe.fit(X_train, y_train)\n",
    "train_acc = accuracy_score(y_train, saga_pipe.predict(X_train))\n",
    "test_acc = accuracy_score(y_test, saga_pipe.predict(X_test))\n",
    "print('Catastrophic Training Accuracy: {}'.format(train_acc))\n",
    "print('Catastrophic Test Accuracy: {}'.format(test_acc))"
   ]
  },
  {
   "cell_type": "code",
   "execution_count": 19,
   "metadata": {},
   "outputs": [
    {
     "name": "stdout",
     "output_type": "stream",
     "text": [
      "Bronze Training Accuracy: 0.08259773013871374\n",
      "Bronze Test Accuracy: 0.07352941176470588\n"
     ]
    },
    {
     "name": "stderr",
     "output_type": "stream",
     "text": [
      "C:\\ProgramData\\Anaconda3\\lib\\site-packages\\sklearn\\linear_model\\sag.py:326: ConvergenceWarning: The max_iter was reached which means the coef_ did not converge\n",
      "  \"the coef_ did not converge\", ConvergenceWarning)\n"
     ]
    }
   ],
   "source": [
    "# Bronze Tier - Scaled\n",
    "X_train, X_test, y_train, y_test = train_test_split(Xp,ybrop, test_size=.3, random_state=42)\n",
    "saga_pipe.fit(X_train, y_train)\n",
    "train_acc = accuracy_score(y_train, saga_pipe.predict(X_train))\n",
    "test_acc = accuracy_score(y_test, saga_pipe.predict(X_test))\n",
    "print('Bronze Training Accuracy: {}'.format(train_acc))\n",
    "print('Bronze Test Accuracy: {}'.format(test_acc))"
   ]
  },
  {
   "cell_type": "markdown",
   "metadata": {
    "collapsed": true
   },
   "source": [
    "# Values - Not Scaled as Percent of Total Plan Selection"
   ]
  },
  {
   "cell_type": "code",
   "execution_count": 20,
   "metadata": {},
   "outputs": [
    {
     "data": {
      "text/html": [
       "<div>\n",
       "<style>\n",
       "    .dataframe thead tr:only-child th {\n",
       "        text-align: right;\n",
       "    }\n",
       "\n",
       "    .dataframe thead th {\n",
       "        text-align: left;\n",
       "    }\n",
       "\n",
       "    .dataframe tbody tr th {\n",
       "        vertical-align: top;\n",
       "    }\n",
       "</style>\n",
       "<table border=\"1\" class=\"dataframe\">\n",
       "  <thead>\n",
       "    <tr style=\"text-align: right;\">\n",
       "      <th></th>\n",
       "      <th>cfc</th>\n",
       "      <th>state</th>\n",
       "      <th>county</th>\n",
       "      <th>0-17</th>\n",
       "      <th>18-25</th>\n",
       "      <th>26-34</th>\n",
       "      <th>35-44</th>\n",
       "      <th>45-54</th>\n",
       "      <th>55-64</th>\n",
       "      <th>65+</th>\n",
       "      <th>...</th>\n",
       "      <th>platinum</th>\n",
       "      <th>gold</th>\n",
       "      <th>silver</th>\n",
       "      <th>bronze</th>\n",
       "      <th>catastrophic</th>\n",
       "      <th>new</th>\n",
       "      <th>active_renew</th>\n",
       "      <th>auto_renew</th>\n",
       "      <th>tps</th>\n",
       "      <th>Year</th>\n",
       "    </tr>\n",
       "  </thead>\n",
       "  <tbody>\n",
       "    <tr>\n",
       "      <th>0</th>\n",
       "      <td>12109</td>\n",
       "      <td>FL</td>\n",
       "      <td>St. Johns County</td>\n",
       "      <td>1259.0</td>\n",
       "      <td>1093.0</td>\n",
       "      <td>1566.0</td>\n",
       "      <td>1684.0</td>\n",
       "      <td>2354.0</td>\n",
       "      <td>2963.0</td>\n",
       "      <td>41.0</td>\n",
       "      <td>...</td>\n",
       "      <td>1128.0</td>\n",
       "      <td>594.0</td>\n",
       "      <td>7209.0</td>\n",
       "      <td>1967.0</td>\n",
       "      <td>62.0</td>\n",
       "      <td>5875.0</td>\n",
       "      <td>3783.0</td>\n",
       "      <td>1302.0</td>\n",
       "      <td>10960.0</td>\n",
       "      <td>2015</td>\n",
       "    </tr>\n",
       "    <tr>\n",
       "      <th>1</th>\n",
       "      <td>10001</td>\n",
       "      <td>DE</td>\n",
       "      <td>Kent County</td>\n",
       "      <td>413.0</td>\n",
       "      <td>284.0</td>\n",
       "      <td>529.0</td>\n",
       "      <td>530.0</td>\n",
       "      <td>771.0</td>\n",
       "      <td>872.0</td>\n",
       "      <td>18.0</td>\n",
       "      <td>...</td>\n",
       "      <td>107.0</td>\n",
       "      <td>528.0</td>\n",
       "      <td>2136.0</td>\n",
       "      <td>629.0</td>\n",
       "      <td>17.0</td>\n",
       "      <td>1853.0</td>\n",
       "      <td>655.0</td>\n",
       "      <td>909.0</td>\n",
       "      <td>3417.0</td>\n",
       "      <td>2015</td>\n",
       "    </tr>\n",
       "    <tr>\n",
       "      <th>2</th>\n",
       "      <td>10003</td>\n",
       "      <td>DE</td>\n",
       "      <td>New Castle County</td>\n",
       "      <td>1964.0</td>\n",
       "      <td>1275.0</td>\n",
       "      <td>2487.0</td>\n",
       "      <td>2333.0</td>\n",
       "      <td>3288.0</td>\n",
       "      <td>3494.0</td>\n",
       "      <td>126.0</td>\n",
       "      <td>...</td>\n",
       "      <td>679.0</td>\n",
       "      <td>2406.0</td>\n",
       "      <td>8835.0</td>\n",
       "      <td>2943.0</td>\n",
       "      <td>104.0</td>\n",
       "      <td>7453.0</td>\n",
       "      <td>3340.0</td>\n",
       "      <td>4174.0</td>\n",
       "      <td>14967.0</td>\n",
       "      <td>2015</td>\n",
       "    </tr>\n",
       "    <tr>\n",
       "      <th>3</th>\n",
       "      <td>10005</td>\n",
       "      <td>DE</td>\n",
       "      <td>Sussex County</td>\n",
       "      <td>794.0</td>\n",
       "      <td>436.0</td>\n",
       "      <td>805.0</td>\n",
       "      <td>929.0</td>\n",
       "      <td>1453.0</td>\n",
       "      <td>2204.0</td>\n",
       "      <td>30.0</td>\n",
       "      <td>...</td>\n",
       "      <td>257.0</td>\n",
       "      <td>1144.0</td>\n",
       "      <td>4198.0</td>\n",
       "      <td>1032.0</td>\n",
       "      <td>20.0</td>\n",
       "      <td>3408.0</td>\n",
       "      <td>1531.0</td>\n",
       "      <td>1712.0</td>\n",
       "      <td>6651.0</td>\n",
       "      <td>2015</td>\n",
       "    </tr>\n",
       "    <tr>\n",
       "      <th>4</th>\n",
       "      <td>12001</td>\n",
       "      <td>FL</td>\n",
       "      <td>Alachua County</td>\n",
       "      <td>726.0</td>\n",
       "      <td>2161.0</td>\n",
       "      <td>2734.0</td>\n",
       "      <td>1867.0</td>\n",
       "      <td>2250.0</td>\n",
       "      <td>2940.0</td>\n",
       "      <td>41.0</td>\n",
       "      <td>...</td>\n",
       "      <td>1188.0</td>\n",
       "      <td>429.0</td>\n",
       "      <td>9169.0</td>\n",
       "      <td>1848.0</td>\n",
       "      <td>85.0</td>\n",
       "      <td>6443.0</td>\n",
       "      <td>4378.0</td>\n",
       "      <td>1898.0</td>\n",
       "      <td>12719.0</td>\n",
       "      <td>2015</td>\n",
       "    </tr>\n",
       "  </tbody>\n",
       "</table>\n",
       "<p>5 rows × 41 columns</p>\n",
       "</div>"
      ],
      "text/plain": [
       "     cfc state             county    0-17   18-25   26-34   35-44   45-54  \\\n",
       "0  12109    FL   St. Johns County  1259.0  1093.0  1566.0  1684.0  2354.0   \n",
       "1  10001    DE        Kent County   413.0   284.0   529.0   530.0   771.0   \n",
       "2  10003    DE  New Castle County  1964.0  1275.0  2487.0  2333.0  3288.0   \n",
       "3  10005    DE      Sussex County   794.0   436.0   805.0   929.0  1453.0   \n",
       "4  12001    FL     Alachua County   726.0  2161.0  2734.0  1867.0  2250.0   \n",
       "\n",
       "    55-64    65+  ...   platinum    gold  silver  bronze  catastrophic  \\\n",
       "0  2963.0   41.0  ...     1128.0   594.0  7209.0  1967.0          62.0   \n",
       "1   872.0   18.0  ...      107.0   528.0  2136.0   629.0          17.0   \n",
       "2  3494.0  126.0  ...      679.0  2406.0  8835.0  2943.0         104.0   \n",
       "3  2204.0   30.0  ...      257.0  1144.0  4198.0  1032.0          20.0   \n",
       "4  2940.0   41.0  ...     1188.0   429.0  9169.0  1848.0          85.0   \n",
       "\n",
       "      new  active_renew  auto_renew      tps  Year  \n",
       "0  5875.0        3783.0      1302.0  10960.0  2015  \n",
       "1  1853.0         655.0       909.0   3417.0  2015  \n",
       "2  7453.0        3340.0      4174.0  14967.0  2015  \n",
       "3  3408.0        1531.0      1712.0   6651.0  2015  \n",
       "4  6443.0        4378.0      1898.0  12719.0  2015  \n",
       "\n",
       "[5 rows x 41 columns]"
      ]
     },
     "execution_count": 20,
     "metadata": {},
     "output_type": "execute_result"
    }
   ],
   "source": [
    "# Read in Data\n",
    "df = pd.read_csv('Combo_Cleaned.csv')\n",
    "df.drop('Unnamed: 0', axis=1, inplace=True)\n",
    "df.head()"
   ]
  },
  {
   "cell_type": "code",
   "execution_count": 21,
   "metadata": {
    "collapsed": true
   },
   "outputs": [],
   "source": [
    "# Create our X and y for the model with individual y's for each metallic tier.\n",
    "\n",
    "# Our X Dropping the Metallic Tier Targets, String Data, and Categorical Year\n",
    "X = df.drop(['cfc','state','county','platinum','gold','silver','bronze','catastrophic', 'Year'], axis=1).values\n",
    "\n",
    "# Individual y's for Each Target Data\n",
    "ycat = df.catastrophic.values\n",
    "ybro = df.bronze.values\n",
    "ysil = df.silver.values\n",
    "ygold = df.gold.values\n",
    "yplat = df.platinum.values\n",
    "\n",
    "# Create List of Target Values and Names of Target Values\n",
    "ys=[ycat, ybro, ysil, ygold, yplat]"
   ]
  },
  {
   "cell_type": "code",
   "execution_count": 22,
   "metadata": {},
   "outputs": [
    {
     "name": "stdout",
     "output_type": "stream",
     "text": [
      "Catastrophic Training Accuracy: 0.7691338582677165\n",
      "Catastrophic Test Accuracy: 0.6252755326965467\n"
     ]
    }
   ],
   "source": [
    "# Catastropic Tier Unscaled\n",
    "X_train, X_test, y_train, y_test = train_test_split(X,ycat, test_size=.3, random_state=42)\n",
    "n_log.fit(X_train, y_train)\n",
    "train_acc = accuracy_score(y_train, n_log.predict(X_train))\n",
    "test_acc = accuracy_score(y_test, n_log.predict(X_test))\n",
    "print('Catastrophic Training Accuracy: {}'.format(train_acc))\n",
    "print('Catastrophic Test Accuracy: {}'.format(test_acc))"
   ]
  },
  {
   "cell_type": "code",
   "execution_count": 23,
   "metadata": {},
   "outputs": [
    {
     "name": "stdout",
     "output_type": "stream",
     "text": [
      "Catastrophic Training Accuracy: 0.7105511811023622\n",
      "Catastrophic Test Accuracy: 0.6539309331373989\n"
     ]
    }
   ],
   "source": [
    "# Catastropic Tier Scaled\n",
    "X_train, X_test, y_train, y_test = train_test_split(X,ycat, test_size=.3, random_state=42)\n",
    "n_pipe.fit(X_train, y_train)\n",
    "train_acc = accuracy_score(y_train, n_pipe.predict(X_train))\n",
    "test_acc = accuracy_score(y_test, n_pipe.predict(X_test))\n",
    "print('Catastrophic Training Accuracy: {}'.format(train_acc))\n",
    "print('Catastrophic Test Accuracy: {}'.format(test_acc))"
   ]
  },
  {
   "cell_type": "markdown",
   "metadata": {},
   "source": [
    "Not using scaled data produces weaker results.  Will not investigate using this data for our model further.\n",
    "\n",
    "***\n",
    "\n",
    "Overall the best model used the Targets by Percent of `Total Plan Selections (TPS)` dataset with the `Newton-CG` solver.  Since a Linear Regression model can be built for Bronze, Silver, Gold plans, the Logistic Regression model should be built for the Platinum and Catastrophic plans (as it is best suited for those two plans.\n",
    "<br>\n",
    "Fine tuning our current models may help.  All features seem to play a role in helping to provide better predictions.  Using LogisticRegressionCV might assist in tuning each model with the best hyperparameters."
   ]
  },
  {
   "cell_type": "markdown",
   "metadata": {},
   "source": [
    "# Fine Tuning Models"
   ]
  },
  {
   "cell_type": "code",
   "execution_count": 5,
   "metadata": {
    "collapsed": true
   },
   "outputs": [],
   "source": [
    "# Import Logistic Regression CV\n",
    "from sklearn.linear_model import LogisticRegressionCV"
   ]
  },
  {
   "cell_type": "code",
   "execution_count": 6,
   "metadata": {
    "collapsed": true
   },
   "outputs": [],
   "source": [
    "# Instantiate new Normalizer Pipeline\n",
    "n_steps_norm = [('scaler',Normalizer()), ('log',n_log)]\n",
    "n_pipe_norm = Pipeline(n_steps_norm)"
   ]
  },
  {
   "cell_type": "code",
   "execution_count": 7,
   "metadata": {
    "collapsed": true
   },
   "outputs": [],
   "source": [
    "#  Instantiate New Logistic Regression Models and Pipelines\n",
    "\n",
    "# Instantiate Regressor, Steps, and Pipeline with Newtpm-CG Solver\n",
    "n_log_cv = LogisticRegressionCV(multi_class='multinomial', solver='newton-cg', random_state=42,\n",
    "                                max_iter=400,n_jobs = 4)\n",
    "n_steps_cv = [('scaler',StandardScaler()), ('log',n_log_cv)]\n",
    "n_pipe_cv = Pipeline(n_steps_cv)\n",
    "\n",
    "# Instantiate Regressor, Steps, and Pipeline with SAGA Solver\n",
    "saga_log_cv = LogisticRegressionCV(multi_class='multinomial', solver='saga', random_state=42,\n",
    "                                   max_iter=300,n_jobs = 4)\n",
    "saga_steps_cv = [('scaler',StandardScaler()), ('log', saga_log_cv)]\n",
    "saga_pipe_cv = Pipeline(saga_steps_cv)\n"
   ]
  },
  {
   "cell_type": "markdown",
   "metadata": {},
   "source": [
    "## Newton - CG Solver"
   ]
  },
  {
   "cell_type": "code",
   "execution_count": 9,
   "metadata": {},
   "outputs": [
    {
     "name": "stdout",
     "output_type": "stream",
     "text": [
      "Catastrophic Training Accuracy: 0.7676544766708702\n",
      "Catastrophic Test Accuracy: 0.7507352941176471\n"
     ]
    }
   ],
   "source": [
    "# Catastropic Tier Unscaled\n",
    "X_train, X_test, y_train, y_test = train_test_split(Xp,ycatp, test_size=.3, random_state=42)\n",
    "n_log.fit(X_train, y_train)\n",
    "train_acc = accuracy_score(y_train, n_log.predict(X_train))\n",
    "test_acc = accuracy_score(y_test, n_log.predict(X_test))\n",
    "print('Catastrophic Training Accuracy: {}'.format(train_acc))\n",
    "print('Catastrophic Test Accuracy: {}'.format(test_acc))"
   ]
  },
  {
   "cell_type": "code",
   "execution_count": 10,
   "metadata": {},
   "outputs": [
    {
     "name": "stdout",
     "output_type": "stream",
     "text": [
      "Catastrophic Training Accuracy: 0.7528373266078184\n",
      "Catastrophic Test Accuracy: 0.7419117647058824\n"
     ]
    }
   ],
   "source": [
    "# Catastropic Tier Scaled with Standard Scaler\n",
    "X_train, X_test, y_train, y_test = train_test_split(Xp,ycatp, test_size=.3, random_state=42)\n",
    "n_pipe.fit(X_train, y_train)\n",
    "train_acc = accuracy_score(y_train, n_pipe.predict(X_train))\n",
    "test_acc = accuracy_score(y_test, n_pipe.predict(X_test))\n",
    "print('Catastrophic Training Accuracy: {}'.format(train_acc))\n",
    "print('Catastrophic Test Accuracy: {}'.format(test_acc))"
   ]
  },
  {
   "cell_type": "code",
   "execution_count": 14,
   "metadata": {},
   "outputs": [
    {
     "name": "stdout",
     "output_type": "stream",
     "text": [
      "Catastrophic Training Accuracy: 0.7005044136191677\n",
      "Catastrophic Test Accuracy: 0.7058823529411765\n"
     ]
    }
   ],
   "source": [
    "# Catastropic Tier Scaled with Normalizer\n",
    "X_train, X_test, y_train, y_test = train_test_split(Xp,ycatp, test_size=.3, random_state=42)\n",
    "n_pipe_norm.fit(X_train, y_train)\n",
    "train_acc = accuracy_score(y_train, n_pipe_norm.predict(X_train))\n",
    "test_acc = accuracy_score(y_test, n_pipe_norm.predict(X_test))\n",
    "print('Catastrophic Training Accuracy: {}'.format(train_acc))\n",
    "print('Catastrophic Test Accuracy: {}'.format(test_acc))"
   ]
  },
  {
   "cell_type": "code",
   "execution_count": 11,
   "metadata": {},
   "outputs": [
    {
     "name": "stdout",
     "output_type": "stream",
     "text": [
      "Platinum Training Accuracy: 0.8307061790668349\n",
      "Platinum Test Accuracy: 0.8080882352941177\n"
     ]
    }
   ],
   "source": [
    "# Platinum Tier Unscaled\n",
    "X_train, X_test, y_train, y_test = train_test_split(Xp,yplatp, test_size=.3, random_state=42)\n",
    "n_log.fit(X_train, y_train)\n",
    "train_acc = accuracy_score(y_train, n_log.predict(X_train))\n",
    "test_acc = accuracy_score(y_test, n_log.predict(X_test))\n",
    "print('Platinum Training Accuracy: {}'.format(train_acc))\n",
    "print('Platinum Test Accuracy: {}'.format(test_acc))"
   ]
  },
  {
   "cell_type": "code",
   "execution_count": 12,
   "metadata": {},
   "outputs": [
    {
     "name": "stdout",
     "output_type": "stream",
     "text": [
      "Platinum Training Accuracy: 0.8256620428751577\n",
      "Platinum Test Accuracy: 0.8227941176470588\n"
     ]
    }
   ],
   "source": [
    "# Platinum Tier - Scaled with Standard Scaler\n",
    "X_train, X_test, y_train, y_test = train_test_split(Xp,yplatp, test_size=.3, random_state=42)\n",
    "n_pipe.fit(X_train, y_train)\n",
    "train_acc = accuracy_score(y_train, n_pipe.predict(X_train))\n",
    "test_acc = accuracy_score(y_test, n_pipe.predict(X_test))\n",
    "print('Platinum Training Accuracy: {}'.format(train_acc))\n",
    "print('Platinum Test Accuracy: {}'.format(test_acc))"
   ]
  },
  {
   "cell_type": "code",
   "execution_count": 15,
   "metadata": {},
   "outputs": [
    {
     "name": "stdout",
     "output_type": "stream",
     "text": [
      "Platinum Training Accuracy: 0.812421185372005\n",
      "Platinum Test Accuracy: 0.8176470588235294\n"
     ]
    }
   ],
   "source": [
    "# Platinum Tier Scaled with Normalizer\n",
    "X_train, X_test, y_train, y_test = train_test_split(Xp,yplatp, test_size=.3, random_state=42)\n",
    "n_pipe_norm.fit(X_train, y_train)\n",
    "train_acc = accuracy_score(y_train, n_pipe_norm.predict(X_train))\n",
    "test_acc = accuracy_score(y_test, n_pipe_norm.predict(X_test))\n",
    "print('Platinum Training Accuracy: {}'.format(train_acc))\n",
    "print('Platinum Test Accuracy: {}'.format(test_acc))"
   ]
  },
  {
   "cell_type": "markdown",
   "metadata": {},
   "source": [
    "## Logistic Regression CV (Newton-CG and SAGA solvers)\n"
   ]
  },
  {
   "cell_type": "code",
   "execution_count": null,
   "metadata": {},
   "outputs": [
    {
     "name": "stderr",
     "output_type": "stream",
     "text": [
      "C:\\ProgramData\\Anaconda3\\lib\\site-packages\\sklearn\\model_selection\\_split.py:605: Warning: The least populated class in y has only 1 members, which is too few. The minimum number of members in any class cannot be less than n_splits=3.\n",
      "  % (min_groups, self.n_splits)), Warning)\n"
     ]
    }
   ],
   "source": [
    "# Silver Tier Unscaled With CV\n",
    "X_train, X_test, y_train, y_test = train_test_split(Xp,ysilp, test_size=.3, random_state=42)\n",
    "n_log_cv.fit(X_train, y_train)\n",
    "train_acc = accuracy_score(y_train, n_log_cv.predict(X_train))\n",
    "test_acc = accuracy_score(y_test, n_log_cv.predict(X_test))\n",
    "print('Silver Training Accuracy: {}'.format(train_acc))\n",
    "print('Silver Test Accuracy: {}'.format(test_acc))"
   ]
  },
  {
   "cell_type": "markdown",
   "metadata": {},
   "source": [
    "The weakness in my current models is likely due to the high number of target classifications within the data.  Let's look at the number of unique targets in each tier to test this hypothesis."
   ]
  },
  {
   "cell_type": "code",
   "execution_count": 12,
   "metadata": {
    "collapsed": true
   },
   "outputs": [],
   "source": [
    "test = dfp[['catastrophic','bronze','silver','gold','platinum']]"
   ]
  },
  {
   "cell_type": "markdown",
   "metadata": {},
   "source": [
    "As seen above, the differences in strengths of models is clearly correlated with the number of unique targets in each tier.  If we were to round each target to significantly reduce the number of unique targets in the data, the models should improve dramatically."
   ]
  },
  {
   "cell_type": "code",
   "execution_count": 13,
   "metadata": {},
   "outputs": [
    {
     "data": {
      "text/plain": [
       "catastrophic     6\n",
       "bronze          57\n",
       "silver          67\n",
       "gold            44\n",
       "platinum        16\n",
       "dtype: int64"
      ]
     },
     "execution_count": 13,
     "metadata": {},
     "output_type": "execute_result"
    }
   ],
   "source": [
    "test.nunique()"
   ]
  },
  {
   "cell_type": "markdown",
   "metadata": {},
   "source": [
    "Strong Linear Regression models were built for Silver, Bronze and Gold tiers.  Logistic Regression seems to be working well for the remaining Catastrophic and Platinum tiers.  Next step will be to bin the tiers for Catastrophic and Platinum plans so that we can use Logistic Regression CV."
   ]
  },
  {
   "cell_type": "code",
   "execution_count": 10,
   "metadata": {},
   "outputs": [
    {
     "data": {
      "text/plain": [
       "(array([0, 1, 2, 3, 4, 5]),\n",
       " array([3176,  918,  363,   60,    9,    6], dtype=int64))"
      ]
     },
     "execution_count": 10,
     "metadata": {},
     "output_type": "execute_result"
    }
   ],
   "source": [
    "np.unique(ycatp, return_counts=True)"
   ]
  },
  {
   "cell_type": "code",
   "execution_count": 8,
   "metadata": {},
   "outputs": [
    {
     "data": {
      "text/plain": [
       "(array([ 0,  1,  2,  3,  4,  5,  6,  7,  8,  9, 10, 11, 12, 13, 14, 15]),\n",
       " array([3689,  277,  197,  153,   66,   42,   25,   26,   13,   14,   10,\n",
       "           7,    5,    3,    3,    2], dtype=int64))"
      ]
     },
     "execution_count": 8,
     "metadata": {},
     "output_type": "execute_result"
    }
   ],
   "source": [
    "np.unique(yplatp, return_counts=True)"
   ]
  },
  {
   "cell_type": "markdown",
   "metadata": {},
   "source": [
    "For Logistic Regression CV to work, we need to have at least 3 values for each target value.  That isn't a problem for the Catastrophic tier.  However, it is for the Platinum tier.  Since 15% is the highest amount, reducing it to 14% is acceptable.  This is because a company would want to advertise platinum plans in counties containing 13% or more anyway."
   ]
  },
  {
   "cell_type": "code",
   "execution_count": 8,
   "metadata": {},
   "outputs": [
    {
     "data": {
      "text/plain": [
       "(array([ 0,  1,  2,  3,  4,  5,  6,  7,  8,  9, 10, 11, 12, 13, 14]),\n",
       " array([3689,  277,  197,  153,   66,   42,   25,   26,   13,   14,   10,\n",
       "           7,    5,    3,    5], dtype=int64))"
      ]
     },
     "execution_count": 8,
     "metadata": {},
     "output_type": "execute_result"
    }
   ],
   "source": [
    "# Convert 15% to 14% in the platinum targets\n",
    "for n in range(len(yplatp)):\n",
    "    if yplatp[n] == 15:\n",
    "        yplatp[n]=14\n",
    "np.unique(yplatp, return_counts=True)"
   ]
  },
  {
   "cell_type": "code",
   "execution_count": 9,
   "metadata": {},
   "outputs": [
    {
     "data": {
      "text/plain": [
       "(array([ 0,  1,  2,  3,  4,  5,  6,  7,  8,  9, 10, 11, 12, 13, 14]),\n",
       " array([3689,  277,  197,  153,   66,   42,   25,   26,   13,   14,   10,\n",
       "           7,    5,    3,    5], dtype=int64))"
      ]
     },
     "execution_count": 9,
     "metadata": {},
     "output_type": "execute_result"
    }
   ],
   "source": [
    "np.unique(yplatp, return_counts=True)"
   ]
  },
  {
   "cell_type": "code",
   "execution_count": 20,
   "metadata": {},
   "outputs": [
    {
     "name": "stdout",
     "output_type": "stream",
     "text": [
      "Catastrophic Training Accuracy: 0.7676544766708702\n",
      "Catastrophic Test Accuracy: 0.7514705882352941\n"
     ]
    },
    {
     "name": "stderr",
     "output_type": "stream",
     "text": [
      "C:\\ProgramData\\Anaconda3\\lib\\site-packages\\sklearn\\utils\\optimize.py:203: ConvergenceWarning: newton-cg failed to converge. Increase the number of iterations.\n",
      "  \"number of iterations.\", ConvergenceWarning)\n"
     ]
    }
   ],
   "source": [
    "# Catastrophic Tier Unscaled With CV - Newton - CG\n",
    "X_train, X_test, y_train, y_test = train_test_split(Xp,ycatp, test_size=.3, random_state=42)\n",
    "n_log_cv.fit(X_train, y_train)\n",
    "train_acc = accuracy_score(y_train, n_log_cv.predict(X_train))\n",
    "test_acc = accuracy_score(y_test, n_log_cv.predict(X_test))\n",
    "print('Catastrophic Training Accuracy: {}'.format(train_acc))\n",
    "print('Catastrophic Test Accuracy: {}'.format(test_acc))"
   ]
  },
  {
   "cell_type": "code",
   "execution_count": 27,
   "metadata": {},
   "outputs": [
    {
     "name": "stdout",
     "output_type": "stream",
     "text": [
      "Catastrophic Training Accuracy: 0.7673392181588903\n",
      "Catastrophic Test Accuracy: 0.7522058823529412\n"
     ]
    }
   ],
   "source": [
    "# Catastrophic Tier Scaled With CV Newton - CG\n",
    "X_train, X_test, y_train, y_test = train_test_split(Xp,ycatp, test_size=.3, random_state=42)\n",
    "n_pipe_cv.fit(X_train, y_train)\n",
    "train_acc = accuracy_score(y_train, n_pipe_cv.predict(X_train))\n",
    "test_acc = accuracy_score(y_test, n_pipe_cv.predict(X_test))\n",
    "print('Catastrophic Training Accuracy: {}'.format(train_acc))\n",
    "print('Catastrophic Test Accuracy: {}'.format(test_acc))"
   ]
  },
  {
   "cell_type": "code",
   "execution_count": 22,
   "metadata": {},
   "outputs": [
    {
     "name": "stderr",
     "output_type": "stream",
     "text": [
      "C:\\ProgramData\\Anaconda3\\lib\\site-packages\\sklearn\\linear_model\\sag.py:326: ConvergenceWarning: The max_iter was reached which means the coef_ did not converge\n",
      "  \"the coef_ did not converge\", ConvergenceWarning)\n"
     ]
    },
    {
     "name": "stdout",
     "output_type": "stream",
     "text": [
      "Catastrophic Training Accuracy: 0.7440100882723834\n",
      "Catastrophic Test Accuracy: 0.7455882352941177\n"
     ]
    }
   ],
   "source": [
    "# Catastrophic Tier Scaled With CV SAGA\n",
    "X_train, X_test, y_train, y_test = train_test_split(Xp,ycatp, test_size=.3, random_state=42)\n",
    "saga_pipe_cv.fit(X_train, y_train)\n",
    "train_acc = accuracy_score(y_train, saga_pipe_cv.predict(X_train))\n",
    "test_acc = accuracy_score(y_test, saga_pipe_cv.predict(X_test))\n",
    "print('Catastrophic Training Accuracy: {}'.format(train_acc))\n",
    "print('Catastrophic Test Accuracy: {}'.format(test_acc))"
   ]
  },
  {
   "cell_type": "code",
   "execution_count": 10,
   "metadata": {},
   "outputs": [
    {
     "name": "stdout",
     "output_type": "stream",
     "text": [
      "Platinum Training Accuracy: 0.8297931034482758\n",
      "Platinum Test Accuracy: 0.8324145534729879\n"
     ]
    },
    {
     "name": "stderr",
     "output_type": "stream",
     "text": [
      "C:\\ProgramData\\Anaconda3\\lib\\site-packages\\sklearn\\utils\\optimize.py:203: ConvergenceWarning: newton-cg failed to converge. Increase the number of iterations.\n",
      "  \"number of iterations.\", ConvergenceWarning)\n"
     ]
    }
   ],
   "source": [
    "# Platinum Tier Unscaled With CV - Newton - CG\n",
    "X_train, X_test, y_train, y_test = train_test_split(Xp,yplatp, test_size=.2, random_state=42)\n",
    "n_log_cv.fit(X_train, y_train)\n",
    "train_acc = accuracy_score(y_train, n_log_cv.predict(X_train))\n",
    "test_acc = accuracy_score(y_test, n_log_cv.predict(X_test))\n",
    "print('Platinum Training Accuracy: {}'.format(train_acc))\n",
    "print('Platinum Test Accuracy: {}'.format(test_acc))"
   ]
  },
  {
   "cell_type": "code",
   "execution_count": 11,
   "metadata": {},
   "outputs": [
    {
     "name": "stdout",
     "output_type": "stream",
     "text": [
      "Platinum Training Accuracy: 0.8297931034482758\n",
      "Platinum Test Accuracy: 0.8335170893054025\n"
     ]
    }
   ],
   "source": [
    "# Platinum Tier Scaled With CV - Newton - CG\n",
    "X_train, X_test, y_train, y_test = train_test_split(Xp,yplatp, test_size=.2, random_state=42)\n",
    "n_pipe_cv.fit(X_train, y_train)\n",
    "train_acc = accuracy_score(y_train, n_pipe_cv.predict(X_train))\n",
    "test_acc = accuracy_score(y_test, n_pipe_cv.predict(X_test))\n",
    "print('Platinum Training Accuracy: {}'.format(train_acc))\n",
    "print('Platinum Test Accuracy: {}'.format(test_acc))"
   ]
  },
  {
   "cell_type": "code",
   "execution_count": 14,
   "metadata": {},
   "outputs": [
    {
     "name": "stderr",
     "output_type": "stream",
     "text": [
      "C:\\ProgramData\\Anaconda3\\lib\\site-packages\\sklearn\\linear_model\\sag.py:326: ConvergenceWarning: The max_iter was reached which means the coef_ did not converge\n",
      "  \"the coef_ did not converge\", ConvergenceWarning)\n"
     ]
    },
    {
     "name": "stdout",
     "output_type": "stream",
     "text": [
      "Platinum Training Accuracy: 0.8146206896551724\n",
      "Platinum Test Accuracy: 0.834619625137817\n"
     ]
    }
   ],
   "source": [
    "# Platinum Tier Scaled With CV - SAGA\n",
    "X_train, X_test, y_train, y_test = train_test_split(Xp,yplatp, test_size=.2, random_state=42)\n",
    "saga_pipe_cv.fit(X_train, y_train)\n",
    "train_acc = accuracy_score(y_train, saga_pipe_cv.predict(X_train))\n",
    "test_acc = accuracy_score(y_test, saga_pipe_cv.predict(X_test))\n",
    "print('Platinum Training Accuracy: {}'.format(train_acc))\n",
    "print('Platinum Test Accuracy: {}'.format(test_acc))\n"
   ]
  },
  {
   "cell_type": "markdown",
   "metadata": {},
   "source": [
    "The best model seems to be LogisticRegressionCV scaled using the Newton-CG Solver for both Catastrophic and Platinum tiers.  "
   ]
  }
 ],
 "metadata": {
  "kernelspec": {
   "display_name": "Python 3",
   "language": "python",
   "name": "python3"
  },
  "language_info": {
   "codemirror_mode": {
    "name": "ipython",
    "version": 3
   },
   "file_extension": ".py",
   "mimetype": "text/x-python",
   "name": "python",
   "nbconvert_exporter": "python",
   "pygments_lexer": "ipython3",
   "version": "3.6.3"
  },
  "notify_time": "10",
  "toc": {
   "nav_menu": {},
   "number_sections": true,
   "sideBar": true,
   "skip_h1_title": false,
   "toc_cell": false,
   "toc_position": {},
   "toc_section_display": "block",
   "toc_window_display": false
  },
  "varInspector": {
   "cols": {
    "lenName": 16,
    "lenType": 16,
    "lenVar": 40
   },
   "kernels_config": {
    "python": {
     "delete_cmd_postfix": "",
     "delete_cmd_prefix": "del ",
     "library": "var_list.py",
     "varRefreshCmd": "print(var_dic_list())"
    },
    "r": {
     "delete_cmd_postfix": ") ",
     "delete_cmd_prefix": "rm(",
     "library": "var_list.r",
     "varRefreshCmd": "cat(var_dic_list()) "
    }
   },
   "types_to_exclude": [
    "module",
    "function",
    "builtin_function_or_method",
    "instance",
    "_Feature"
   ],
   "window_display": false
  }
 },
 "nbformat": 4,
 "nbformat_minor": 2
}
